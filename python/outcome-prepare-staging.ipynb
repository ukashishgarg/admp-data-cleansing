{
 "cells": [
  {
   "cell_type": "markdown",
   "metadata": {},
   "source": [
    "# Outcome dataset pre-process before sending to Datawarehouse\n",
    "***"
   ]
  },
  {
   "cell_type": "markdown",
   "metadata": {},
   "source": [
    "## Import files "
   ]
  },
  {
   "cell_type": "code",
   "execution_count": 3,
   "metadata": {},
   "outputs": [],
   "source": [
    "# import all the libraries that require for project\n",
    "import pandas as pd\n",
    "import numpy as np\n",
    "import matplotlib\n",
    "import matplotlib.pyplot as plt\n",
    "import os"
   ]
  },
  {
   "cell_type": "markdown",
   "metadata": {},
   "source": [
    "## Globals"
   ]
  },
  {
   "cell_type": "code",
   "execution_count": 4,
   "metadata": {},
   "outputs": [],
   "source": [
    "# define paths\n",
    "INPUT_PATH = \"C://SHU/ADMP/Assessment_02/londoncrimedw_project/input_csv/\"\n",
    "OUTPUT_PATH = \"C://SHU/ADMP/Assessment_02/londoncrimedw_project/output_csv/\"\n",
    "\n",
    "# create variables to store the datasets name you want to use\n",
    "OUTCOME_FILENAME = \"outcome_london.csv\"\n",
    "LONDON_BOROUGH_FILENAME = \"london_boroughs.csv\""
   ]
  },
  {
   "cell_type": "markdown",
   "metadata": {},
   "source": [
    "## Functions"
   ]
  },
  {
   "cell_type": "code",
   "execution_count": 5,
   "metadata": {},
   "outputs": [],
   "source": [
    "class FILESIZE:\n",
    "    SMALL = 1\n",
    "    LARGE = 2\n",
    "    \n",
    "def read_csv_file(fileType, fileName):\n",
    "    if (fileType == FILESIZE.SMALL):\n",
    "        df_ret = pd.read_csv(fileName)\n",
    "    else:\n",
    "        # read the large csv file with specified chunksize of 10 million records\n",
    "        df_chunk = pd.read_csv(fileName, chunksize=1000000)\n",
    "\n",
    "        # append each chunk df here\n",
    "        chunk_list = []   \n",
    "\n",
    "        # each chunk is in df format\n",
    "        for chunk in df_chunk:    \n",
    "            # once the data filtering is done, append the chunk to list\n",
    "            chunk_list.append(chunk)\n",
    "\n",
    "        # concat the list into dataframe \n",
    "        df_ret = pd.concat(chunk_list)\n",
    "        \n",
    "    return df_ret"
   ]
  },
  {
   "cell_type": "markdown",
   "metadata": {},
   "source": [
    "## Read CSV file"
   ]
  },
  {
   "cell_type": "code",
   "execution_count": 6,
   "metadata": {},
   "outputs": [],
   "source": [
    "# set a working directory to the location where input dataset csv file exist\n",
    "os.chdir(INPUT_PATH)\n",
    "\n",
    "# load dataframe with outcome data from CSV file \n",
    "outcome_df = read_csv_file(FILESIZE.LARGE, OUTCOME_FILENAME)"
   ]
  },
  {
   "cell_type": "markdown",
   "metadata": {},
   "source": [
    "## Do sorting on month basis\n",
    "Outcome dataset sorting on the Month basis is require to bring latest updated outcome on the top for each crime ids and rest will lie beneath. This is important step because only the latest records are going to retain and all previous/historical outcome update would be deleted. "
   ]
  },
  {
   "cell_type": "code",
   "execution_count": 7,
   "metadata": {},
   "outputs": [
    {
     "data": {
      "text/html": [
       "<div>\n",
       "<style scoped>\n",
       "    .dataframe tbody tr th:only-of-type {\n",
       "        vertical-align: middle;\n",
       "    }\n",
       "\n",
       "    .dataframe tbody tr th {\n",
       "        vertical-align: top;\n",
       "    }\n",
       "\n",
       "    .dataframe thead th {\n",
       "        text-align: right;\n",
       "    }\n",
       "</style>\n",
       "<table border=\"1\" class=\"dataframe\">\n",
       "  <thead>\n",
       "    <tr style=\"text-align: right;\">\n",
       "      <th></th>\n",
       "      <th>Crime_ID</th>\n",
       "      <th>Month</th>\n",
       "      <th>Reported_by</th>\n",
       "      <th>Falls_within</th>\n",
       "      <th>Longitude</th>\n",
       "      <th>Latitude</th>\n",
       "      <th>Location</th>\n",
       "      <th>LSOA_code</th>\n",
       "      <th>LSOA_name</th>\n",
       "      <th>Outcome_type</th>\n",
       "    </tr>\n",
       "  </thead>\n",
       "  <tbody>\n",
       "    <tr>\n",
       "      <th>645183</th>\n",
       "      <td>3b60aed0ce6c29f63a00e44822492dcdc419b68a0974e5...</td>\n",
       "      <td>2018-03</td>\n",
       "      <td>Metropolitan Police Service</td>\n",
       "      <td>Metropolitan Police Service</td>\n",
       "      <td>-0.030748</td>\n",
       "      <td>51.367789</td>\n",
       "      <td>On or near SHRUBLANDS AVENUE</td>\n",
       "      <td>E01001128</td>\n",
       "      <td>Croydon 025B</td>\n",
       "      <td>Defendant found not guilty</td>\n",
       "    </tr>\n",
       "    <tr>\n",
       "      <th>648225</th>\n",
       "      <td>3b60aed0ce6c29f63a00e44822492dcdc419b68a0974e5...</td>\n",
       "      <td>2018-03</td>\n",
       "      <td>Metropolitan Police Service</td>\n",
       "      <td>Metropolitan Police Service</td>\n",
       "      <td>-0.030748</td>\n",
       "      <td>51.367789</td>\n",
       "      <td>On or near SHRUBLANDS AVENUE</td>\n",
       "      <td>E01001128</td>\n",
       "      <td>Croydon 025B</td>\n",
       "      <td>Offender given community sentence</td>\n",
       "    </tr>\n",
       "  </tbody>\n",
       "</table>\n",
       "</div>"
      ],
      "text/plain": [
       "                                                 Crime_ID    Month  \\\n",
       "645183  3b60aed0ce6c29f63a00e44822492dcdc419b68a0974e5...  2018-03   \n",
       "648225  3b60aed0ce6c29f63a00e44822492dcdc419b68a0974e5...  2018-03   \n",
       "\n",
       "                        Reported_by                 Falls_within  Longitude  \\\n",
       "645183  Metropolitan Police Service  Metropolitan Police Service  -0.030748   \n",
       "648225  Metropolitan Police Service  Metropolitan Police Service  -0.030748   \n",
       "\n",
       "         Latitude                      Location  LSOA_code     LSOA_name  \\\n",
       "645183  51.367789  On or near SHRUBLANDS AVENUE  E01001128  Croydon 025B   \n",
       "648225  51.367789  On or near SHRUBLANDS AVENUE  E01001128  Croydon 025B   \n",
       "\n",
       "                             Outcome_type  \n",
       "645183         Defendant found not guilty  \n",
       "648225  Offender given community sentence  "
      ]
     },
     "execution_count": 7,
     "metadata": {},
     "output_type": "execute_result"
    }
   ],
   "source": [
    "# Sort the outcome data frame with Month column in descending order to get the latest crime id entry on top\n",
    "outcome_df = outcome_df.sort_values(by='Month', ascending=False)\n",
    "\n",
    "# Test if the latest crime id is appearing on the top \n",
    "outcome_df[outcome_df.Crime_ID == ('3b60aed0ce6c29f63a00e44822492dcdc419b68a0974e53e6884359dc2aec1aa')].sort_values(by='Month', ascending=False).head(2)"
   ]
  },
  {
   "cell_type": "markdown",
   "metadata": {},
   "source": [
    "## Remove duplicate Crime IDs so that only the recent outcome update will be availble in the dataset"
   ]
  },
  {
   "cell_type": "code",
   "execution_count": 8,
   "metadata": {},
   "outputs": [],
   "source": [
    "# Remove all the duplicate records except first instance of it\n",
    "outcome_df = outcome_df.drop_duplicates(subset='Crime_ID', keep='first')"
   ]
  },
  {
   "cell_type": "markdown",
   "metadata": {},
   "source": [
    "## Rename 'Outcome_type' column to 'Latest_Outcome_type' for better readability"
   ]
  },
  {
   "cell_type": "code",
   "execution_count": 9,
   "metadata": {},
   "outputs": [],
   "source": [
    "# Rename the Outcome_type to Latest_outcome_type\n",
    "outcome_df.rename(columns = {'Outcome_type':'Latest_Outcome_type'}, inplace = True)"
   ]
  },
  {
   "cell_type": "markdown",
   "metadata": {},
   "source": [
    "## Extract just the required columns from the outcome dataset"
   ]
  },
  {
   "cell_type": "code",
   "execution_count": 11,
   "metadata": {},
   "outputs": [],
   "source": [
    "# Need only two columns from the dataset and hence extract the required ones\n",
    "outcome_df = outcome_df[['Crime_ID','Latest_Outcome_type']]"
   ]
  },
  {
   "cell_type": "markdown",
   "metadata": {},
   "source": [
    "## Save processed dataframe to csv file in the output path location"
   ]
  },
  {
   "cell_type": "code",
   "execution_count": 12,
   "metadata": {},
   "outputs": [],
   "source": [
    "outcome_df.to_csv(OUTPUT_PATH+\"outcome-staging-data.csv\", sep=',', encoding='utf-8', index=None, header = True)"
   ]
  }
 ],
 "metadata": {
  "kernelspec": {
   "display_name": "Python 3",
   "language": "python",
   "name": "python3"
  },
  "language_info": {
   "codemirror_mode": {
    "name": "ipython",
    "version": 3
   },
   "file_extension": ".py",
   "mimetype": "text/x-python",
   "name": "python",
   "nbconvert_exporter": "python",
   "pygments_lexer": "ipython3",
   "version": "3.7.4"
  }
 },
 "nbformat": 4,
 "nbformat_minor": 2
}
