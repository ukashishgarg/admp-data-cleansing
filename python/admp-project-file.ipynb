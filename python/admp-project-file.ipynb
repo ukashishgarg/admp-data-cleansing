{
 "cells": [
  {
   "cell_type": "markdown",
   "metadata": {},
   "source": [
    "# London Region Crime Analysis - ADMP Team 04"
   ]
  },
  {
   "cell_type": "markdown",
   "metadata": {},
   "source": [
    "## Data Processing - For STREET DATASET\n",
    "### Data extraction\n",
    "During this step we are extracting different dataset files which we have obtained from the multiple sources. Here we are using three datasets: \n",
    "1. street_LondonRegion \n",
    "2. crime_output_LondonRegion\n",
    "3. borough_LondonRegion\n"
   ]
  },
  {
   "cell_type": "code",
<<<<<<< HEAD
   "execution_count": 1,
=======
   "execution_count": 40,
>>>>>>> c56ceaba03c0fe26f665322f583f77c9e356d270
   "metadata": {},
   "outputs": [],
   "source": [
    "# import all the libraries that require here\n",
    "import pandas as pd\n",
    "import numpy as np\n",
    "import matplotlib\n",
    "import matplotlib.pyplot as plt\n",
    "import os\n",
    "\n",
    "# define paths\n",
    "input_path = \"C://SHU/ADMP/Assessment_02/DataSet/csv_files\"\n",
    "output_path = \"C://SHU/ADMP/Assessment_02/DataSet/csv_samples/\"\n",
    "\n",
    "# set a working directory to the location where dataset exist\n",
    "os.chdir(input_path)\n",
    "\n",
    "# create variables to store the datasets name you want to use\n",
    "street_csv = \"street_london.csv\"\n",
    "outcome_csv = \"outcome_london.csv\" \n",
    "borough_csv = \"london_boroughs.csv\""
   ]
  },
  {
   "cell_type": "code",
<<<<<<< HEAD
   "execution_count": 2,
=======
   "execution_count": 41,
>>>>>>> c56ceaba03c0fe26f665322f583f77c9e356d270
   "metadata": {},
   "outputs": [],
   "source": [
    "class FILESIZE:\n",
    "    SMALL = 1\n",
    "    LARGE = 2\n",
    "    \n",
    "def read_csv_file(fileType, fileName):\n",
    "    if (fileType == FILESIZE.SMALL):\n",
    "        df_ret = pd.read_csv(fileName)\n",
    "    else:\n",
    "        # read the large csv file with specified chunksize of 10 million records\n",
    "        df_chunk = pd.read_csv(fileName, chunksize=1000000)\n",
    "\n",
    "        # append each chunk df here\n",
    "        chunk_list = []   \n",
    "\n",
    "        # each chunk is in df format\n",
    "        for chunk in df_chunk:    \n",
    "            # once the data filtering is done, append the chunk to list\n",
    "            chunk_list.append(chunk)\n",
    "\n",
    "        # concat the list into dataframe \n",
    "        df_ret = pd.concat(chunk_list)\n",
    "        \n",
    "    return df_ret"
   ]
  },
  {
   "cell_type": "markdown",
   "metadata": {},
   "source": [
    "#### Populate Dataframe with the data from CSV files"
   ]
  },
  {
   "cell_type": "code",
<<<<<<< HEAD
   "execution_count": 3,
=======
   "execution_count": 42,
>>>>>>> c56ceaba03c0fe26f665322f583f77c9e356d270
   "metadata": {},
   "outputs": [],
   "source": [
    "street_df = read_csv_file(FILESIZE.LARGE, street_csv)\n",
    "london_borough_df = read_csv_file(FILESIZE.SMALL, borough_csv)"
   ]
  },
  {
   "cell_type": "code",
   "execution_count": 7,
   "metadata": {},
   "outputs": [
    {
     "data": {
      "text/plain": [
       "7509"
      ]
     },
     "execution_count": 7,
     "metadata": {},
     "output_type": "execute_result"
    }
   ],
   "source": [
<<<<<<< HEAD
    "## Data Exploration"
=======
    "# Get all the unique LSOA_code \n",
    "len(street_df.LSOA_code.unique())"
>>>>>>> c56ceaba03c0fe26f665322f583f77c9e356d270
   ]
  },
  {
   "cell_type": "code",
<<<<<<< HEAD
   "execution_count": 4,
   "metadata": {},
   "outputs": [
    {
     "name": "stdout",
     "output_type": "stream",
     "text": [
      "<class 'pandas.core.frame.DataFrame'>\n",
      "RangeIndex: 3229932 entries, 0 to 3229931\n",
      "Data columns (total 12 columns):\n",
      " #   Column                 Dtype  \n",
      "---  ------                 -----  \n",
      " 0   Crime_ID               object \n",
      " 1   Month                  object \n",
      " 2   Reported_by            object \n",
      " 3   Falls_within           object \n",
      " 4   Longitude              float64\n",
      " 5   Latitude               float64\n",
      " 6   Location               object \n",
      " 7   LSOA_code              object \n",
      " 8   LSOA_name              object \n",
      " 9   Crime_type             object \n",
      " 10  Last_outcome_category  object \n",
      " 11  Context                float64\n",
      "dtypes: float64(3), object(9)\n",
      "memory usage: 295.7+ MB\n"
     ]
    }
   ],
   "source": [
    "# Explore the size of the dataset (Number of rows and columns)\n",
    "street_size = street_df.shape\n",
    "\n",
    "# Explore the structure of the dataset (Columns and their data types)\n",
    "street_structure = street_df.info()\n",
    "\n",
    "# Summarize the dataset to understand statistics and data types\n",
    "street_summary = street_df.describe()\n",
    "\n",
    "# View top records \n",
    "street_view_top_records = street_df.head()"
   ]
  },
  {
   "cell_type": "code",
   "execution_count": 8,
   "metadata": {},
   "outputs": [
    {
     "data": {
      "text/plain": [
       "(3229932, 12)"
=======
   "execution_count": 8,
   "metadata": {},
   "outputs": [
    {
     "data": {
      "text/plain": [
       "3189476"
>>>>>>> c56ceaba03c0fe26f665322f583f77c9e356d270
      ]
     },
     "execution_count": 8,
     "metadata": {},
     "output_type": "execute_result"
    }
   ],
   "source": [
<<<<<<< HEAD
    "street_size"
   ]
  },
  {
   "cell_type": "code",
   "execution_count": 7,
   "metadata": {},
   "outputs": [
    {
     "data": {
      "text/plain": [
       "7509"
      ]
     },
     "execution_count": 7,
     "metadata": {},
     "output_type": "execute_result"
    }
   ],
   "source": [
    "# Get all the unique LSOA_code \n",
    "len(street_df.LSOA_code.unique())"
=======
    "# Get the number of records that do not have null values \n",
    "street_df.LSOA_code[street_df.LSOA_code.isnull() == False].value_counts().sum()"
>>>>>>> c56ceaba03c0fe26f665322f583f77c9e356d270
   ]
  },
  {
   "cell_type": "code",
   "execution_count": 9,
   "metadata": {},
   "outputs": [
    {
     "data": {
      "text/plain": [
<<<<<<< HEAD
       "3189476"
=======
       "(40456, 12)"
>>>>>>> c56ceaba03c0fe26f665322f583f77c9e356d270
      ]
     },
     "execution_count": 9,
     "metadata": {},
     "output_type": "execute_result"
    }
   ],
   "source": [
<<<<<<< HEAD
    "# Get the number of records that have the location details\n",
    "street_df.LSOA_code[street_df.LSOA_code.isnull() == False].value_counts().sum()"
   ]
  },
  {
   "cell_type": "code",
   "execution_count": 16,
   "metadata": {},
   "outputs": [
    {
     "ename": "AttributeError",
     "evalue": "'DataFrame' object has no attribute 'value_counts'",
     "output_type": "error",
     "traceback": [
      "\u001b[1;31m---------------------------------------------------------------------------\u001b[0m",
      "\u001b[1;31mAttributeError\u001b[0m                            Traceback (most recent call last)",
      "\u001b[1;32m<ipython-input-16-89bec1bfded6>\u001b[0m in \u001b[0;36m<module>\u001b[1;34m\u001b[0m\n\u001b[0;32m      1\u001b[0m \u001b[1;31m# Get the number of records that do not have the location details\u001b[0m\u001b[1;33m\u001b[0m\u001b[1;33m\u001b[0m\u001b[1;33m\u001b[0m\u001b[0m\n\u001b[1;32m----> 2\u001b[1;33m \u001b[0mstreet_df\u001b[0m\u001b[1;33m[\u001b[0m\u001b[0mstreet_df\u001b[0m\u001b[1;33m.\u001b[0m\u001b[0mLSOA_code\u001b[0m\u001b[1;33m.\u001b[0m\u001b[0misnull\u001b[0m\u001b[1;33m(\u001b[0m\u001b[1;33m)\u001b[0m \u001b[1;33m==\u001b[0m \u001b[1;32mTrue\u001b[0m\u001b[1;33m]\u001b[0m\u001b[1;33m.\u001b[0m\u001b[0mvalue_counts\u001b[0m\u001b[1;33m(\u001b[0m\u001b[1;33m)\u001b[0m\u001b[1;33m.\u001b[0m\u001b[0msum\u001b[0m\u001b[1;33m(\u001b[0m\u001b[1;33m)\u001b[0m\u001b[1;33m\u001b[0m\u001b[1;33m\u001b[0m\u001b[0m\n\u001b[0m",
      "\u001b[1;32m~\\Anaconda3\\lib\\site-packages\\pandas\\core\\generic.py\u001b[0m in \u001b[0;36m__getattr__\u001b[1;34m(self, name)\u001b[0m\n\u001b[0;32m   5272\u001b[0m             \u001b[1;32mif\u001b[0m \u001b[0mself\u001b[0m\u001b[1;33m.\u001b[0m\u001b[0m_info_axis\u001b[0m\u001b[1;33m.\u001b[0m\u001b[0m_can_hold_identifiers_and_holds_name\u001b[0m\u001b[1;33m(\u001b[0m\u001b[0mname\u001b[0m\u001b[1;33m)\u001b[0m\u001b[1;33m:\u001b[0m\u001b[1;33m\u001b[0m\u001b[1;33m\u001b[0m\u001b[0m\n\u001b[0;32m   5273\u001b[0m                 \u001b[1;32mreturn\u001b[0m \u001b[0mself\u001b[0m\u001b[1;33m[\u001b[0m\u001b[0mname\u001b[0m\u001b[1;33m]\u001b[0m\u001b[1;33m\u001b[0m\u001b[1;33m\u001b[0m\u001b[0m\n\u001b[1;32m-> 5274\u001b[1;33m             \u001b[1;32mreturn\u001b[0m \u001b[0mobject\u001b[0m\u001b[1;33m.\u001b[0m\u001b[0m__getattribute__\u001b[0m\u001b[1;33m(\u001b[0m\u001b[0mself\u001b[0m\u001b[1;33m,\u001b[0m \u001b[0mname\u001b[0m\u001b[1;33m)\u001b[0m\u001b[1;33m\u001b[0m\u001b[1;33m\u001b[0m\u001b[0m\n\u001b[0m\u001b[0;32m   5275\u001b[0m \u001b[1;33m\u001b[0m\u001b[0m\n\u001b[0;32m   5276\u001b[0m     \u001b[1;32mdef\u001b[0m \u001b[0m__setattr__\u001b[0m\u001b[1;33m(\u001b[0m\u001b[0mself\u001b[0m\u001b[1;33m,\u001b[0m \u001b[0mname\u001b[0m\u001b[1;33m:\u001b[0m \u001b[0mstr\u001b[0m\u001b[1;33m,\u001b[0m \u001b[0mvalue\u001b[0m\u001b[1;33m)\u001b[0m \u001b[1;33m->\u001b[0m \u001b[1;32mNone\u001b[0m\u001b[1;33m:\u001b[0m\u001b[1;33m\u001b[0m\u001b[1;33m\u001b[0m\u001b[0m\n",
      "\u001b[1;31mAttributeError\u001b[0m: 'DataFrame' object has no attribute 'value_counts'"
     ]
    }
   ],
   "source": [
    "# Get the number of records that do not have the location details\n",
    "street_df[street_df.LSOA_code.isnull() == True].value_counts().sum()"
   ]
  },
  {
   "cell_type": "code",
   "execution_count": 22,
   "metadata": {},
   "outputs": [
    {
     "data": {
      "text/plain": [
       "No Location    40456\n",
       "Name: Location, dtype: int64"
      ]
     },
     "execution_count": 22,
     "metadata": {},
     "output_type": "execute_result"
    }
   ],
   "source": [
    "# Get the shape of records which is having no location\n",
    "# street_df[street_df.Location == 'No Location'].shape\n",
    "\n",
    "# Get the number of records that do not have the location details\n",
    "street_df.Location[street_df.Location == 'No Location'].value_counts()\n",
    "\n",
    "# Get the number of records that have the location details\n",
    "street_df.Location[street_df.Location != 'No Location'].value_counts().sum()"
=======
    "# Get the shape of records which is having no location\n",
    "street_df[street_df.Location == 'No Location'].shape"
>>>>>>> c56ceaba03c0fe26f665322f583f77c9e356d270
   ]
  },
  {
   "cell_type": "markdown",
   "metadata": {},
   "source": [
    "# Data Processing\n",
    "## STEP01: Perform Exploratory Data Analysis (EDA)\n",
    "Understand structure of the datasets before any pre-processing"
   ]
  },
  {
   "cell_type": "code",
   "execution_count": 10,
   "metadata": {},
   "outputs": [
    {
     "data": {
      "text/html": [
       "<div>\n",
       "<style scoped>\n",
       "    .dataframe tbody tr th:only-of-type {\n",
       "        vertical-align: middle;\n",
       "    }\n",
       "\n",
       "    .dataframe tbody tr th {\n",
       "        vertical-align: top;\n",
       "    }\n",
       "\n",
       "    .dataframe thead th {\n",
       "        text-align: right;\n",
       "    }\n",
       "</style>\n",
       "<table border=\"1\" class=\"dataframe\">\n",
       "  <thead>\n",
       "    <tr style=\"text-align: right;\">\n",
       "      <th></th>\n",
       "      <th>Crime_ID</th>\n",
       "      <th>Month</th>\n",
       "      <th>Reported_by</th>\n",
       "      <th>Falls_within</th>\n",
       "      <th>Longitude</th>\n",
       "      <th>Latitude</th>\n",
       "      <th>Location</th>\n",
       "      <th>LSOA_code</th>\n",
       "      <th>LSOA_name</th>\n",
       "      <th>Crime_type</th>\n",
       "      <th>Last_outcome_category</th>\n",
       "      <th>Context</th>\n",
       "    </tr>\n",
       "  </thead>\n",
       "  <tbody>\n",
       "    <tr>\n",
       "      <th>0</th>\n",
       "      <td>04f04430a130fa6aa5a5c6ef1021a942c16cca642529dc...</td>\n",
       "      <td>2019-12</td>\n",
       "      <td>City of London Police</td>\n",
       "      <td>City of London Police</td>\n",
       "      <td>NaN</td>\n",
       "      <td>NaN</td>\n",
       "      <td>No Location</td>\n",
       "      <td>NaN</td>\n",
       "      <td>NaN</td>\n",
       "      <td>Violence and sexual offences</td>\n",
       "      <td>Under investigation</td>\n",
       "      <td>NaN</td>\n",
       "    </tr>\n",
       "    <tr>\n",
       "      <th>1</th>\n",
       "      <td>e1bc0b282acfa132e77dadc63efed5a0d22ea969f39e72...</td>\n",
       "      <td>2019-12</td>\n",
       "      <td>City of London Police</td>\n",
       "      <td>City of London Police</td>\n",
       "      <td>NaN</td>\n",
       "      <td>NaN</td>\n",
       "      <td>No Location</td>\n",
       "      <td>NaN</td>\n",
       "      <td>NaN</td>\n",
       "      <td>Violence and sexual offences</td>\n",
       "      <td>Under investigation</td>\n",
       "      <td>NaN</td>\n",
       "    </tr>\n",
       "    <tr>\n",
       "      <th>2</th>\n",
       "      <td>c55afa311916b68a3a3b8ac25ba37d4fcbfbb8ceb7a315...</td>\n",
       "      <td>2019-12</td>\n",
       "      <td>City of London Police</td>\n",
       "      <td>City of London Police</td>\n",
       "      <td>NaN</td>\n",
       "      <td>NaN</td>\n",
       "      <td>No Location</td>\n",
       "      <td>NaN</td>\n",
       "      <td>NaN</td>\n",
       "      <td>Violence and sexual offences</td>\n",
       "      <td>Under investigation</td>\n",
       "      <td>NaN</td>\n",
       "    </tr>\n",
       "    <tr>\n",
       "      <th>3</th>\n",
       "      <td>95cb59cbe07660643794f3286e3e177dd1c99e907aae55...</td>\n",
       "      <td>2019-12</td>\n",
       "      <td>City of London Police</td>\n",
       "      <td>City of London Police</td>\n",
       "      <td>NaN</td>\n",
       "      <td>NaN</td>\n",
       "      <td>No Location</td>\n",
       "      <td>NaN</td>\n",
       "      <td>NaN</td>\n",
       "      <td>Violence and sexual offences</td>\n",
       "      <td>Under investigation</td>\n",
       "      <td>NaN</td>\n",
       "    </tr>\n",
       "    <tr>\n",
       "      <th>4</th>\n",
       "      <td>03f070e00ef7b4e299c95a5f4e2c956587b2748e3380a3...</td>\n",
       "      <td>2019-12</td>\n",
       "      <td>City of London Police</td>\n",
       "      <td>City of London Police</td>\n",
       "      <td>NaN</td>\n",
       "      <td>NaN</td>\n",
       "      <td>No Location</td>\n",
       "      <td>NaN</td>\n",
       "      <td>NaN</td>\n",
       "      <td>Violence and sexual offences</td>\n",
       "      <td>Under investigation</td>\n",
       "      <td>NaN</td>\n",
       "    </tr>\n",
       "  </tbody>\n",
       "</table>\n",
       "</div>"
      ],
      "text/plain": [
       "                                            Crime_ID    Month  \\\n",
       "0  04f04430a130fa6aa5a5c6ef1021a942c16cca642529dc...  2019-12   \n",
       "1  e1bc0b282acfa132e77dadc63efed5a0d22ea969f39e72...  2019-12   \n",
       "2  c55afa311916b68a3a3b8ac25ba37d4fcbfbb8ceb7a315...  2019-12   \n",
       "3  95cb59cbe07660643794f3286e3e177dd1c99e907aae55...  2019-12   \n",
       "4  03f070e00ef7b4e299c95a5f4e2c956587b2748e3380a3...  2019-12   \n",
       "\n",
       "             Reported_by           Falls_within  Longitude  Latitude  \\\n",
       "0  City of London Police  City of London Police        NaN       NaN   \n",
       "1  City of London Police  City of London Police        NaN       NaN   \n",
       "2  City of London Police  City of London Police        NaN       NaN   \n",
       "3  City of London Police  City of London Police        NaN       NaN   \n",
       "4  City of London Police  City of London Police        NaN       NaN   \n",
       "\n",
       "      Location LSOA_code LSOA_name                    Crime_type  \\\n",
       "0  No Location       NaN       NaN  Violence and sexual offences   \n",
       "1  No Location       NaN       NaN  Violence and sexual offences   \n",
       "2  No Location       NaN       NaN  Violence and sexual offences   \n",
       "3  No Location       NaN       NaN  Violence and sexual offences   \n",
       "4  No Location       NaN       NaN  Violence and sexual offences   \n",
       "\n",
       "  Last_outcome_category  Context  \n",
       "0   Under investigation      NaN  \n",
       "1   Under investigation      NaN  \n",
       "2   Under investigation      NaN  \n",
       "3   Under investigation      NaN  \n",
       "4   Under investigation      NaN  "
      ]
     },
     "execution_count": 10,
     "metadata": {},
     "output_type": "execute_result"
    }
   ],
   "source": [
    "# get the top 5 rows of the street data to understand it's structure and data\n",
    "street_df.head()"
   ]
  },
  {
   "cell_type": "code",
   "execution_count": 11,
   "metadata": {},
   "outputs": [
    {
     "name": "stdout",
     "output_type": "stream",
     "text": [
      "Total number of records: 3229932\n",
      "Total number of columns: 12\n"
     ]
    }
   ],
   "source": [
    "# check the dimensions of street dataset \n",
    "shape_of_street_df = street_df.shape\n",
    "print('Total number of records:', shape_of_street_df[0])\n",
    "print('Total number of columns:', shape_of_street_df[1])"
   ]
  },
  {
   "cell_type": "code",
   "execution_count": 12,
   "metadata": {},
   "outputs": [
    {
     "name": "stdout",
     "output_type": "stream",
     "text": [
      "<class 'pandas.core.frame.DataFrame'>\n",
      "RangeIndex: 3229932 entries, 0 to 3229931\n",
      "Data columns (total 12 columns):\n",
      " #   Column                 Dtype  \n",
      "---  ------                 -----  \n",
      " 0   Crime_ID               object \n",
      " 1   Month                  object \n",
      " 2   Reported_by            object \n",
      " 3   Falls_within           object \n",
      " 4   Longitude              float64\n",
      " 5   Latitude               float64\n",
      " 6   Location               object \n",
      " 7   LSOA_code              object \n",
      " 8   LSOA_name              object \n",
      " 9   Crime_type             object \n",
      " 10  Last_outcome_category  object \n",
      " 11  Context                float64\n",
      "dtypes: float64(3), object(9)\n",
      "memory usage: 295.7+ MB\n"
     ]
    }
   ],
   "source": [
    "#Let's peek at the information regarding the street features.\n",
    "street_df.info()"
   ]
  },
  {
   "cell_type": "markdown",
   "metadata": {},
   "source": [
    "## STEP 02: Identify NULL/Missing values"
   ]
  },
  {
   "cell_type": "code",
   "execution_count": 13,
   "metadata": {},
   "outputs": [
    {
     "data": {
      "text/plain": [
       "Crime_ID                  689612\n",
       "Month                          0\n",
       "Reported_by                    0\n",
       "Falls_within                   0\n",
       "Longitude                  40456\n",
       "Latitude                   40456\n",
       "Location                       0\n",
       "LSOA_code                  40456\n",
       "LSOA_name                  40456\n",
       "Crime_type                     0\n",
       "Last_outcome_category     689612\n",
       "Context                  3229932\n",
       "dtype: int64"
      ]
     },
     "execution_count": 13,
     "metadata": {},
     "output_type": "execute_result"
    }
   ],
   "source": [
    "# Check if their are any missing values exist in the street dataframe\n",
    "street_df.isna().sum() # street_df.isnull().sum()"
   ]
  },
  {
   "cell_type": "markdown",
   "metadata": {},
   "source": [
    "### Handle NULL/Missing Values\n",
    "1. CrimeID is not suppose to have the null value as it should have one. Without that record will be invalid. \n",
    "2. Location data (Longitude, Latitude) will be imputed with 0\n",
    "3. Street Address data (LSOA_code and LSOA_name) will be imputed with 'Not Available' text"
   ]
  },
  {
   "cell_type": "code",
<<<<<<< HEAD
   "execution_count": 5,
=======
   "execution_count": 43,
>>>>>>> c56ceaba03c0fe26f665322f583f77c9e356d270
   "metadata": {},
   "outputs": [],
   "source": [
    "# 01. Crime_ID: Remove null records from the street data frame.\n",
    "street_df = street_df[street_df.Crime_ID.isnull() == False]\n",
    "\n",
    "# 02. Longitude, Latitude: Fill missing values with 0\n",
    "street_df.Longitude.fillna(0, inplace=True)\n",
    "street_df.Latitude.fillna(0, inplace=True)\n",
    "\n",
    "# 03. LSOA_code, LSOA_name: Fill missing values with 'Not Available' text\n",
    "street_df.LSOA_code.fillna('Not Available', inplace=True)\n",
    "street_df.LSOA_name.fillna('Not Available', inplace=True)\n",
    "\n",
    "# 04. Last_outcome_category: Fill missing values with 'Not Available' text\n",
    "street_df.Last_outcome_category.fillna('Not Available', inplace=True)\n",
    "\n",
    "# 05. Context: Drop it as all fields are empty here. Hence, no significance\n",
    "street_df = street_df.drop(['Context'], axis=1)"
   ]
  },
  {
   "cell_type": "code",
   "execution_count": 5,
   "metadata": {},
   "outputs": [
    {
     "data": {
      "text/plain": [
       "Crime_ID                 0\n",
       "Month                    0\n",
       "Reported_by              0\n",
       "Falls_within             0\n",
       "Longitude                0\n",
       "Latitude                 0\n",
       "Location                 0\n",
       "LSOA_code                0\n",
       "LSOA_name                0\n",
       "Crime_type               0\n",
       "Last_outcome_category    0\n",
       "dtype: int64"
      ]
     },
     "execution_count": 5,
     "metadata": {},
     "output_type": "execute_result"
    }
   ],
   "source": [
    "# Check if still null/missing value exist\n",
    "street_df.isna().sum() "
   ]
  },
  {
   "cell_type": "code",
   "execution_count": 16,
   "metadata": {},
   "outputs": [
    {
     "data": {
      "text/plain": [
       "(2540320, 11)"
      ]
     },
     "execution_count": 16,
     "metadata": {},
     "output_type": "execute_result"
    }
   ],
   "source": [
    "# Check the shape of the data frame post missing values cleanup activity\n",
    "street_df.shape"
   ]
  },
  {
   "cell_type": "markdown",
   "metadata": {},
   "source": [
    "## STEP 03: Data Transformation/Addition/Deletion"
   ]
  },
  {
   "cell_type": "markdown",
   "metadata": {},
   "source": [
    "### Delete columns which are of not much significance\n",
    "'Reported_by' column is not useful and hence drop it"
   ]
  },
  {
   "cell_type": "code",
<<<<<<< HEAD
   "execution_count": 6,
=======
   "execution_count": 44,
>>>>>>> c56ceaba03c0fe26f665322f583f77c9e356d270
   "metadata": {},
   "outputs": [],
   "source": [
    "# drop Reported_by column from the dataset \n",
    "street_df = street_df.drop(['Reported_by'], axis=1)"
   ]
  },
  {
   "cell_type": "code",
   "execution_count": 18,
   "metadata": {},
   "outputs": [
    {
     "data": {
      "text/plain": [
       "(2540320, 10)"
      ]
     },
     "execution_count": 18,
     "metadata": {},
     "output_type": "execute_result"
    }
   ],
   "source": [
    "# Check the shape of the data frame post dropping 'Reported_by' column\n",
    "street_df.shape"
   ]
  },
  {
   "cell_type": "markdown",
   "metadata": {},
   "source": [
    "### Derive new column for Borough_name from LSOA_name"
   ]
  },
  {
   "cell_type": "code",
<<<<<<< HEAD
   "execution_count": 7,
=======
   "execution_count": 45,
>>>>>>> c56ceaba03c0fe26f665322f583f77c9e356d270
   "metadata": {},
   "outputs": [],
   "source": [
    "# remove last 5 characters from the LSOA_name (4 code and 1 space)\n",
    "street_df['Borough_name'] = street_df.LSOA_name[(street_df.LSOA_name.isnull()==False)].str[:-5]"
   ]
  },
  {
   "cell_type": "code",
<<<<<<< HEAD
   "execution_count": 11,
=======
   "execution_count": 20,
>>>>>>> c56ceaba03c0fe26f665322f583f77c9e356d270
   "metadata": {},
   "outputs": [
    {
     "data": {
      "text/plain": [
<<<<<<< HEAD
       "(2494794, 11)"
      ]
     },
     "execution_count": 11,
=======
       "(2540320, 11)"
      ]
     },
     "execution_count": 20,
>>>>>>> c56ceaba03c0fe26f665322f583f77c9e356d270
     "metadata": {},
     "output_type": "execute_result"
    }
   ],
   "source": [
    "# Check the shape of the data frame post dropping 'Reported_by' column\n",
    "street_df.shape"
   ]
  },
  {
   "cell_type": "code",
<<<<<<< HEAD
   "execution_count": 9,
=======
   "execution_count": 21,
>>>>>>> c56ceaba03c0fe26f665322f583f77c9e356d270
   "metadata": {},
   "outputs": [
    {
     "data": {
      "text/plain": [
       "331"
      ]
     },
<<<<<<< HEAD
     "execution_count": 9,
=======
     "execution_count": 21,
>>>>>>> c56ceaba03c0fe26f665322f583f77c9e356d270
     "metadata": {},
     "output_type": "execute_result"
    }
   ],
   "source": [
    "# Get unique london-boroghs numbers\n",
    "street_df.Borough_name.unique().size"
   ]
  },
  {
   "cell_type": "markdown",
   "metadata": {},
   "source": [
<<<<<<< HEAD
    "### Merge London Borough CSV with Street Crime CSV\n",
    "\n",
    "#### Remove records with non-required boroughs\n",
    "\n",
=======
    "### Remove records with non-required boroughs\n",
>>>>>>> c56ceaba03c0fe26f665322f583f77c9e356d270
    "This dataframe contains all the boroughs. We need information only for london boroughs which we got from london boroughs only. Hence merge two dataframe now."
   ]
  },
  {
   "cell_type": "code",
<<<<<<< HEAD
   "execution_count": 10,
=======
   "execution_count": 46,
>>>>>>> c56ceaba03c0fe26f665322f583f77c9e356d270
   "metadata": {},
   "outputs": [],
   "source": [
    "# Merge london_borough with the street data to get relevant records only\n",
    "street_df = pd.merge(left=street_df, right=london_borough_df, left_on='Borough_name', right_on='Name')\n",
    "\n",
    "# Remove un-necessary columns after merging action\n",
    "street_df = street_df.drop(['Id', 'Name'], axis=1)"
   ]
  },
  {
   "cell_type": "code",
   "execution_count": 23,
<<<<<<< HEAD
   "metadata": {},
   "outputs": [
    {
     "data": {
      "text/plain": [
       "(2494794, 11)"
      ]
     },
     "execution_count": 23,
     "metadata": {},
     "output_type": "execute_result"
    }
   ],
   "source": [
    "# Check the shape of the data frame post dropping 'Reported_by' column\n",
    "street_df.shape"
   ]
  },
  {
   "cell_type": "code",
   "execution_count": 12,
   "metadata": {},
   "outputs": [
    {
     "data": {
      "text/plain": [
       "33"
      ]
     },
     "execution_count": 12,
     "metadata": {},
     "output_type": "execute_result"
    }
   ],
   "source": [
    "# Get unique london-boroghs numbers\n",
    "street_df.Borough_name.unique().size"
   ]
  },
  {
   "cell_type": "markdown",
   "metadata": {},
   "source": [
    "## STEP 04: Data Duplication Check\n",
    "\n",
    "### Check if Crime_ID contains any duplicate record"
   ]
  },
  {
   "cell_type": "code",
   "execution_count": 9,
=======
>>>>>>> c56ceaba03c0fe26f665322f583f77c9e356d270
   "metadata": {},
   "outputs": [
    {
     "data": {
<<<<<<< HEAD
      "text/html": [
       "<div>\n",
       "<style scoped>\n",
       "    .dataframe tbody tr th:only-of-type {\n",
       "        vertical-align: middle;\n",
       "    }\n",
       "\n",
       "    .dataframe tbody tr th {\n",
       "        vertical-align: top;\n",
       "    }\n",
       "\n",
       "    .dataframe thead th {\n",
       "        text-align: right;\n",
       "    }\n",
       "</style>\n",
       "<table border=\"1\" class=\"dataframe\">\n",
       "  <thead>\n",
       "    <tr style=\"text-align: right;\">\n",
       "      <th></th>\n",
       "      <th>Crime_ID</th>\n",
       "      <th>DuplicationFrequency</th>\n",
       "    </tr>\n",
       "  </thead>\n",
       "  <tbody>\n",
       "    <tr>\n",
       "      <th>2092862</th>\n",
       "      <td>e22dfff770cd32f54941621e0b4a1000168dfa2fbfbd6a...</td>\n",
       "      <td>29</td>\n",
       "    </tr>\n",
       "    <tr>\n",
       "      <th>1133705</th>\n",
       "      <td>7a99fcf8b97b8db7f7cee3661dc335bd2d1a41643adc5e...</td>\n",
       "      <td>25</td>\n",
       "    </tr>\n",
       "    <tr>\n",
       "      <th>979033</th>\n",
       "      <td>69dde398c0ef06c3261ea30d773bb8d0aecf5ed5b10d4b...</td>\n",
       "      <td>24</td>\n",
       "    </tr>\n",
       "    <tr>\n",
       "      <th>1234738</th>\n",
       "      <td>8589568a4a73fabfe06ee51021e20194168455e55454bd...</td>\n",
       "      <td>23</td>\n",
       "    </tr>\n",
       "    <tr>\n",
       "      <th>70889</th>\n",
       "      <td>07a6b7bfa54296d36c76a0bd7eac2fa0a057962b946c7f...</td>\n",
       "      <td>22</td>\n",
       "    </tr>\n",
       "  </tbody>\n",
       "</table>\n",
       "</div>"
      ],
      "text/plain": [
       "                                                  Crime_ID  \\\n",
       "2092862  e22dfff770cd32f54941621e0b4a1000168dfa2fbfbd6a...   \n",
       "1133705  7a99fcf8b97b8db7f7cee3661dc335bd2d1a41643adc5e...   \n",
       "979033   69dde398c0ef06c3261ea30d773bb8d0aecf5ed5b10d4b...   \n",
       "1234738  8589568a4a73fabfe06ee51021e20194168455e55454bd...   \n",
       "70889    07a6b7bfa54296d36c76a0bd7eac2fa0a057962b946c7f...   \n",
       "\n",
       "         DuplicationFrequency  \n",
       "2092862                    29  \n",
       "1133705                    25  \n",
       "979033                     24  \n",
       "1234738                    23  \n",
       "70889                      22  "
      ]
     },
     "execution_count": 9,
=======
      "text/plain": [
       "(2494794, 11)"
      ]
     },
     "execution_count": 23,
>>>>>>> c56ceaba03c0fe26f665322f583f77c9e356d270
     "metadata": {},
     "output_type": "execute_result"
    }
   ],
   "source": [
<<<<<<< HEAD
    "# check if street data frame have any duplicate value for 'Crime_ID'\n",
    "street_df.groupby('Crime_ID').size().reset_index(name='DuplicationFrequency').sort_values(by='DuplicationFrequency', ascending=False).head()"
=======
    "# Check the shape of the data frame post dropping 'Reported_by' column\n",
    "street_df.shape"
>>>>>>> c56ceaba03c0fe26f665322f583f77c9e356d270
   ]
  },
  {
   "cell_type": "code",
<<<<<<< HEAD
   "execution_count": 13,
=======
   "execution_count": 24,
   "metadata": {},
   "outputs": [
    {
     "data": {
      "text/plain": [
       "33"
      ]
     },
     "execution_count": 24,
     "metadata": {},
     "output_type": "execute_result"
    }
   ],
   "source": [
    "# Get unique london-boroghs numbers\n",
    "street_df.Borough_name.unique().size"
   ]
  },
  {
   "cell_type": "markdown",
   "metadata": {},
   "source": [
    "## STEP 04: Data Duplication Check\n",
    "\n",
    "### Check if Crime_ID contains any duplicate record"
   ]
  },
  {
   "cell_type": "code",
   "execution_count": 9,
>>>>>>> c56ceaba03c0fe26f665322f583f77c9e356d270
   "metadata": {},
   "outputs": [
    {
     "data": {
      "text/html": [
       "<div>\n",
       "<style scoped>\n",
       "    .dataframe tbody tr th:only-of-type {\n",
       "        vertical-align: middle;\n",
       "    }\n",
       "\n",
       "    .dataframe tbody tr th {\n",
       "        vertical-align: top;\n",
       "    }\n",
       "\n",
       "    .dataframe thead th {\n",
       "        text-align: right;\n",
       "    }\n",
       "</style>\n",
       "<table border=\"1\" class=\"dataframe\">\n",
       "  <thead>\n",
       "    <tr style=\"text-align: right;\">\n",
       "      <th></th>\n",
       "      <th>Crime_ID</th>\n",
<<<<<<< HEAD
       "      <th>Month</th>\n",
       "      <th>Falls_within</th>\n",
       "      <th>Longitude</th>\n",
       "      <th>Latitude</th>\n",
       "      <th>Location</th>\n",
       "      <th>LSOA_code</th>\n",
       "      <th>LSOA_name</th>\n",
       "      <th>Crime_type</th>\n",
       "      <th>Last_outcome_category</th>\n",
       "      <th>Borough_name</th>\n",
=======
       "      <th>DuplicationFrequency</th>\n",
>>>>>>> c56ceaba03c0fe26f665322f583f77c9e356d270
       "    </tr>\n",
       "  </thead>\n",
       "  <tbody>\n",
       "    <tr>\n",
<<<<<<< HEAD
       "      <th>1547299</th>\n",
       "      <td>e22dfff770cd32f54941621e0b4a1000168dfa2fbfbd6a...</td>\n",
       "      <td>2019-03</td>\n",
       "      <td>Metropolitan Police Service</td>\n",
       "      <td>-0.187102</td>\n",
       "      <td>51.602265</td>\n",
       "      <td>On or near Dukes Avenue</td>\n",
       "      <td>E01000295</td>\n",
       "      <td>Barnet 023B</td>\n",
       "      <td>Criminal damage and arson</td>\n",
       "      <td>Status update unavailable</td>\n",
       "      <td>Barnet</td>\n",
       "    </tr>\n",
       "    <tr>\n",
       "      <th>1547300</th>\n",
       "      <td>e22dfff770cd32f54941621e0b4a1000168dfa2fbfbd6a...</td>\n",
       "      <td>2019-03</td>\n",
       "      <td>Metropolitan Police Service</td>\n",
       "      <td>-0.187102</td>\n",
       "      <td>51.602265</td>\n",
       "      <td>On or near Dukes Avenue</td>\n",
       "      <td>E01000295</td>\n",
       "      <td>Barnet 023B</td>\n",
       "      <td>Criminal damage and arson</td>\n",
       "      <td>Status update unavailable</td>\n",
       "      <td>Barnet</td>\n",
       "    </tr>\n",
       "    <tr>\n",
       "      <th>1547301</th>\n",
       "      <td>e22dfff770cd32f54941621e0b4a1000168dfa2fbfbd6a...</td>\n",
       "      <td>2019-03</td>\n",
       "      <td>Metropolitan Police Service</td>\n",
       "      <td>-0.187102</td>\n",
       "      <td>51.602265</td>\n",
       "      <td>On or near Dukes Avenue</td>\n",
       "      <td>E01000295</td>\n",
       "      <td>Barnet 023B</td>\n",
       "      <td>Criminal damage and arson</td>\n",
       "      <td>Status update unavailable</td>\n",
       "      <td>Barnet</td>\n",
=======
       "      <th>2092862</th>\n",
       "      <td>e22dfff770cd32f54941621e0b4a1000168dfa2fbfbd6a...</td>\n",
       "      <td>29</td>\n",
       "    </tr>\n",
       "    <tr>\n",
       "      <th>1133705</th>\n",
       "      <td>7a99fcf8b97b8db7f7cee3661dc335bd2d1a41643adc5e...</td>\n",
       "      <td>25</td>\n",
       "    </tr>\n",
       "    <tr>\n",
       "      <th>979033</th>\n",
       "      <td>69dde398c0ef06c3261ea30d773bb8d0aecf5ed5b10d4b...</td>\n",
       "      <td>24</td>\n",
       "    </tr>\n",
       "    <tr>\n",
       "      <th>1234738</th>\n",
       "      <td>8589568a4a73fabfe06ee51021e20194168455e55454bd...</td>\n",
       "      <td>23</td>\n",
       "    </tr>\n",
       "    <tr>\n",
       "      <th>70889</th>\n",
       "      <td>07a6b7bfa54296d36c76a0bd7eac2fa0a057962b946c7f...</td>\n",
       "      <td>22</td>\n",
       "    </tr>\n",
       "  </tbody>\n",
       "</table>\n",
       "</div>"
      ],
      "text/plain": [
       "                                                  Crime_ID  \\\n",
       "2092862  e22dfff770cd32f54941621e0b4a1000168dfa2fbfbd6a...   \n",
       "1133705  7a99fcf8b97b8db7f7cee3661dc335bd2d1a41643adc5e...   \n",
       "979033   69dde398c0ef06c3261ea30d773bb8d0aecf5ed5b10d4b...   \n",
       "1234738  8589568a4a73fabfe06ee51021e20194168455e55454bd...   \n",
       "70889    07a6b7bfa54296d36c76a0bd7eac2fa0a057962b946c7f...   \n",
       "\n",
       "         DuplicationFrequency  \n",
       "2092862                    29  \n",
       "1133705                    25  \n",
       "979033                     24  \n",
       "1234738                    23  \n",
       "70889                      22  "
      ]
     },
     "execution_count": 9,
     "metadata": {},
     "output_type": "execute_result"
    }
   ],
   "source": [
    "# check if street data frame have any duplicate value for 'Crime_ID'\n",
    "street_df.groupby('Crime_ID').size().reset_index(name='DuplicationFrequency').sort_values(by='DuplicationFrequency', ascending=False).head()"
   ]
  },
  {
   "cell_type": "code",
   "execution_count": 47,
   "metadata": {},
   "outputs": [
    {
     "data": {
      "text/html": [
       "<div>\n",
       "<style scoped>\n",
       "    .dataframe tbody tr th:only-of-type {\n",
       "        vertical-align: middle;\n",
       "    }\n",
       "\n",
       "    .dataframe tbody tr th {\n",
       "        vertical-align: top;\n",
       "    }\n",
       "\n",
       "    .dataframe thead th {\n",
       "        text-align: right;\n",
       "    }\n",
       "</style>\n",
       "<table border=\"1\" class=\"dataframe\">\n",
       "  <thead>\n",
       "    <tr style=\"text-align: right;\">\n",
       "      <th></th>\n",
       "      <th>Crime_ID</th>\n",
       "      <th>Month</th>\n",
       "      <th>Falls_within</th>\n",
       "      <th>Longitude</th>\n",
       "      <th>Latitude</th>\n",
       "      <th>Location</th>\n",
       "      <th>LSOA_code</th>\n",
       "      <th>LSOA_name</th>\n",
       "      <th>Crime_type</th>\n",
       "      <th>Last_outcome_category</th>\n",
       "      <th>Borough_name</th>\n",
>>>>>>> c56ceaba03c0fe26f665322f583f77c9e356d270
       "    </tr>\n",
       "    <tr>\n",
<<<<<<< HEAD
       "      <th>1547302</th>\n",
       "      <td>e22dfff770cd32f54941621e0b4a1000168dfa2fbfbd6a...</td>\n",
       "      <td>2019-03</td>\n",
       "      <td>Metropolitan Police Service</td>\n",
       "      <td>-0.187102</td>\n",
       "      <td>51.602265</td>\n",
       "      <td>On or near Dukes Avenue</td>\n",
       "      <td>E01000295</td>\n",
       "      <td>Barnet 023B</td>\n",
       "      <td>Criminal damage and arson</td>\n",
       "      <td>Status update unavailable</td>\n",
       "      <td>Barnet</td>\n",
       "    </tr>\n",
       "    <tr>\n",
       "      <th>1547303</th>\n",
=======
       "      <th>1547299</th>\n",
>>>>>>> c56ceaba03c0fe26f665322f583f77c9e356d270
       "      <td>e22dfff770cd32f54941621e0b4a1000168dfa2fbfbd6a...</td>\n",
       "      <td>2019-03</td>\n",
       "      <td>Metropolitan Police Service</td>\n",
       "      <td>-0.187102</td>\n",
       "      <td>51.602265</td>\n",
       "      <td>On or near Dukes Avenue</td>\n",
       "      <td>E01000295</td>\n",
       "      <td>Barnet 023B</td>\n",
       "      <td>Criminal damage and arson</td>\n",
       "      <td>Status update unavailable</td>\n",
       "      <td>Barnet</td>\n",
       "    </tr>\n",
       "    <tr>\n",
<<<<<<< HEAD
       "      <th>1547304</th>\n",
       "      <td>e22dfff770cd32f54941621e0b4a1000168dfa2fbfbd6a...</td>\n",
       "      <td>2019-03</td>\n",
       "      <td>Metropolitan Police Service</td>\n",
       "      <td>-0.187102</td>\n",
       "      <td>51.602265</td>\n",
       "      <td>On or near Dukes Avenue</td>\n",
       "      <td>E01000295</td>\n",
       "      <td>Barnet 023B</td>\n",
       "      <td>Criminal damage and arson</td>\n",
       "      <td>Status update unavailable</td>\n",
       "      <td>Barnet</td>\n",
       "    </tr>\n",
       "    <tr>\n",
       "      <th>1547305</th>\n",
=======
       "      <th>1547300</th>\n",
>>>>>>> c56ceaba03c0fe26f665322f583f77c9e356d270
       "      <td>e22dfff770cd32f54941621e0b4a1000168dfa2fbfbd6a...</td>\n",
       "      <td>2019-03</td>\n",
       "      <td>Metropolitan Police Service</td>\n",
       "      <td>-0.187102</td>\n",
       "      <td>51.602265</td>\n",
       "      <td>On or near Dukes Avenue</td>\n",
       "      <td>E01000295</td>\n",
       "      <td>Barnet 023B</td>\n",
       "      <td>Criminal damage and arson</td>\n",
       "      <td>Status update unavailable</td>\n",
       "      <td>Barnet</td>\n",
       "    </tr>\n",
       "    <tr>\n",
<<<<<<< HEAD
       "      <th>1547306</th>\n",
       "      <td>e22dfff770cd32f54941621e0b4a1000168dfa2fbfbd6a...</td>\n",
       "      <td>2019-03</td>\n",
       "      <td>Metropolitan Police Service</td>\n",
       "      <td>-0.187102</td>\n",
       "      <td>51.602265</td>\n",
       "      <td>On or near Dukes Avenue</td>\n",
       "      <td>E01000295</td>\n",
       "      <td>Barnet 023B</td>\n",
       "      <td>Criminal damage and arson</td>\n",
       "      <td>Status update unavailable</td>\n",
       "      <td>Barnet</td>\n",
       "    </tr>\n",
       "    <tr>\n",
       "      <th>1547307</th>\n",
=======
       "      <th>1547301</th>\n",
>>>>>>> c56ceaba03c0fe26f665322f583f77c9e356d270
       "      <td>e22dfff770cd32f54941621e0b4a1000168dfa2fbfbd6a...</td>\n",
       "      <td>2019-03</td>\n",
       "      <td>Metropolitan Police Service</td>\n",
       "      <td>-0.187102</td>\n",
       "      <td>51.602265</td>\n",
       "      <td>On or near Dukes Avenue</td>\n",
       "      <td>E01000295</td>\n",
       "      <td>Barnet 023B</td>\n",
       "      <td>Criminal damage and arson</td>\n",
       "      <td>Status update unavailable</td>\n",
       "      <td>Barnet</td>\n",
       "    </tr>\n",
       "    <tr>\n",
<<<<<<< HEAD
       "      <th>1547309</th>\n",
       "      <td>e22dfff770cd32f54941621e0b4a1000168dfa2fbfbd6a...</td>\n",
       "      <td>2019-03</td>\n",
       "      <td>Metropolitan Police Service</td>\n",
       "      <td>-0.187102</td>\n",
       "      <td>51.602265</td>\n",
       "      <td>On or near Dukes Avenue</td>\n",
       "      <td>E01000295</td>\n",
       "      <td>Barnet 023B</td>\n",
       "      <td>Criminal damage and arson</td>\n",
       "      <td>Status update unavailable</td>\n",
       "      <td>Barnet</td>\n",
       "    </tr>\n",
       "    <tr>\n",
       "      <th>1547310</th>\n",
=======
       "      <th>1547302</th>\n",
>>>>>>> c56ceaba03c0fe26f665322f583f77c9e356d270
       "      <td>e22dfff770cd32f54941621e0b4a1000168dfa2fbfbd6a...</td>\n",
       "      <td>2019-03</td>\n",
       "      <td>Metropolitan Police Service</td>\n",
       "      <td>-0.187102</td>\n",
       "      <td>51.602265</td>\n",
       "      <td>On or near Dukes Avenue</td>\n",
       "      <td>E01000295</td>\n",
       "      <td>Barnet 023B</td>\n",
       "      <td>Criminal damage and arson</td>\n",
       "      <td>Status update unavailable</td>\n",
       "      <td>Barnet</td>\n",
       "    </tr>\n",
       "    <tr>\n",
<<<<<<< HEAD
       "      <th>1547311</th>\n",
       "      <td>e22dfff770cd32f54941621e0b4a1000168dfa2fbfbd6a...</td>\n",
       "      <td>2019-03</td>\n",
       "      <td>Metropolitan Police Service</td>\n",
       "      <td>-0.187102</td>\n",
       "      <td>51.602265</td>\n",
       "      <td>On or near Dukes Avenue</td>\n",
       "      <td>E01000295</td>\n",
       "      <td>Barnet 023B</td>\n",
       "      <td>Criminal damage and arson</td>\n",
       "      <td>Status update unavailable</td>\n",
       "      <td>Barnet</td>\n",
       "    </tr>\n",
       "    <tr>\n",
       "      <th>1547312</th>\n",
=======
       "      <th>1547303</th>\n",
>>>>>>> c56ceaba03c0fe26f665322f583f77c9e356d270
       "      <td>e22dfff770cd32f54941621e0b4a1000168dfa2fbfbd6a...</td>\n",
       "      <td>2019-03</td>\n",
       "      <td>Metropolitan Police Service</td>\n",
       "      <td>-0.187102</td>\n",
       "      <td>51.602265</td>\n",
       "      <td>On or near Dukes Avenue</td>\n",
       "      <td>E01000295</td>\n",
       "      <td>Barnet 023B</td>\n",
       "      <td>Criminal damage and arson</td>\n",
       "      <td>Status update unavailable</td>\n",
       "      <td>Barnet</td>\n",
       "    </tr>\n",
       "    <tr>\n",
<<<<<<< HEAD
       "      <th>1547314</th>\n",
=======
       "      <th>1547304</th>\n",
>>>>>>> c56ceaba03c0fe26f665322f583f77c9e356d270
       "      <td>e22dfff770cd32f54941621e0b4a1000168dfa2fbfbd6a...</td>\n",
       "      <td>2019-03</td>\n",
       "      <td>Metropolitan Police Service</td>\n",
       "      <td>-0.187102</td>\n",
       "      <td>51.602265</td>\n",
       "      <td>On or near Dukes Avenue</td>\n",
       "      <td>E01000295</td>\n",
       "      <td>Barnet 023B</td>\n",
       "      <td>Criminal damage and arson</td>\n",
       "      <td>Status update unavailable</td>\n",
       "      <td>Barnet</td>\n",
       "    </tr>\n",
       "    <tr>\n",
<<<<<<< HEAD
       "      <th>1547315</th>\n",
       "      <td>e22dfff770cd32f54941621e0b4a1000168dfa2fbfbd6a...</td>\n",
       "      <td>2019-03</td>\n",
       "      <td>Metropolitan Police Service</td>\n",
       "      <td>-0.187102</td>\n",
       "      <td>51.602265</td>\n",
       "      <td>On or near Dukes Avenue</td>\n",
       "      <td>E01000295</td>\n",
       "      <td>Barnet 023B</td>\n",
       "      <td>Criminal damage and arson</td>\n",
       "      <td>Status update unavailable</td>\n",
       "      <td>Barnet</td>\n",
       "    </tr>\n",
       "    <tr>\n",
       "      <th>1547316</th>\n",
=======
       "      <th>1547305</th>\n",
>>>>>>> c56ceaba03c0fe26f665322f583f77c9e356d270
       "      <td>e22dfff770cd32f54941621e0b4a1000168dfa2fbfbd6a...</td>\n",
       "      <td>2019-03</td>\n",
       "      <td>Metropolitan Police Service</td>\n",
       "      <td>-0.187102</td>\n",
       "      <td>51.602265</td>\n",
       "      <td>On or near Dukes Avenue</td>\n",
       "      <td>E01000295</td>\n",
       "      <td>Barnet 023B</td>\n",
       "      <td>Criminal damage and arson</td>\n",
       "      <td>Status update unavailable</td>\n",
       "      <td>Barnet</td>\n",
       "    </tr>\n",
       "    <tr>\n",
<<<<<<< HEAD
       "      <th>1547317</th>\n",
=======
       "      <th>1547306</th>\n",
>>>>>>> c56ceaba03c0fe26f665322f583f77c9e356d270
       "      <td>e22dfff770cd32f54941621e0b4a1000168dfa2fbfbd6a...</td>\n",
       "      <td>2019-03</td>\n",
       "      <td>Metropolitan Police Service</td>\n",
       "      <td>-0.187102</td>\n",
       "      <td>51.602265</td>\n",
       "      <td>On or near Dukes Avenue</td>\n",
       "      <td>E01000295</td>\n",
       "      <td>Barnet 023B</td>\n",
       "      <td>Criminal damage and arson</td>\n",
       "      <td>Status update unavailable</td>\n",
       "      <td>Barnet</td>\n",
       "    </tr>\n",
       "    <tr>\n",
<<<<<<< HEAD
       "      <th>1547318</th>\n",
=======
       "      <th>1547307</th>\n",
>>>>>>> c56ceaba03c0fe26f665322f583f77c9e356d270
       "      <td>e22dfff770cd32f54941621e0b4a1000168dfa2fbfbd6a...</td>\n",
       "      <td>2019-03</td>\n",
       "      <td>Metropolitan Police Service</td>\n",
       "      <td>-0.187102</td>\n",
       "      <td>51.602265</td>\n",
       "      <td>On or near Dukes Avenue</td>\n",
       "      <td>E01000295</td>\n",
       "      <td>Barnet 023B</td>\n",
       "      <td>Criminal damage and arson</td>\n",
       "      <td>Status update unavailable</td>\n",
       "      <td>Barnet</td>\n",
       "    </tr>\n",
       "    <tr>\n",
<<<<<<< HEAD
       "      <th>1547319</th>\n",
=======
       "      <th>1547309</th>\n",
>>>>>>> c56ceaba03c0fe26f665322f583f77c9e356d270
       "      <td>e22dfff770cd32f54941621e0b4a1000168dfa2fbfbd6a...</td>\n",
       "      <td>2019-03</td>\n",
       "      <td>Metropolitan Police Service</td>\n",
       "      <td>-0.187102</td>\n",
       "      <td>51.602265</td>\n",
       "      <td>On or near Dukes Avenue</td>\n",
       "      <td>E01000295</td>\n",
       "      <td>Barnet 023B</td>\n",
       "      <td>Criminal damage and arson</td>\n",
       "      <td>Status update unavailable</td>\n",
       "      <td>Barnet</td>\n",
       "    </tr>\n",
       "    <tr>\n",
<<<<<<< HEAD
       "      <th>1547320</th>\n",
=======
       "      <th>1547310</th>\n",
>>>>>>> c56ceaba03c0fe26f665322f583f77c9e356d270
       "      <td>e22dfff770cd32f54941621e0b4a1000168dfa2fbfbd6a...</td>\n",
       "      <td>2019-03</td>\n",
       "      <td>Metropolitan Police Service</td>\n",
       "      <td>-0.187102</td>\n",
       "      <td>51.602265</td>\n",
       "      <td>On or near Dukes Avenue</td>\n",
       "      <td>E01000295</td>\n",
       "      <td>Barnet 023B</td>\n",
       "      <td>Criminal damage and arson</td>\n",
       "      <td>Status update unavailable</td>\n",
       "      <td>Barnet</td>\n",
       "    </tr>\n",
       "    <tr>\n",
<<<<<<< HEAD
       "      <th>1547321</th>\n",
=======
       "      <th>1547311</th>\n",
>>>>>>> c56ceaba03c0fe26f665322f583f77c9e356d270
       "      <td>e22dfff770cd32f54941621e0b4a1000168dfa2fbfbd6a...</td>\n",
       "      <td>2019-03</td>\n",
       "      <td>Metropolitan Police Service</td>\n",
       "      <td>-0.187102</td>\n",
       "      <td>51.602265</td>\n",
       "      <td>On or near Dukes Avenue</td>\n",
       "      <td>E01000295</td>\n",
       "      <td>Barnet 023B</td>\n",
       "      <td>Criminal damage and arson</td>\n",
       "      <td>Status update unavailable</td>\n",
       "      <td>Barnet</td>\n",
       "    </tr>\n",
       "    <tr>\n",
<<<<<<< HEAD
       "      <th>1547322</th>\n",
=======
       "      <th>1547312</th>\n",
>>>>>>> c56ceaba03c0fe26f665322f583f77c9e356d270
       "      <td>e22dfff770cd32f54941621e0b4a1000168dfa2fbfbd6a...</td>\n",
       "      <td>2019-03</td>\n",
       "      <td>Metropolitan Police Service</td>\n",
       "      <td>-0.187102</td>\n",
       "      <td>51.602265</td>\n",
       "      <td>On or near Dukes Avenue</td>\n",
       "      <td>E01000295</td>\n",
       "      <td>Barnet 023B</td>\n",
       "      <td>Criminal damage and arson</td>\n",
       "      <td>Status update unavailable</td>\n",
       "      <td>Barnet</td>\n",
       "    </tr>\n",
       "    <tr>\n",
<<<<<<< HEAD
       "      <th>1547323</th>\n",
=======
       "      <th>1547314</th>\n",
>>>>>>> c56ceaba03c0fe26f665322f583f77c9e356d270
       "      <td>e22dfff770cd32f54941621e0b4a1000168dfa2fbfbd6a...</td>\n",
       "      <td>2019-03</td>\n",
       "      <td>Metropolitan Police Service</td>\n",
       "      <td>-0.187102</td>\n",
       "      <td>51.602265</td>\n",
       "      <td>On or near Dukes Avenue</td>\n",
       "      <td>E01000295</td>\n",
       "      <td>Barnet 023B</td>\n",
       "      <td>Criminal damage and arson</td>\n",
       "      <td>Status update unavailable</td>\n",
       "      <td>Barnet</td>\n",
       "    </tr>\n",
       "    <tr>\n",
<<<<<<< HEAD
       "      <th>1547324</th>\n",
=======
       "      <th>1547315</th>\n",
>>>>>>> c56ceaba03c0fe26f665322f583f77c9e356d270
       "      <td>e22dfff770cd32f54941621e0b4a1000168dfa2fbfbd6a...</td>\n",
       "      <td>2019-03</td>\n",
       "      <td>Metropolitan Police Service</td>\n",
       "      <td>-0.187102</td>\n",
       "      <td>51.602265</td>\n",
       "      <td>On or near Dukes Avenue</td>\n",
       "      <td>E01000295</td>\n",
       "      <td>Barnet 023B</td>\n",
       "      <td>Criminal damage and arson</td>\n",
       "      <td>Status update unavailable</td>\n",
       "      <td>Barnet</td>\n",
       "    </tr>\n",
       "    <tr>\n",
<<<<<<< HEAD
=======
       "      <th>1547316</th>\n",
       "      <td>e22dfff770cd32f54941621e0b4a1000168dfa2fbfbd6a...</td>\n",
       "      <td>2019-03</td>\n",
       "      <td>Metropolitan Police Service</td>\n",
       "      <td>-0.187102</td>\n",
       "      <td>51.602265</td>\n",
       "      <td>On or near Dukes Avenue</td>\n",
       "      <td>E01000295</td>\n",
       "      <td>Barnet 023B</td>\n",
       "      <td>Criminal damage and arson</td>\n",
       "      <td>Status update unavailable</td>\n",
       "      <td>Barnet</td>\n",
       "    </tr>\n",
       "    <tr>\n",
       "      <th>1547317</th>\n",
       "      <td>e22dfff770cd32f54941621e0b4a1000168dfa2fbfbd6a...</td>\n",
       "      <td>2019-03</td>\n",
       "      <td>Metropolitan Police Service</td>\n",
       "      <td>-0.187102</td>\n",
       "      <td>51.602265</td>\n",
       "      <td>On or near Dukes Avenue</td>\n",
       "      <td>E01000295</td>\n",
       "      <td>Barnet 023B</td>\n",
       "      <td>Criminal damage and arson</td>\n",
       "      <td>Status update unavailable</td>\n",
       "      <td>Barnet</td>\n",
       "    </tr>\n",
       "    <tr>\n",
       "      <th>1547318</th>\n",
       "      <td>e22dfff770cd32f54941621e0b4a1000168dfa2fbfbd6a...</td>\n",
       "      <td>2019-03</td>\n",
       "      <td>Metropolitan Police Service</td>\n",
       "      <td>-0.187102</td>\n",
       "      <td>51.602265</td>\n",
       "      <td>On or near Dukes Avenue</td>\n",
       "      <td>E01000295</td>\n",
       "      <td>Barnet 023B</td>\n",
       "      <td>Criminal damage and arson</td>\n",
       "      <td>Status update unavailable</td>\n",
       "      <td>Barnet</td>\n",
       "    </tr>\n",
       "    <tr>\n",
       "      <th>1547319</th>\n",
       "      <td>e22dfff770cd32f54941621e0b4a1000168dfa2fbfbd6a...</td>\n",
       "      <td>2019-03</td>\n",
       "      <td>Metropolitan Police Service</td>\n",
       "      <td>-0.187102</td>\n",
       "      <td>51.602265</td>\n",
       "      <td>On or near Dukes Avenue</td>\n",
       "      <td>E01000295</td>\n",
       "      <td>Barnet 023B</td>\n",
       "      <td>Criminal damage and arson</td>\n",
       "      <td>Status update unavailable</td>\n",
       "      <td>Barnet</td>\n",
       "    </tr>\n",
       "    <tr>\n",
       "      <th>1547320</th>\n",
       "      <td>e22dfff770cd32f54941621e0b4a1000168dfa2fbfbd6a...</td>\n",
       "      <td>2019-03</td>\n",
       "      <td>Metropolitan Police Service</td>\n",
       "      <td>-0.187102</td>\n",
       "      <td>51.602265</td>\n",
       "      <td>On or near Dukes Avenue</td>\n",
       "      <td>E01000295</td>\n",
       "      <td>Barnet 023B</td>\n",
       "      <td>Criminal damage and arson</td>\n",
       "      <td>Status update unavailable</td>\n",
       "      <td>Barnet</td>\n",
       "    </tr>\n",
       "    <tr>\n",
       "      <th>1547321</th>\n",
       "      <td>e22dfff770cd32f54941621e0b4a1000168dfa2fbfbd6a...</td>\n",
       "      <td>2019-03</td>\n",
       "      <td>Metropolitan Police Service</td>\n",
       "      <td>-0.187102</td>\n",
       "      <td>51.602265</td>\n",
       "      <td>On or near Dukes Avenue</td>\n",
       "      <td>E01000295</td>\n",
       "      <td>Barnet 023B</td>\n",
       "      <td>Criminal damage and arson</td>\n",
       "      <td>Status update unavailable</td>\n",
       "      <td>Barnet</td>\n",
       "    </tr>\n",
       "    <tr>\n",
       "      <th>1547322</th>\n",
       "      <td>e22dfff770cd32f54941621e0b4a1000168dfa2fbfbd6a...</td>\n",
       "      <td>2019-03</td>\n",
       "      <td>Metropolitan Police Service</td>\n",
       "      <td>-0.187102</td>\n",
       "      <td>51.602265</td>\n",
       "      <td>On or near Dukes Avenue</td>\n",
       "      <td>E01000295</td>\n",
       "      <td>Barnet 023B</td>\n",
       "      <td>Criminal damage and arson</td>\n",
       "      <td>Status update unavailable</td>\n",
       "      <td>Barnet</td>\n",
       "    </tr>\n",
       "    <tr>\n",
       "      <th>1547323</th>\n",
       "      <td>e22dfff770cd32f54941621e0b4a1000168dfa2fbfbd6a...</td>\n",
       "      <td>2019-03</td>\n",
       "      <td>Metropolitan Police Service</td>\n",
       "      <td>-0.187102</td>\n",
       "      <td>51.602265</td>\n",
       "      <td>On or near Dukes Avenue</td>\n",
       "      <td>E01000295</td>\n",
       "      <td>Barnet 023B</td>\n",
       "      <td>Criminal damage and arson</td>\n",
       "      <td>Status update unavailable</td>\n",
       "      <td>Barnet</td>\n",
       "    </tr>\n",
       "    <tr>\n",
       "      <th>1547324</th>\n",
       "      <td>e22dfff770cd32f54941621e0b4a1000168dfa2fbfbd6a...</td>\n",
       "      <td>2019-03</td>\n",
       "      <td>Metropolitan Police Service</td>\n",
       "      <td>-0.187102</td>\n",
       "      <td>51.602265</td>\n",
       "      <td>On or near Dukes Avenue</td>\n",
       "      <td>E01000295</td>\n",
       "      <td>Barnet 023B</td>\n",
       "      <td>Criminal damage and arson</td>\n",
       "      <td>Status update unavailable</td>\n",
       "      <td>Barnet</td>\n",
       "    </tr>\n",
       "    <tr>\n",
>>>>>>> c56ceaba03c0fe26f665322f583f77c9e356d270
       "      <th>1547325</th>\n",
       "      <td>e22dfff770cd32f54941621e0b4a1000168dfa2fbfbd6a...</td>\n",
       "      <td>2019-03</td>\n",
       "      <td>Metropolitan Police Service</td>\n",
       "      <td>-0.187102</td>\n",
       "      <td>51.602265</td>\n",
       "      <td>On or near Dukes Avenue</td>\n",
       "      <td>E01000295</td>\n",
       "      <td>Barnet 023B</td>\n",
       "      <td>Criminal damage and arson</td>\n",
       "      <td>Status update unavailable</td>\n",
       "      <td>Barnet</td>\n",
       "    </tr>\n",
       "    <tr>\n",
       "      <th>1547326</th>\n",
       "      <td>e22dfff770cd32f54941621e0b4a1000168dfa2fbfbd6a...</td>\n",
       "      <td>2019-03</td>\n",
       "      <td>Metropolitan Police Service</td>\n",
       "      <td>-0.187102</td>\n",
       "      <td>51.602265</td>\n",
       "      <td>On or near Dukes Avenue</td>\n",
       "      <td>E01000295</td>\n",
       "      <td>Barnet 023B</td>\n",
       "      <td>Criminal damage and arson</td>\n",
       "      <td>Status update unavailable</td>\n",
       "      <td>Barnet</td>\n",
       "    </tr>\n",
       "    <tr>\n",
       "      <th>1547327</th>\n",
       "      <td>e22dfff770cd32f54941621e0b4a1000168dfa2fbfbd6a...</td>\n",
       "      <td>2019-03</td>\n",
       "      <td>Metropolitan Police Service</td>\n",
       "      <td>-0.187102</td>\n",
       "      <td>51.602265</td>\n",
       "      <td>On or near Dukes Avenue</td>\n",
       "      <td>E01000295</td>\n",
       "      <td>Barnet 023B</td>\n",
       "      <td>Criminal damage and arson</td>\n",
       "      <td>Status update unavailable</td>\n",
       "      <td>Barnet</td>\n",
       "    </tr>\n",
       "    <tr>\n",
       "      <th>1547328</th>\n",
       "      <td>e22dfff770cd32f54941621e0b4a1000168dfa2fbfbd6a...</td>\n",
       "      <td>2019-03</td>\n",
       "      <td>Metropolitan Police Service</td>\n",
       "      <td>-0.187102</td>\n",
       "      <td>51.602265</td>\n",
       "      <td>On or near Dukes Avenue</td>\n",
       "      <td>E01000295</td>\n",
       "      <td>Barnet 023B</td>\n",
       "      <td>Criminal damage and arson</td>\n",
       "      <td>Status update unavailable</td>\n",
       "      <td>Barnet</td>\n",
       "    </tr>\n",
       "    <tr>\n",
       "      <th>1547329</th>\n",
       "      <td>e22dfff770cd32f54941621e0b4a1000168dfa2fbfbd6a...</td>\n",
       "      <td>2019-03</td>\n",
       "      <td>Metropolitan Police Service</td>\n",
       "      <td>-0.187102</td>\n",
       "      <td>51.602265</td>\n",
       "      <td>On or near Dukes Avenue</td>\n",
       "      <td>E01000295</td>\n",
       "      <td>Barnet 023B</td>\n",
       "      <td>Criminal damage and arson</td>\n",
       "      <td>Status update unavailable</td>\n",
       "      <td>Barnet</td>\n",
<<<<<<< HEAD
=======
       "    </tr>\n",
       "  </tbody>\n",
       "</table>\n",
       "</div>"
      ],
      "text/plain": [
       "                                                  Crime_ID    Month  \\\n",
       "1547299  e22dfff770cd32f54941621e0b4a1000168dfa2fbfbd6a...  2019-03   \n",
       "1547300  e22dfff770cd32f54941621e0b4a1000168dfa2fbfbd6a...  2019-03   \n",
       "1547301  e22dfff770cd32f54941621e0b4a1000168dfa2fbfbd6a...  2019-03   \n",
       "1547302  e22dfff770cd32f54941621e0b4a1000168dfa2fbfbd6a...  2019-03   \n",
       "1547303  e22dfff770cd32f54941621e0b4a1000168dfa2fbfbd6a...  2019-03   \n",
       "1547304  e22dfff770cd32f54941621e0b4a1000168dfa2fbfbd6a...  2019-03   \n",
       "1547305  e22dfff770cd32f54941621e0b4a1000168dfa2fbfbd6a...  2019-03   \n",
       "1547306  e22dfff770cd32f54941621e0b4a1000168dfa2fbfbd6a...  2019-03   \n",
       "1547307  e22dfff770cd32f54941621e0b4a1000168dfa2fbfbd6a...  2019-03   \n",
       "1547309  e22dfff770cd32f54941621e0b4a1000168dfa2fbfbd6a...  2019-03   \n",
       "1547310  e22dfff770cd32f54941621e0b4a1000168dfa2fbfbd6a...  2019-03   \n",
       "1547311  e22dfff770cd32f54941621e0b4a1000168dfa2fbfbd6a...  2019-03   \n",
       "1547312  e22dfff770cd32f54941621e0b4a1000168dfa2fbfbd6a...  2019-03   \n",
       "1547314  e22dfff770cd32f54941621e0b4a1000168dfa2fbfbd6a...  2019-03   \n",
       "1547315  e22dfff770cd32f54941621e0b4a1000168dfa2fbfbd6a...  2019-03   \n",
       "1547316  e22dfff770cd32f54941621e0b4a1000168dfa2fbfbd6a...  2019-03   \n",
       "1547317  e22dfff770cd32f54941621e0b4a1000168dfa2fbfbd6a...  2019-03   \n",
       "1547318  e22dfff770cd32f54941621e0b4a1000168dfa2fbfbd6a...  2019-03   \n",
       "1547319  e22dfff770cd32f54941621e0b4a1000168dfa2fbfbd6a...  2019-03   \n",
       "1547320  e22dfff770cd32f54941621e0b4a1000168dfa2fbfbd6a...  2019-03   \n",
       "1547321  e22dfff770cd32f54941621e0b4a1000168dfa2fbfbd6a...  2019-03   \n",
       "1547322  e22dfff770cd32f54941621e0b4a1000168dfa2fbfbd6a...  2019-03   \n",
       "1547323  e22dfff770cd32f54941621e0b4a1000168dfa2fbfbd6a...  2019-03   \n",
       "1547324  e22dfff770cd32f54941621e0b4a1000168dfa2fbfbd6a...  2019-03   \n",
       "1547325  e22dfff770cd32f54941621e0b4a1000168dfa2fbfbd6a...  2019-03   \n",
       "1547326  e22dfff770cd32f54941621e0b4a1000168dfa2fbfbd6a...  2019-03   \n",
       "1547327  e22dfff770cd32f54941621e0b4a1000168dfa2fbfbd6a...  2019-03   \n",
       "1547328  e22dfff770cd32f54941621e0b4a1000168dfa2fbfbd6a...  2019-03   \n",
       "1547329  e22dfff770cd32f54941621e0b4a1000168dfa2fbfbd6a...  2019-03   \n",
       "\n",
       "                        Falls_within  Longitude   Latitude  \\\n",
       "1547299  Metropolitan Police Service  -0.187102  51.602265   \n",
       "1547300  Metropolitan Police Service  -0.187102  51.602265   \n",
       "1547301  Metropolitan Police Service  -0.187102  51.602265   \n",
       "1547302  Metropolitan Police Service  -0.187102  51.602265   \n",
       "1547303  Metropolitan Police Service  -0.187102  51.602265   \n",
       "1547304  Metropolitan Police Service  -0.187102  51.602265   \n",
       "1547305  Metropolitan Police Service  -0.187102  51.602265   \n",
       "1547306  Metropolitan Police Service  -0.187102  51.602265   \n",
       "1547307  Metropolitan Police Service  -0.187102  51.602265   \n",
       "1547309  Metropolitan Police Service  -0.187102  51.602265   \n",
       "1547310  Metropolitan Police Service  -0.187102  51.602265   \n",
       "1547311  Metropolitan Police Service  -0.187102  51.602265   \n",
       "1547312  Metropolitan Police Service  -0.187102  51.602265   \n",
       "1547314  Metropolitan Police Service  -0.187102  51.602265   \n",
       "1547315  Metropolitan Police Service  -0.187102  51.602265   \n",
       "1547316  Metropolitan Police Service  -0.187102  51.602265   \n",
       "1547317  Metropolitan Police Service  -0.187102  51.602265   \n",
       "1547318  Metropolitan Police Service  -0.187102  51.602265   \n",
       "1547319  Metropolitan Police Service  -0.187102  51.602265   \n",
       "1547320  Metropolitan Police Service  -0.187102  51.602265   \n",
       "1547321  Metropolitan Police Service  -0.187102  51.602265   \n",
       "1547322  Metropolitan Police Service  -0.187102  51.602265   \n",
       "1547323  Metropolitan Police Service  -0.187102  51.602265   \n",
       "1547324  Metropolitan Police Service  -0.187102  51.602265   \n",
       "1547325  Metropolitan Police Service  -0.187102  51.602265   \n",
       "1547326  Metropolitan Police Service  -0.187102  51.602265   \n",
       "1547327  Metropolitan Police Service  -0.187102  51.602265   \n",
       "1547328  Metropolitan Police Service  -0.187102  51.602265   \n",
       "1547329  Metropolitan Police Service  -0.187102  51.602265   \n",
       "\n",
       "                        Location  LSOA_code    LSOA_name  \\\n",
       "1547299  On or near Dukes Avenue  E01000295  Barnet 023B   \n",
       "1547300  On or near Dukes Avenue  E01000295  Barnet 023B   \n",
       "1547301  On or near Dukes Avenue  E01000295  Barnet 023B   \n",
       "1547302  On or near Dukes Avenue  E01000295  Barnet 023B   \n",
       "1547303  On or near Dukes Avenue  E01000295  Barnet 023B   \n",
       "1547304  On or near Dukes Avenue  E01000295  Barnet 023B   \n",
       "1547305  On or near Dukes Avenue  E01000295  Barnet 023B   \n",
       "1547306  On or near Dukes Avenue  E01000295  Barnet 023B   \n",
       "1547307  On or near Dukes Avenue  E01000295  Barnet 023B   \n",
       "1547309  On or near Dukes Avenue  E01000295  Barnet 023B   \n",
       "1547310  On or near Dukes Avenue  E01000295  Barnet 023B   \n",
       "1547311  On or near Dukes Avenue  E01000295  Barnet 023B   \n",
       "1547312  On or near Dukes Avenue  E01000295  Barnet 023B   \n",
       "1547314  On or near Dukes Avenue  E01000295  Barnet 023B   \n",
       "1547315  On or near Dukes Avenue  E01000295  Barnet 023B   \n",
       "1547316  On or near Dukes Avenue  E01000295  Barnet 023B   \n",
       "1547317  On or near Dukes Avenue  E01000295  Barnet 023B   \n",
       "1547318  On or near Dukes Avenue  E01000295  Barnet 023B   \n",
       "1547319  On or near Dukes Avenue  E01000295  Barnet 023B   \n",
       "1547320  On or near Dukes Avenue  E01000295  Barnet 023B   \n",
       "1547321  On or near Dukes Avenue  E01000295  Barnet 023B   \n",
       "1547322  On or near Dukes Avenue  E01000295  Barnet 023B   \n",
       "1547323  On or near Dukes Avenue  E01000295  Barnet 023B   \n",
       "1547324  On or near Dukes Avenue  E01000295  Barnet 023B   \n",
       "1547325  On or near Dukes Avenue  E01000295  Barnet 023B   \n",
       "1547326  On or near Dukes Avenue  E01000295  Barnet 023B   \n",
       "1547327  On or near Dukes Avenue  E01000295  Barnet 023B   \n",
       "1547328  On or near Dukes Avenue  E01000295  Barnet 023B   \n",
       "1547329  On or near Dukes Avenue  E01000295  Barnet 023B   \n",
       "\n",
       "                        Crime_type      Last_outcome_category Borough_name  \n",
       "1547299  Criminal damage and arson  Status update unavailable       Barnet  \n",
       "1547300  Criminal damage and arson  Status update unavailable       Barnet  \n",
       "1547301  Criminal damage and arson  Status update unavailable       Barnet  \n",
       "1547302  Criminal damage and arson  Status update unavailable       Barnet  \n",
       "1547303  Criminal damage and arson  Status update unavailable       Barnet  \n",
       "1547304  Criminal damage and arson  Status update unavailable       Barnet  \n",
       "1547305  Criminal damage and arson  Status update unavailable       Barnet  \n",
       "1547306  Criminal damage and arson  Status update unavailable       Barnet  \n",
       "1547307  Criminal damage and arson  Status update unavailable       Barnet  \n",
       "1547309  Criminal damage and arson  Status update unavailable       Barnet  \n",
       "1547310  Criminal damage and arson  Status update unavailable       Barnet  \n",
       "1547311  Criminal damage and arson  Status update unavailable       Barnet  \n",
       "1547312  Criminal damage and arson  Status update unavailable       Barnet  \n",
       "1547314  Criminal damage and arson  Status update unavailable       Barnet  \n",
       "1547315  Criminal damage and arson  Status update unavailable       Barnet  \n",
       "1547316  Criminal damage and arson  Status update unavailable       Barnet  \n",
       "1547317  Criminal damage and arson  Status update unavailable       Barnet  \n",
       "1547318  Criminal damage and arson  Status update unavailable       Barnet  \n",
       "1547319  Criminal damage and arson  Status update unavailable       Barnet  \n",
       "1547320  Criminal damage and arson  Status update unavailable       Barnet  \n",
       "1547321  Criminal damage and arson  Status update unavailable       Barnet  \n",
       "1547322  Criminal damage and arson  Status update unavailable       Barnet  \n",
       "1547323  Criminal damage and arson  Status update unavailable       Barnet  \n",
       "1547324  Criminal damage and arson  Status update unavailable       Barnet  \n",
       "1547325  Criminal damage and arson  Status update unavailable       Barnet  \n",
       "1547326  Criminal damage and arson  Status update unavailable       Barnet  \n",
       "1547327  Criminal damage and arson  Status update unavailable       Barnet  \n",
       "1547328  Criminal damage and arson  Status update unavailable       Barnet  \n",
       "1547329  Criminal damage and arson  Status update unavailable       Barnet  "
      ]
     },
     "execution_count": 47,
     "metadata": {},
     "output_type": "execute_result"
    }
   ],
   "source": [
    "# Test if there is any difference in the 29 duplicate records for Crime_ID='e22dfff770cd32f54941621e0b4a1000168dfa2fbfbd6afc42ac1304a18535ce'\n",
    "street_df[street_df.Crime_ID == 'e22dfff770cd32f54941621e0b4a1000168dfa2fbfbd6afc42ac1304a18535ce']"
   ]
  },
  {
   "cell_type": "markdown",
   "metadata": {},
   "source": [
    "### Crime_ID contains duplicate records. Remove them."
   ]
  },
  {
   "cell_type": "code",
   "execution_count": 48,
   "metadata": {},
   "outputs": [],
   "source": [
    "# Remove all the duplicate records except first instance of it\n",
    "street_df = street_df.drop_duplicates(subset='Crime_ID', keep='first')"
   ]
  },
  {
   "cell_type": "markdown",
   "metadata": {},
   "source": [
    "### Verify if still Crime_ID contains any duplicate record"
   ]
  },
  {
   "cell_type": "code",
   "execution_count": 27,
   "metadata": {},
   "outputs": [
    {
     "data": {
      "text/html": [
       "<div>\n",
       "<style scoped>\n",
       "    .dataframe tbody tr th:only-of-type {\n",
       "        vertical-align: middle;\n",
       "    }\n",
       "\n",
       "    .dataframe tbody tr th {\n",
       "        vertical-align: top;\n",
       "    }\n",
       "\n",
       "    .dataframe thead th {\n",
       "        text-align: right;\n",
       "    }\n",
       "</style>\n",
       "<table border=\"1\" class=\"dataframe\">\n",
       "  <thead>\n",
       "    <tr style=\"text-align: right;\">\n",
       "      <th></th>\n",
       "      <th>Crime_ID</th>\n",
       "      <th>DuplicationFrequency</th>\n",
       "    </tr>\n",
       "  </thead>\n",
       "  <tbody>\n",
       "    <tr>\n",
       "      <th>0</th>\n",
       "      <td>000001567f140ed3ff0830443cae9afeafc51d8ed818ed...</td>\n",
       "      <td>1</td>\n",
       "    </tr>\n",
       "    <tr>\n",
       "      <th>1579364</th>\n",
       "      <td>aad074f1bf852eef2701aa4a9fdeabb9732cdf8ee1a62a...</td>\n",
       "      <td>1</td>\n",
       "    </tr>\n",
       "    <tr>\n",
       "      <th>1579312</th>\n",
       "      <td>aacf5b74c53fef7f1aa74b21f94b28a6e7dcc42059c02a...</td>\n",
       "      <td>1</td>\n",
       "    </tr>\n",
       "    <tr>\n",
       "      <th>1579313</th>\n",
       "      <td>aacf5b84c669beca513adc923db07a34f3f972146fd47e...</td>\n",
       "      <td>1</td>\n",
       "    </tr>\n",
       "    <tr>\n",
       "      <th>1579314</th>\n",
       "      <td>aacf5c84bd4d916e26069cb83ab964045ac49ba95fc1b8...</td>\n",
       "      <td>1</td>\n",
       "    </tr>\n",
       "  </tbody>\n",
       "</table>\n",
       "</div>"
      ],
      "text/plain": [
       "                                                  Crime_ID  \\\n",
       "0        000001567f140ed3ff0830443cae9afeafc51d8ed818ed...   \n",
       "1579364  aad074f1bf852eef2701aa4a9fdeabb9732cdf8ee1a62a...   \n",
       "1579312  aacf5b74c53fef7f1aa74b21f94b28a6e7dcc42059c02a...   \n",
       "1579313  aacf5b84c669beca513adc923db07a34f3f972146fd47e...   \n",
       "1579314  aacf5c84bd4d916e26069cb83ab964045ac49ba95fc1b8...   \n",
       "\n",
       "         DuplicationFrequency  \n",
       "0                           1  \n",
       "1579364                     1  \n",
       "1579312                     1  \n",
       "1579313                     1  \n",
       "1579314                     1  "
      ]
     },
     "execution_count": 27,
     "metadata": {},
     "output_type": "execute_result"
    }
   ],
   "source": [
    "# check again now if street_df data frame have any duplicate value or not\n",
    "street_df.groupby('Crime_ID').size().reset_index(name='DuplicationFrequency').sort_values(by='DuplicationFrequency', ascending=False).head()"
   ]
  },
  {
   "cell_type": "code",
   "execution_count": 29,
   "metadata": {},
   "outputs": [
    {
     "data": {
      "text/plain": [
       "(2368973, 11)"
      ]
     },
     "execution_count": 29,
     "metadata": {},
     "output_type": "execute_result"
    }
   ],
   "source": [
    "# Check the shape of the data frame post duplicate removal action\n",
    "street_df.shape"
   ]
  },
  {
   "cell_type": "code",
   "execution_count": 35,
   "metadata": {},
   "outputs": [
    {
     "data": {
      "text/plain": [
       "(2368973, 15)"
      ]
     },
     "execution_count": 35,
     "metadata": {},
     "output_type": "execute_result"
    }
   ],
   "source": [
    "street_df.shape"
   ]
  },
  {
   "cell_type": "markdown",
   "metadata": {},
   "source": [
    "## Data Processing - For OUTCOME DATASET"
   ]
  },
  {
   "cell_type": "markdown",
   "metadata": {},
   "source": [
    "### STEP 01: Data Extraction"
   ]
  },
  {
   "cell_type": "code",
   "execution_count": 49,
   "metadata": {},
   "outputs": [],
   "source": [
    "# Read CSV file to fetch crime's outcome from the dataset\n",
    "outcome_df = read_csv_file(FILESIZE.SMALL, outcome_csv)"
   ]
  },
  {
   "cell_type": "markdown",
   "metadata": {},
   "source": [
    "### STEP 02: EDA"
   ]
  },
  {
   "cell_type": "code",
   "execution_count": 13,
   "metadata": {},
   "outputs": [
    {
     "data": {
      "text/html": [
       "<div>\n",
       "<style scoped>\n",
       "    .dataframe tbody tr th:only-of-type {\n",
       "        vertical-align: middle;\n",
       "    }\n",
       "\n",
       "    .dataframe tbody tr th {\n",
       "        vertical-align: top;\n",
       "    }\n",
       "\n",
       "    .dataframe thead th {\n",
       "        text-align: right;\n",
       "    }\n",
       "</style>\n",
       "<table border=\"1\" class=\"dataframe\">\n",
       "  <thead>\n",
       "    <tr style=\"text-align: right;\">\n",
       "      <th></th>\n",
       "      <th>Crime_ID</th>\n",
       "      <th>Month</th>\n",
       "      <th>Reported_by</th>\n",
       "      <th>Falls_within</th>\n",
       "      <th>Longitude</th>\n",
       "      <th>Latitude</th>\n",
       "      <th>Location</th>\n",
       "      <th>LSOA_code</th>\n",
       "      <th>LSOA_name</th>\n",
       "      <th>Outcome_type</th>\n",
       "    </tr>\n",
       "  </thead>\n",
       "  <tbody>\n",
       "    <tr>\n",
       "      <th>0</th>\n",
       "      <td>291c213486e25b518aed832b4287d2f89e50c7e20c4caf...</td>\n",
       "      <td>2017-01</td>\n",
       "      <td>City of London Police</td>\n",
       "      <td>City of London Police</td>\n",
       "      <td>-0.074613</td>\n",
       "      <td>51.512060</td>\n",
       "      <td>On or near HAYDON STREET</td>\n",
       "      <td>E01000005</td>\n",
       "      <td>City of London 001E</td>\n",
       "      <td>Offender given a drugs possession warning</td>\n",
       "    </tr>\n",
       "    <tr>\n",
       "      <th>1</th>\n",
       "      <td>04ae5c66e6baf0527d4412182cf76287a076993f0f3622...</td>\n",
       "      <td>2017-01</td>\n",
       "      <td>City of London Police</td>\n",
       "      <td>City of London Police</td>\n",
       "      <td>-0.100179</td>\n",
       "      <td>51.514158</td>\n",
       "      <td>On or near Shopping Area</td>\n",
       "      <td>E01032739</td>\n",
       "      <td>City of London 001F</td>\n",
       "      <td>Investigation complete; no suspect identified</td>\n",
       "    </tr>\n",
       "    <tr>\n",
       "      <th>2</th>\n",
       "      <td>ce5cecc1f30c7c90a291d016b68ff42d8ffb4b39649bdb...</td>\n",
       "      <td>2017-01</td>\n",
       "      <td>City of London Police</td>\n",
       "      <td>City of London Police</td>\n",
       "      <td>-0.109155</td>\n",
       "      <td>51.516668</td>\n",
       "      <td>On or near FETTER LANE</td>\n",
       "      <td>E01032740</td>\n",
       "      <td>City of London 001G</td>\n",
       "      <td>Formal action is not in the public interest</td>\n",
       "    </tr>\n",
       "    <tr>\n",
       "      <th>3</th>\n",
       "      <td>50c00b20b1148ec241e1f2c3db57808bc1227c76233209...</td>\n",
       "      <td>2017-01</td>\n",
       "      <td>City of London Police</td>\n",
       "      <td>City of London Police</td>\n",
       "      <td>-0.087118</td>\n",
       "      <td>51.513199</td>\n",
       "      <td>On or near Nightclub</td>\n",
       "      <td>E01032739</td>\n",
       "      <td>City of London 001F</td>\n",
       "      <td>Investigation complete; no suspect identified</td>\n",
       "    </tr>\n",
       "    <tr>\n",
       "      <th>4</th>\n",
       "      <td>38cdaa19bac596279f55093676bb4142e4079d254384e3...</td>\n",
       "      <td>2017-01</td>\n",
       "      <td>City of London Police</td>\n",
       "      <td>City of London Police</td>\n",
       "      <td>-0.112519</td>\n",
       "      <td>51.517568</td>\n",
       "      <td>On or near SOUTHAMPTON BUILDINGS</td>\n",
       "      <td>E01032740</td>\n",
       "      <td>City of London 001G</td>\n",
       "      <td>Local resolution</td>\n",
       "    </tr>\n",
       "  </tbody>\n",
       "</table>\n",
       "</div>"
      ],
      "text/plain": [
       "                                            Crime_ID    Month  \\\n",
       "0  291c213486e25b518aed832b4287d2f89e50c7e20c4caf...  2017-01   \n",
       "1  04ae5c66e6baf0527d4412182cf76287a076993f0f3622...  2017-01   \n",
       "2  ce5cecc1f30c7c90a291d016b68ff42d8ffb4b39649bdb...  2017-01   \n",
       "3  50c00b20b1148ec241e1f2c3db57808bc1227c76233209...  2017-01   \n",
       "4  38cdaa19bac596279f55093676bb4142e4079d254384e3...  2017-01   \n",
       "\n",
       "             Reported_by           Falls_within  Longitude   Latitude  \\\n",
       "0  City of London Police  City of London Police  -0.074613  51.512060   \n",
       "1  City of London Police  City of London Police  -0.100179  51.514158   \n",
       "2  City of London Police  City of London Police  -0.109155  51.516668   \n",
       "3  City of London Police  City of London Police  -0.087118  51.513199   \n",
       "4  City of London Police  City of London Police  -0.112519  51.517568   \n",
       "\n",
       "                           Location  LSOA_code            LSOA_name  \\\n",
       "0          On or near HAYDON STREET  E01000005  City of London 001E   \n",
       "1          On or near Shopping Area  E01032739  City of London 001F   \n",
       "2            On or near FETTER LANE  E01032740  City of London 001G   \n",
       "3              On or near Nightclub  E01032739  City of London 001F   \n",
       "4  On or near SOUTHAMPTON BUILDINGS  E01032740  City of London 001G   \n",
       "\n",
       "                                    Outcome_type  \n",
       "0      Offender given a drugs possession warning  \n",
       "1  Investigation complete; no suspect identified  \n",
       "2    Formal action is not in the public interest  \n",
       "3  Investigation complete; no suspect identified  \n",
       "4                               Local resolution  "
      ]
     },
     "execution_count": 13,
     "metadata": {},
     "output_type": "execute_result"
    }
   ],
   "source": [
    "# Explore the structure of the data frame\n",
    "outcome_df.head()"
   ]
  },
  {
   "cell_type": "markdown",
   "metadata": {},
   "source": [
    "### STEP 03: Data cleansing\n",
    "\n",
    "#### Sort the outcome dataset on the Month basis to bring latest updated outcome on the top for each crime"
   ]
  },
  {
   "cell_type": "code",
   "execution_count": 50,
   "metadata": {},
   "outputs": [
    {
     "data": {
      "text/html": [
       "<div>\n",
       "<style scoped>\n",
       "    .dataframe tbody tr th:only-of-type {\n",
       "        vertical-align: middle;\n",
       "    }\n",
       "\n",
       "    .dataframe tbody tr th {\n",
       "        vertical-align: top;\n",
       "    }\n",
       "\n",
       "    .dataframe thead th {\n",
       "        text-align: right;\n",
       "    }\n",
       "</style>\n",
       "<table border=\"1\" class=\"dataframe\">\n",
       "  <thead>\n",
       "    <tr style=\"text-align: right;\">\n",
       "      <th></th>\n",
       "      <th>Crime_ID</th>\n",
       "      <th>Month</th>\n",
       "      <th>Reported_by</th>\n",
       "      <th>Falls_within</th>\n",
       "      <th>Longitude</th>\n",
       "      <th>Latitude</th>\n",
       "      <th>Location</th>\n",
       "      <th>LSOA_code</th>\n",
       "      <th>LSOA_name</th>\n",
       "      <th>Outcome_type</th>\n",
       "    </tr>\n",
       "  </thead>\n",
       "  <tbody>\n",
       "    <tr>\n",
       "      <th>645183</th>\n",
       "      <td>3b60aed0ce6c29f63a00e44822492dcdc419b68a0974e5...</td>\n",
       "      <td>2018-03</td>\n",
       "      <td>Metropolitan Police Service</td>\n",
       "      <td>Metropolitan Police Service</td>\n",
       "      <td>-0.030748</td>\n",
       "      <td>51.367789</td>\n",
       "      <td>On or near SHRUBLANDS AVENUE</td>\n",
       "      <td>E01001128</td>\n",
       "      <td>Croydon 025B</td>\n",
       "      <td>Defendant found not guilty</td>\n",
       "    </tr>\n",
       "    <tr>\n",
       "      <th>648225</th>\n",
       "      <td>3b60aed0ce6c29f63a00e44822492dcdc419b68a0974e5...</td>\n",
       "      <td>2018-03</td>\n",
       "      <td>Metropolitan Police Service</td>\n",
       "      <td>Metropolitan Police Service</td>\n",
       "      <td>-0.030748</td>\n",
       "      <td>51.367789</td>\n",
       "      <td>On or near SHRUBLANDS AVENUE</td>\n",
       "      <td>E01001128</td>\n",
       "      <td>Croydon 025B</td>\n",
       "      <td>Offender given community sentence</td>\n",
       "    </tr>\n",
       "  </tbody>\n",
       "</table>\n",
       "</div>"
      ],
      "text/plain": [
       "                                                 Crime_ID    Month  \\\n",
       "645183  3b60aed0ce6c29f63a00e44822492dcdc419b68a0974e5...  2018-03   \n",
       "648225  3b60aed0ce6c29f63a00e44822492dcdc419b68a0974e5...  2018-03   \n",
       "\n",
       "                        Reported_by                 Falls_within  Longitude  \\\n",
       "645183  Metropolitan Police Service  Metropolitan Police Service  -0.030748   \n",
       "648225  Metropolitan Police Service  Metropolitan Police Service  -0.030748   \n",
       "\n",
       "         Latitude                      Location  LSOA_code     LSOA_name  \\\n",
       "645183  51.367789  On or near SHRUBLANDS AVENUE  E01001128  Croydon 025B   \n",
       "648225  51.367789  On or near SHRUBLANDS AVENUE  E01001128  Croydon 025B   \n",
       "\n",
       "                             Outcome_type  \n",
       "645183         Defendant found not guilty  \n",
       "648225  Offender given community sentence  "
      ]
     },
     "execution_count": 50,
     "metadata": {},
     "output_type": "execute_result"
    }
   ],
   "source": [
    "# Sort the outcome data frame with Month column in descending order to get the latest crime id entry on top\n",
    "outcome_df = outcome_df.sort_values(by='Month', ascending=False)\n",
    "\n",
    "# Test if the latest crime id is appearing on the top \n",
    "outcome_df[outcome_df.Crime_ID == ('3b60aed0ce6c29f63a00e44822492dcdc419b68a0974e53e6884359dc2aec1aa')].sort_values(by='Month', ascending=False).head(2)"
   ]
  },
  {
   "cell_type": "markdown",
   "metadata": {},
   "source": [
    "#### Extract just the required columns from the outcome dataset"
   ]
  },
  {
   "cell_type": "code",
   "execution_count": 51,
   "metadata": {},
   "outputs": [],
   "source": [
    "# Need only two columns from the dataset and hence extract the required ones\n",
    "outcome_df = outcome_df[['Crime_ID','Outcome_type']]"
   ]
  },
  {
   "cell_type": "markdown",
   "metadata": {},
   "source": [
    "#### Rename 'Outcome_type' column to 'Latest_Outcome_type' for better readability"
   ]
  },
  {
   "cell_type": "code",
   "execution_count": 52,
   "metadata": {},
   "outputs": [],
   "source": [
    "# Rename the Outcome_type to Latest_outcome_type\n",
    "outcome_df.rename(columns = {'Outcome_type':'Latest_Outcome_type'}, inplace = True)"
   ]
  },
  {
   "cell_type": "markdown",
   "metadata": {},
   "source": [
    "### STEP 04: Remove duplicate Crime IDs so that only the recent outcome update will be availble in the dataset\n",
    "\n",
    "#### Before duplicate removal - Test how many are there"
   ]
  },
  {
   "cell_type": "code",
   "execution_count": 53,
   "metadata": {},
   "outputs": [
    {
     "data": {
      "text/html": [
       "<div>\n",
       "<style scoped>\n",
       "    .dataframe tbody tr th:only-of-type {\n",
       "        vertical-align: middle;\n",
       "    }\n",
       "\n",
       "    .dataframe tbody tr th {\n",
       "        vertical-align: top;\n",
       "    }\n",
       "\n",
       "    .dataframe thead th {\n",
       "        text-align: right;\n",
       "    }\n",
       "</style>\n",
       "<table border=\"1\" class=\"dataframe\">\n",
       "  <thead>\n",
       "    <tr style=\"text-align: right;\">\n",
       "      <th></th>\n",
       "      <th>Crime_ID</th>\n",
       "      <th>DuplicationFrequency</th>\n",
       "    </tr>\n",
       "  </thead>\n",
       "  <tbody>\n",
       "    <tr>\n",
       "      <th>230575</th>\n",
       "      <td>3b60aed0ce6c29f63a00e44822492dcdc419b68a0974e5...</td>\n",
       "      <td>28</td>\n",
       "    </tr>\n",
       "    <tr>\n",
       "      <th>298245</th>\n",
       "      <td>4cd2361bb632061bab05c894a7885a4d03aa3bc01b010f...</td>\n",
       "      <td>17</td>\n",
       "    </tr>\n",
       "    <tr>\n",
       "      <th>466023</th>\n",
       "      <td>77e565ce040eda43d5a41bd767c296ffb3c6169ce7047e...</td>\n",
       "      <td>17</td>\n",
       "    </tr>\n",
       "    <tr>\n",
       "      <th>51446</th>\n",
       "      <td>0d43447ed0a150b1f02b8f4a2a26de1d4a2b46ff53fb23...</td>\n",
       "      <td>16</td>\n",
       "    </tr>\n",
       "    <tr>\n",
       "      <th>909559</th>\n",
       "      <td>e9c2cd701fcdc9fa72c8c7fb2ba63566d9b212ce89a78e...</td>\n",
       "      <td>16</td>\n",
       "    </tr>\n",
       "  </tbody>\n",
       "</table>\n",
       "</div>"
      ],
      "text/plain": [
       "                                                 Crime_ID  \\\n",
       "230575  3b60aed0ce6c29f63a00e44822492dcdc419b68a0974e5...   \n",
       "298245  4cd2361bb632061bab05c894a7885a4d03aa3bc01b010f...   \n",
       "466023  77e565ce040eda43d5a41bd767c296ffb3c6169ce7047e...   \n",
       "51446   0d43447ed0a150b1f02b8f4a2a26de1d4a2b46ff53fb23...   \n",
       "909559  e9c2cd701fcdc9fa72c8c7fb2ba63566d9b212ce89a78e...   \n",
       "\n",
       "        DuplicationFrequency  \n",
       "230575                    28  \n",
       "298245                    17  \n",
       "466023                    17  \n",
       "51446                     16  \n",
       "909559                    16  "
      ]
     },
     "execution_count": 53,
     "metadata": {},
     "output_type": "execute_result"
    }
   ],
   "source": [
    "# check if Outcome data frame have any duplicate value for 'Crime_ID'\n",
    "outcome_df.groupby('Crime_ID').size().reset_index(name='DuplicationFrequency').sort_values(by='DuplicationFrequency', ascending=False).head()"
   ]
  },
  {
   "cell_type": "markdown",
   "metadata": {},
   "source": [
    "#### Remove duplicates"
   ]
  },
  {
   "cell_type": "code",
   "execution_count": 54,
   "metadata": {},
   "outputs": [],
   "source": [
    "# Remove all the duplicate records except first instance of it\n",
    "outcome_df = outcome_df.drop_duplicates(subset='Crime_ID', keep='first')"
   ]
  },
  {
   "cell_type": "markdown",
   "metadata": {},
   "source": [
    "#### After duplicate removal - Verify there is no duplicate entry any more"
   ]
  },
  {
   "cell_type": "code",
   "execution_count": 19,
   "metadata": {},
   "outputs": [
    {
     "data": {
      "text/html": [
       "<div>\n",
       "<style scoped>\n",
       "    .dataframe tbody tr th:only-of-type {\n",
       "        vertical-align: middle;\n",
       "    }\n",
       "\n",
       "    .dataframe tbody tr th {\n",
       "        vertical-align: top;\n",
       "    }\n",
       "\n",
       "    .dataframe thead th {\n",
       "        text-align: right;\n",
       "    }\n",
       "</style>\n",
       "<table border=\"1\" class=\"dataframe\">\n",
       "  <thead>\n",
       "    <tr style=\"text-align: right;\">\n",
       "      <th></th>\n",
       "      <th>Crime_ID</th>\n",
       "      <th>DuplicationFrequency</th>\n",
       "    </tr>\n",
       "  </thead>\n",
       "  <tbody>\n",
       "    <tr>\n",
       "      <th>0</th>\n",
       "      <td>000001567f140ed3ff0830443cae9afeafc51d8ed818ed...</td>\n",
       "      <td>1</td>\n",
       "    </tr>\n",
       "    <tr>\n",
       "      <th>664107</th>\n",
       "      <td>aae4aeb4314f8ede60d0625891580fdaeb0383e1a34c0c...</td>\n",
       "      <td>1</td>\n",
       "    </tr>\n",
       "    <tr>\n",
       "      <th>664079</th>\n",
       "      <td>aae2cb09dd8cc9ac40b43bc5d13b61ea1b0ebcef208097...</td>\n",
       "      <td>1</td>\n",
       "    </tr>\n",
       "    <tr>\n",
       "      <th>664080</th>\n",
       "      <td>aae2d19325306180bc8e9dd5d3f03848d77fea9cbbee58...</td>\n",
       "      <td>1</td>\n",
       "    </tr>\n",
       "    <tr>\n",
       "      <th>664081</th>\n",
       "      <td>aae2dcb43c91b6a9dd71d55517640f7bfbcbcca45e89af...</td>\n",
       "      <td>1</td>\n",
       "    </tr>\n",
       "  </tbody>\n",
       "</table>\n",
       "</div>"
      ],
      "text/plain": [
       "                                                 Crime_ID  \\\n",
       "0       000001567f140ed3ff0830443cae9afeafc51d8ed818ed...   \n",
       "664107  aae4aeb4314f8ede60d0625891580fdaeb0383e1a34c0c...   \n",
       "664079  aae2cb09dd8cc9ac40b43bc5d13b61ea1b0ebcef208097...   \n",
       "664080  aae2d19325306180bc8e9dd5d3f03848d77fea9cbbee58...   \n",
       "664081  aae2dcb43c91b6a9dd71d55517640f7bfbcbcca45e89af...   \n",
       "\n",
       "        DuplicationFrequency  \n",
       "0                          1  \n",
       "664107                     1  \n",
       "664079                     1  \n",
       "664080                     1  \n",
       "664081                     1  "
      ]
     },
     "execution_count": 19,
     "metadata": {},
     "output_type": "execute_result"
    }
   ],
   "source": [
    "# check if street data frame have any duplicate value for 'Crime_ID'\n",
    "outcome_df.groupby('Crime_ID').size().reset_index(name='DuplicationFrequency').sort_values(by='DuplicationFrequency', ascending=False).head()"
   ]
  },
  {
   "cell_type": "markdown",
   "metadata": {},
   "source": [
    "# Merge STREET data with OUTCOME data"
   ]
  },
  {
   "cell_type": "code",
   "execution_count": 20,
   "metadata": {},
   "outputs": [
    {
     "data": {
      "text/plain": [
       "(2368973, 11)"
      ]
     },
     "execution_count": 20,
     "metadata": {},
     "output_type": "execute_result"
    }
   ],
   "source": [
    "# Check total number of rows before joining with outcome dataset\n",
    "street_df.shape"
   ]
  },
  {
   "cell_type": "code",
   "execution_count": 55,
   "metadata": {},
   "outputs": [],
   "source": [
    "# Do the left outer joining so that all street data will be retained along with the joined outcome data\n",
    "street_df = pd.merge(left=street_df, right=outcome_df, on='Crime_ID', how='left')"
   ]
  },
  {
   "cell_type": "code",
   "execution_count": 22,
   "metadata": {},
   "outputs": [
    {
     "data": {
      "text/plain": [
       "(2368973, 12)"
      ]
     },
     "execution_count": 22,
     "metadata": {},
     "output_type": "execute_result"
    }
   ],
   "source": [
    "# Check total number of rows after joining with outcome dataset\n",
    "street_df.shape"
   ]
  },
  {
   "cell_type": "code",
   "execution_count": 23,
   "metadata": {},
   "outputs": [
    {
     "data": {
      "text/plain": [
       "Index(['Crime_ID', 'Month', 'Falls_within', 'Longitude', 'Latitude',\n",
       "       'Location', 'LSOA_code', 'LSOA_name', 'Crime_type',\n",
       "       'Last_outcome_category', 'Borough_name', 'Latest_Outcome_type'],\n",
       "      dtype='object')"
      ]
     },
     "execution_count": 23,
     "metadata": {},
     "output_type": "execute_result"
    }
   ],
   "source": [
    "street_df.columns"
   ]
  },
  {
   "cell_type": "code",
   "execution_count": 56,
   "metadata": {},
   "outputs": [
    {
     "data": {
      "text/html": [
       "<div>\n",
       "<style scoped>\n",
       "    .dataframe tbody tr th:only-of-type {\n",
       "        vertical-align: middle;\n",
       "    }\n",
       "\n",
       "    .dataframe tbody tr th {\n",
       "        vertical-align: top;\n",
       "    }\n",
       "\n",
       "    .dataframe thead th {\n",
       "        text-align: right;\n",
       "    }\n",
       "</style>\n",
       "<table border=\"1\" class=\"dataframe\">\n",
       "  <thead>\n",
       "    <tr style=\"text-align: right;\">\n",
       "      <th></th>\n",
       "      <th>Crime_ID</th>\n",
       "      <th>Month</th>\n",
       "      <th>Falls_within</th>\n",
       "      <th>Longitude</th>\n",
       "      <th>Latitude</th>\n",
       "      <th>Location</th>\n",
       "      <th>LSOA_code</th>\n",
       "      <th>LSOA_name</th>\n",
       "      <th>Crime_type</th>\n",
       "      <th>Last_outcome_category</th>\n",
       "      <th>Borough_name</th>\n",
       "      <th>Latest_Outcome_type</th>\n",
       "    </tr>\n",
       "  </thead>\n",
       "  <tbody>\n",
       "    <tr>\n",
       "      <th>0</th>\n",
       "      <td>aad8f637ccaf198afcc0b0a708da31aa9d58142d746dd5...</td>\n",
       "      <td>2017-04</td>\n",
       "      <td>City of London Police</td>\n",
       "      <td>-0.111497</td>\n",
       "      <td>51.518226</td>\n",
       "      <td>On or near Pedestrian Subway</td>\n",
       "      <td>E01000914</td>\n",
       "      <td>Camden 028B</td>\n",
       "      <td>Criminal damage and arson</td>\n",
       "      <td>Court result unavailable</td>\n",
       "      <td>Camden</td>\n",
       "      <td>Suspect charged</td>\n",
       "    </tr>\n",
       "    <tr>\n",
       "      <th>1</th>\n",
       "      <td>79a0f62e5ba67a94251a5488e1c5708c079469a25628ee...</td>\n",
       "      <td>2017-04</td>\n",
       "      <td>City of London Police</td>\n",
       "      <td>-0.111497</td>\n",
       "      <td>51.518226</td>\n",
       "      <td>On or near Pedestrian Subway</td>\n",
       "      <td>E01000914</td>\n",
       "      <td>Camden 028B</td>\n",
       "      <td>Other theft</td>\n",
       "      <td>Investigation complete; no suspect identified</td>\n",
       "      <td>Camden</td>\n",
       "      <td>Investigation complete; no suspect identified</td>\n",
       "    </tr>\n",
       "  </tbody>\n",
       "</table>\n",
       "</div>"
      ],
      "text/plain": [
       "                                            Crime_ID    Month  \\\n",
       "0  aad8f637ccaf198afcc0b0a708da31aa9d58142d746dd5...  2017-04   \n",
       "1  79a0f62e5ba67a94251a5488e1c5708c079469a25628ee...  2017-04   \n",
       "\n",
       "            Falls_within  Longitude   Latitude                      Location  \\\n",
       "0  City of London Police  -0.111497  51.518226  On or near Pedestrian Subway   \n",
       "1  City of London Police  -0.111497  51.518226  On or near Pedestrian Subway   \n",
       "\n",
       "   LSOA_code    LSOA_name                 Crime_type  \\\n",
       "0  E01000914  Camden 028B  Criminal damage and arson   \n",
       "1  E01000914  Camden 028B                Other theft   \n",
       "\n",
       "                           Last_outcome_category Borough_name  \\\n",
       "0                       Court result unavailable       Camden   \n",
       "1  Investigation complete; no suspect identified       Camden   \n",
       "\n",
       "                             Latest_Outcome_type  \n",
       "0                                Suspect charged  \n",
       "1  Investigation complete; no suspect identified  "
      ]
     },
     "execution_count": 56,
     "metadata": {},
     "output_type": "execute_result"
    }
   ],
   "source": [
    "street_df.head(2)"
   ]
  },
  {
   "cell_type": "markdown",
   "metadata": {},
   "source": [
    "#### Check if there are any null value exist in newly added columns"
   ]
  },
  {
   "cell_type": "code",
   "execution_count": 57,
   "metadata": {},
   "outputs": [
    {
     "data": {
      "text/plain": [
       "Crime_ID                       0\n",
       "Month                          0\n",
       "Falls_within                   0\n",
       "Longitude                      0\n",
       "Latitude                       0\n",
       "Location                       0\n",
       "LSOA_code                      0\n",
       "LSOA_name                      0\n",
       "Crime_type                     0\n",
       "Last_outcome_category          0\n",
       "Borough_name                   0\n",
       "Latest_Outcome_type      1391314\n",
       "dtype: int64"
      ]
     },
     "execution_count": 57,
     "metadata": {},
     "output_type": "execute_result"
    }
   ],
   "source": [
    "# Check how many newly merged columns have the null values\n",
    "street_df.isna().sum()"
   ]
  },
  {
   "cell_type": "markdown",
   "metadata": {},
   "source": [
    "### Latest_update_month and Latest_outcome_type having nulls\n",
    "#### Update the empty/null outcome type to the last_outcome type"
   ]
  },
  {
   "cell_type": "code",
   "execution_count": 51,
   "metadata": {},
   "outputs": [],
   "source": [
    "# replace null values with 'Last_outcome_category' text\n",
    "street_df.Latest_Outcome_type.fillna(street_df['Last_outcome_category'], inplace=True)"
   ]
  },
  {
   "cell_type": "code",
   "execution_count": 52,
   "metadata": {},
   "outputs": [
    {
     "data": {
      "text/plain": [
       "Crime_ID                 0\n",
       "Month                    0\n",
       "Falls_within             0\n",
       "Longitude                0\n",
       "Latitude                 0\n",
       "Location                 0\n",
       "LSOA_code                0\n",
       "LSOA_name                0\n",
       "Crime_type               0\n",
       "Last_outcome_category    0\n",
       "Borough_name             0\n",
       "Location_ID              0\n",
       "Address_ID               0\n",
       "Crime_type_ID            0\n",
       "Police_force_ID          0\n",
       "Latest_Outcome_type      0\n",
       "dtype: int64"
      ]
     },
     "execution_count": 52,
     "metadata": {},
     "output_type": "execute_result"
    }
   ],
   "source": [
    "# Check if there is no more columns left with NULL values\n",
    "street_df.isna().sum()"
   ]
  },
  {
   "cell_type": "markdown",
   "metadata": {},
   "source": [
    "#### Remove \"Last_outcome_category\" and retain the \"Latest outcome category\" only"
   ]
  },
  {
   "cell_type": "code",
   "execution_count": 58,
   "metadata": {},
   "outputs": [],
   "source": [
    "# Drop Last_outcome_category\n",
    "street_df = street_df.drop(['Last_outcome_category'], axis=1)"
   ]
  },
  {
   "cell_type": "code",
   "execution_count": 28,
   "metadata": {},
   "outputs": [
    {
     "data": {
      "text/html": [
       "<div>\n",
       "<style scoped>\n",
       "    .dataframe tbody tr th:only-of-type {\n",
       "        vertical-align: middle;\n",
       "    }\n",
       "\n",
       "    .dataframe tbody tr th {\n",
       "        vertical-align: top;\n",
       "    }\n",
       "\n",
       "    .dataframe thead th {\n",
       "        text-align: right;\n",
       "    }\n",
       "</style>\n",
       "<table border=\"1\" class=\"dataframe\">\n",
       "  <thead>\n",
       "    <tr style=\"text-align: right;\">\n",
       "      <th></th>\n",
       "      <th>Crime_ID</th>\n",
       "      <th>Month</th>\n",
       "      <th>Falls_within</th>\n",
       "      <th>Longitude</th>\n",
       "      <th>Latitude</th>\n",
       "      <th>Location</th>\n",
       "      <th>LSOA_code</th>\n",
       "      <th>LSOA_name</th>\n",
       "      <th>Crime_type</th>\n",
       "      <th>Borough_name</th>\n",
       "      <th>Latest_Outcome_type</th>\n",
       "    </tr>\n",
       "  </thead>\n",
       "  <tbody>\n",
       "    <tr>\n",
       "      <th>0</th>\n",
       "      <td>aad8f637ccaf198afcc0b0a708da31aa9d58142d746dd5...</td>\n",
       "      <td>2017-04</td>\n",
       "      <td>City of London Police</td>\n",
       "      <td>-0.111497</td>\n",
       "      <td>51.518226</td>\n",
       "      <td>On or near Pedestrian Subway</td>\n",
       "      <td>E01000914</td>\n",
       "      <td>Camden 028B</td>\n",
       "      <td>Criminal damage and arson</td>\n",
       "      <td>Camden</td>\n",
       "      <td>Suspect charged</td>\n",
       "    </tr>\n",
       "    <tr>\n",
       "      <th>1</th>\n",
       "      <td>79a0f62e5ba67a94251a5488e1c5708c079469a25628ee...</td>\n",
       "      <td>2017-04</td>\n",
       "      <td>City of London Police</td>\n",
       "      <td>-0.111497</td>\n",
       "      <td>51.518226</td>\n",
       "      <td>On or near Pedestrian Subway</td>\n",
       "      <td>E01000914</td>\n",
       "      <td>Camden 028B</td>\n",
       "      <td>Other theft</td>\n",
       "      <td>Camden</td>\n",
       "      <td>Investigation complete; no suspect identified</td>\n",
       "    </tr>\n",
       "    <tr>\n",
       "      <th>2</th>\n",
       "      <td>f94646a81d8cd0b211269e034f4b243a95e40b42c6cfde...</td>\n",
       "      <td>2017-03</td>\n",
       "      <td>City of London Police</td>\n",
       "      <td>-0.106453</td>\n",
       "      <td>51.518207</td>\n",
       "      <td>On or near Charterhouse Street</td>\n",
       "      <td>E01000916</td>\n",
       "      <td>Camden 027B</td>\n",
       "      <td>Other theft</td>\n",
       "      <td>Camden</td>\n",
       "      <td>Investigation complete; no suspect identified</td>\n",
       "    </tr>\n",
       "    <tr>\n",
       "      <th>3</th>\n",
       "      <td>06e52c57d14cf928dd2b90e1275865ba7f67bcb0dda557...</td>\n",
       "      <td>2017-03</td>\n",
       "      <td>City of London Police</td>\n",
       "      <td>-0.113767</td>\n",
       "      <td>51.517372</td>\n",
       "      <td>On or near Stone Buildings</td>\n",
       "      <td>E01000914</td>\n",
       "      <td>Camden 028B</td>\n",
       "      <td>Criminal damage and arson</td>\n",
       "      <td>Camden</td>\n",
       "      <td>NaN</td>\n",
       "    </tr>\n",
       "    <tr>\n",
       "      <th>4</th>\n",
       "      <td>f648c88a44761c51956683a19c540c863378a98796362e...</td>\n",
       "      <td>2017-03</td>\n",
       "      <td>City of London Police</td>\n",
       "      <td>-0.111497</td>\n",
       "      <td>51.518226</td>\n",
       "      <td>On or near Pedestrian Subway</td>\n",
       "      <td>E01000914</td>\n",
       "      <td>Camden 028B</td>\n",
       "      <td>Violence and sexual offences</td>\n",
       "      <td>Camden</td>\n",
       "      <td>Unable to prosecute suspect</td>\n",
       "    </tr>\n",
       "  </tbody>\n",
       "</table>\n",
       "</div>"
      ],
      "text/plain": [
       "                                            Crime_ID    Month  \\\n",
       "0  aad8f637ccaf198afcc0b0a708da31aa9d58142d746dd5...  2017-04   \n",
       "1  79a0f62e5ba67a94251a5488e1c5708c079469a25628ee...  2017-04   \n",
       "2  f94646a81d8cd0b211269e034f4b243a95e40b42c6cfde...  2017-03   \n",
       "3  06e52c57d14cf928dd2b90e1275865ba7f67bcb0dda557...  2017-03   \n",
       "4  f648c88a44761c51956683a19c540c863378a98796362e...  2017-03   \n",
       "\n",
       "            Falls_within  Longitude   Latitude  \\\n",
       "0  City of London Police  -0.111497  51.518226   \n",
       "1  City of London Police  -0.111497  51.518226   \n",
       "2  City of London Police  -0.106453  51.518207   \n",
       "3  City of London Police  -0.113767  51.517372   \n",
       "4  City of London Police  -0.111497  51.518226   \n",
       "\n",
       "                         Location  LSOA_code    LSOA_name  \\\n",
       "0    On or near Pedestrian Subway  E01000914  Camden 028B   \n",
       "1    On or near Pedestrian Subway  E01000914  Camden 028B   \n",
       "2  On or near Charterhouse Street  E01000916  Camden 027B   \n",
       "3      On or near Stone Buildings  E01000914  Camden 028B   \n",
       "4    On or near Pedestrian Subway  E01000914  Camden 028B   \n",
       "\n",
       "                     Crime_type Borough_name  \\\n",
       "0     Criminal damage and arson       Camden   \n",
       "1                   Other theft       Camden   \n",
       "2                   Other theft       Camden   \n",
       "3     Criminal damage and arson       Camden   \n",
       "4  Violence and sexual offences       Camden   \n",
       "\n",
       "                             Latest_Outcome_type  \n",
       "0                                Suspect charged  \n",
       "1  Investigation complete; no suspect identified  \n",
       "2  Investigation complete; no suspect identified  \n",
       "3                                            NaN  \n",
       "4                    Unable to prosecute suspect  "
      ]
     },
     "execution_count": 28,
     "metadata": {},
     "output_type": "execute_result"
    }
   ],
   "source": [
    "street_df.head()"
   ]
  },
  {
   "cell_type": "code",
   "execution_count": 59,
   "metadata": {},
   "outputs": [
    {
     "data": {
      "text/plain": [
       "(2368973, 11)"
      ]
     },
     "execution_count": 59,
     "metadata": {},
     "output_type": "execute_result"
    }
   ],
   "source": [
    "street_df.shape"
   ]
  },
  {
   "cell_type": "code",
   "execution_count": 60,
   "metadata": {},
   "outputs": [
    {
     "data": {
      "text/html": [
       "<div>\n",
       "<style scoped>\n",
       "    .dataframe tbody tr th:only-of-type {\n",
       "        vertical-align: middle;\n",
       "    }\n",
       "\n",
       "    .dataframe tbody tr th {\n",
       "        vertical-align: top;\n",
       "    }\n",
       "\n",
       "    .dataframe thead th {\n",
       "        text-align: right;\n",
       "    }\n",
       "</style>\n",
       "<table border=\"1\" class=\"dataframe\">\n",
       "  <thead>\n",
       "    <tr style=\"text-align: right;\">\n",
       "      <th></th>\n",
       "      <th>Crime_ID</th>\n",
       "      <th>Month</th>\n",
       "      <th>Falls_within</th>\n",
       "      <th>Longitude</th>\n",
       "      <th>Latitude</th>\n",
       "      <th>Location</th>\n",
       "      <th>LSOA_code</th>\n",
       "      <th>LSOA_name</th>\n",
       "      <th>Crime_type</th>\n",
       "      <th>Borough_name</th>\n",
       "      <th>Location_ID</th>\n",
       "      <th>Address_ID</th>\n",
       "      <th>Crime_type_ID</th>\n",
       "      <th>Police_force_ID</th>\n",
       "      <th>Latest_Outcome_type</th>\n",
       "      <th>Outcome_type_ID</th>\n",
       "    </tr>\n",
       "  </thead>\n",
       "  <tbody>\n",
       "    <tr>\n",
       "      <th>0</th>\n",
       "      <td>aad8f637ccaf198afcc0b0a708da31aa9d58142d746dd5...</td>\n",
       "      <td>2017-04</td>\n",
       "      <td>City of London Police</td>\n",
       "      <td>-0.111497</td>\n",
       "      <td>51.518226</td>\n",
       "      <td>On or near Pedestrian Subway</td>\n",
       "      <td>E01000914</td>\n",
       "      <td>Camden 028B</td>\n",
       "      <td>Criminal damage and arson</td>\n",
       "      <td>Camden</td>\n",
       "      <td>30784</td>\n",
       "      <td>897</td>\n",
       "      <td>3</td>\n",
       "      <td>1</td>\n",
       "      <td>Suspect charged</td>\n",
       "      <td>23</td>\n",
       "    </tr>\n",
       "    <tr>\n",
       "      <th>1</th>\n",
       "      <td>79a0f62e5ba67a94251a5488e1c5708c079469a25628ee...</td>\n",
       "      <td>2017-04</td>\n",
       "      <td>City of London Police</td>\n",
       "      <td>-0.111497</td>\n",
       "      <td>51.518226</td>\n",
       "      <td>On or near Pedestrian Subway</td>\n",
       "      <td>E01000914</td>\n",
       "      <td>Camden 028B</td>\n",
       "      <td>Other theft</td>\n",
       "      <td>Camden</td>\n",
       "      <td>30784</td>\n",
       "      <td>897</td>\n",
       "      <td>6</td>\n",
       "      <td>1</td>\n",
       "      <td>Investigation complete; no suspect identified</td>\n",
       "      <td>8</td>\n",
       "    </tr>\n",
       "    <tr>\n",
       "      <th>2</th>\n",
       "      <td>f94646a81d8cd0b211269e034f4b243a95e40b42c6cfde...</td>\n",
       "      <td>2017-03</td>\n",
       "      <td>City of London Police</td>\n",
       "      <td>-0.106453</td>\n",
       "      <td>51.518207</td>\n",
       "      <td>On or near Charterhouse Street</td>\n",
       "      <td>E01000916</td>\n",
       "      <td>Camden 027B</td>\n",
       "      <td>Other theft</td>\n",
       "      <td>Camden</td>\n",
       "      <td>31649</td>\n",
       "      <td>899</td>\n",
       "      <td>6</td>\n",
       "      <td>1</td>\n",
       "      <td>Investigation complete; no suspect identified</td>\n",
       "      <td>8</td>\n",
       "    </tr>\n",
       "    <tr>\n",
       "      <th>3</th>\n",
       "      <td>06e52c57d14cf928dd2b90e1275865ba7f67bcb0dda557...</td>\n",
       "      <td>2017-03</td>\n",
       "      <td>City of London Police</td>\n",
       "      <td>-0.113767</td>\n",
       "      <td>51.517372</td>\n",
       "      <td>On or near Stone Buildings</td>\n",
       "      <td>E01000914</td>\n",
       "      <td>Camden 028B</td>\n",
       "      <td>Criminal damage and arson</td>\n",
       "      <td>Camden</td>\n",
       "      <td>30383</td>\n",
       "      <td>897</td>\n",
       "      <td>3</td>\n",
       "      <td>1</td>\n",
       "      <td>Status update unavailable</td>\n",
       "      <td>22</td>\n",
       "    </tr>\n",
       "    <tr>\n",
       "      <th>4</th>\n",
       "      <td>f648c88a44761c51956683a19c540c863378a98796362e...</td>\n",
       "      <td>2017-03</td>\n",
       "      <td>City of London Police</td>\n",
       "      <td>-0.111497</td>\n",
       "      <td>51.518226</td>\n",
       "      <td>On or near Pedestrian Subway</td>\n",
       "      <td>E01000914</td>\n",
       "      <td>Camden 028B</td>\n",
       "      <td>Violence and sexual offences</td>\n",
       "      <td>Camden</td>\n",
       "      <td>30784</td>\n",
       "      <td>897</td>\n",
       "      <td>13</td>\n",
       "      <td>1</td>\n",
       "      <td>Unable to prosecute suspect</td>\n",
       "      <td>25</td>\n",
       "    </tr>\n",
       "  </tbody>\n",
       "</table>\n",
       "</div>"
      ],
      "text/plain": [
       "                                            Crime_ID    Month  \\\n",
       "0  aad8f637ccaf198afcc0b0a708da31aa9d58142d746dd5...  2017-04   \n",
       "1  79a0f62e5ba67a94251a5488e1c5708c079469a25628ee...  2017-04   \n",
       "2  f94646a81d8cd0b211269e034f4b243a95e40b42c6cfde...  2017-03   \n",
       "3  06e52c57d14cf928dd2b90e1275865ba7f67bcb0dda557...  2017-03   \n",
       "4  f648c88a44761c51956683a19c540c863378a98796362e...  2017-03   \n",
       "\n",
       "            Falls_within  Longitude   Latitude  \\\n",
       "0  City of London Police  -0.111497  51.518226   \n",
       "1  City of London Police  -0.111497  51.518226   \n",
       "2  City of London Police  -0.106453  51.518207   \n",
       "3  City of London Police  -0.113767  51.517372   \n",
       "4  City of London Police  -0.111497  51.518226   \n",
       "\n",
       "                         Location  LSOA_code    LSOA_name  \\\n",
       "0    On or near Pedestrian Subway  E01000914  Camden 028B   \n",
       "1    On or near Pedestrian Subway  E01000914  Camden 028B   \n",
       "2  On or near Charterhouse Street  E01000916  Camden 027B   \n",
       "3      On or near Stone Buildings  E01000914  Camden 028B   \n",
       "4    On or near Pedestrian Subway  E01000914  Camden 028B   \n",
       "\n",
       "                     Crime_type Borough_name  Location_ID  Address_ID  \\\n",
       "0     Criminal damage and arson       Camden        30784         897   \n",
       "1                   Other theft       Camden        30784         897   \n",
       "2                   Other theft       Camden        31649         899   \n",
       "3     Criminal damage and arson       Camden        30383         897   \n",
       "4  Violence and sexual offences       Camden        30784         897   \n",
       "\n",
       "   Crime_type_ID  Police_force_ID  \\\n",
       "0              3                1   \n",
       "1              6                1   \n",
       "2              6                1   \n",
       "3              3                1   \n",
       "4             13                1   \n",
       "\n",
       "                             Latest_Outcome_type  Outcome_type_ID  \n",
       "0                                Suspect charged               23  \n",
       "1  Investigation complete; no suspect identified                8  \n",
       "2  Investigation complete; no suspect identified                8  \n",
       "3                      Status update unavailable               22  \n",
       "4                    Unable to prosecute suspect               25  "
      ]
     },
     "execution_count": 60,
     "metadata": {},
     "output_type": "execute_result"
    }
   ],
   "source": [
    "street_df.head()"
   ]
  },
  {
   "cell_type": "markdown",
   "metadata": {},
   "source": [
    "### Split columns from one to two\n",
    "Split Month column to two columns named, Year and Month."
   ]
  },
  {
   "cell_type": "code",
   "execution_count": 60,
   "metadata": {},
   "outputs": [
    {
     "data": {
      "text/html": [
       "<div>\n",
       "<style scoped>\n",
       "    .dataframe tbody tr th:only-of-type {\n",
       "        vertical-align: middle;\n",
       "    }\n",
       "\n",
       "    .dataframe tbody tr th {\n",
       "        vertical-align: top;\n",
       "    }\n",
       "\n",
       "    .dataframe thead th {\n",
       "        text-align: right;\n",
       "    }\n",
       "</style>\n",
       "<table border=\"1\" class=\"dataframe\">\n",
       "  <thead>\n",
       "    <tr style=\"text-align: right;\">\n",
       "      <th></th>\n",
       "      <th>Crime_ID</th>\n",
       "      <th>Month</th>\n",
       "      <th>Falls_within</th>\n",
       "      <th>Longitude</th>\n",
       "      <th>Latitude</th>\n",
       "      <th>Location</th>\n",
       "      <th>LSOA_code</th>\n",
       "      <th>LSOA_name</th>\n",
       "      <th>Crime_type</th>\n",
       "      <th>Borough_name</th>\n",
       "      <th>Latest_Outcome_type</th>\n",
       "      <th>Year</th>\n",
       "    </tr>\n",
       "  </thead>\n",
       "  <tbody>\n",
       "    <tr>\n",
       "      <th>0</th>\n",
       "      <td>aad8f637ccaf198afcc0b0a708da31aa9d58142d746dd5...</td>\n",
       "      <td>04</td>\n",
       "      <td>City of London Police</td>\n",
       "      <td>-0.111497</td>\n",
       "      <td>51.518226</td>\n",
       "      <td>On or near Pedestrian Subway</td>\n",
       "      <td>E01000914</td>\n",
       "      <td>Camden 028B</td>\n",
       "      <td>Criminal damage and arson</td>\n",
       "      <td>Camden</td>\n",
       "      <td>Suspect charged</td>\n",
       "      <td>2017</td>\n",
       "    </tr>\n",
       "    <tr>\n",
       "      <th>1</th>\n",
       "      <td>79a0f62e5ba67a94251a5488e1c5708c079469a25628ee...</td>\n",
       "      <td>04</td>\n",
       "      <td>City of London Police</td>\n",
       "      <td>-0.111497</td>\n",
       "      <td>51.518226</td>\n",
       "      <td>On or near Pedestrian Subway</td>\n",
       "      <td>E01000914</td>\n",
       "      <td>Camden 028B</td>\n",
       "      <td>Other theft</td>\n",
       "      <td>Camden</td>\n",
       "      <td>Investigation complete; no suspect identified</td>\n",
       "      <td>2017</td>\n",
       "    </tr>\n",
       "    <tr>\n",
       "      <th>2</th>\n",
       "      <td>f94646a81d8cd0b211269e034f4b243a95e40b42c6cfde...</td>\n",
       "      <td>03</td>\n",
       "      <td>City of London Police</td>\n",
       "      <td>-0.106453</td>\n",
       "      <td>51.518207</td>\n",
       "      <td>On or near Charterhouse Street</td>\n",
       "      <td>E01000916</td>\n",
       "      <td>Camden 027B</td>\n",
       "      <td>Other theft</td>\n",
       "      <td>Camden</td>\n",
       "      <td>Investigation complete; no suspect identified</td>\n",
       "      <td>2017</td>\n",
       "    </tr>\n",
       "    <tr>\n",
       "      <th>3</th>\n",
       "      <td>06e52c57d14cf928dd2b90e1275865ba7f67bcb0dda557...</td>\n",
       "      <td>03</td>\n",
       "      <td>City of London Police</td>\n",
       "      <td>-0.113767</td>\n",
       "      <td>51.517372</td>\n",
       "      <td>On or near Stone Buildings</td>\n",
       "      <td>E01000914</td>\n",
       "      <td>Camden 028B</td>\n",
       "      <td>Criminal damage and arson</td>\n",
       "      <td>Camden</td>\n",
       "      <td>NaN</td>\n",
       "      <td>2017</td>\n",
       "    </tr>\n",
       "    <tr>\n",
       "      <th>4</th>\n",
       "      <td>f648c88a44761c51956683a19c540c863378a98796362e...</td>\n",
       "      <td>03</td>\n",
       "      <td>City of London Police</td>\n",
       "      <td>-0.111497</td>\n",
       "      <td>51.518226</td>\n",
       "      <td>On or near Pedestrian Subway</td>\n",
       "      <td>E01000914</td>\n",
       "      <td>Camden 028B</td>\n",
       "      <td>Violence and sexual offences</td>\n",
       "      <td>Camden</td>\n",
       "      <td>Unable to prosecute suspect</td>\n",
       "      <td>2017</td>\n",
       "    </tr>\n",
       "    <tr>\n",
       "      <th>5</th>\n",
       "      <td>0dc30996d6983818ad99f3cb8e07117dfd04feaaee7c10...</td>\n",
       "      <td>03</td>\n",
       "      <td>City of London Police</td>\n",
       "      <td>-0.111497</td>\n",
       "      <td>51.518226</td>\n",
       "      <td>On or near Pedestrian Subway</td>\n",
       "      <td>E01000914</td>\n",
       "      <td>Camden 028B</td>\n",
       "      <td>Violence and sexual offences</td>\n",
       "      <td>Camden</td>\n",
       "      <td>Unable to prosecute suspect</td>\n",
       "      <td>2017</td>\n",
       "    </tr>\n",
       "    <tr>\n",
       "      <th>6</th>\n",
       "      <td>36b20bdb03cadaac60b01469faf9699d1f7ff8644f66ac...</td>\n",
       "      <td>02</td>\n",
       "      <td>City of London Police</td>\n",
       "      <td>-0.111497</td>\n",
       "      <td>51.518226</td>\n",
       "      <td>On or near Pedestrian Subway</td>\n",
       "      <td>E01000914</td>\n",
       "      <td>Camden 028B</td>\n",
       "      <td>Criminal damage and arson</td>\n",
       "      <td>Camden</td>\n",
       "      <td>Investigation complete; no suspect identified</td>\n",
       "      <td>2017</td>\n",
       "    </tr>\n",
       "    <tr>\n",
       "      <th>7</th>\n",
       "      <td>ebcf4469e2cf89b8409f73900fb6df4baf128b73c48083...</td>\n",
       "      <td>02</td>\n",
       "      <td>City of London Police</td>\n",
       "      <td>-0.113767</td>\n",
       "      <td>51.517372</td>\n",
       "      <td>On or near Stone Buildings</td>\n",
       "      <td>E01000914</td>\n",
       "      <td>Camden 028B</td>\n",
       "      <td>Other theft</td>\n",
       "      <td>Camden</td>\n",
       "      <td>Investigation complete; no suspect identified</td>\n",
       "      <td>2017</td>\n",
       "    </tr>\n",
       "    <tr>\n",
       "      <th>8</th>\n",
       "      <td>b72d02780ec30b0f767f9c94b71967ec0eb5e8f8c1c42e...</td>\n",
       "      <td>11</td>\n",
       "      <td>City of London Police</td>\n",
       "      <td>-0.113256</td>\n",
       "      <td>51.516824</td>\n",
       "      <td>On or near Old Square</td>\n",
       "      <td>E01000914</td>\n",
       "      <td>Camden 028B</td>\n",
       "      <td>Bicycle theft</td>\n",
       "      <td>Camden</td>\n",
       "      <td>Further investigation is not in the public int...</td>\n",
       "      <td>2017</td>\n",
       "    </tr>\n",
       "    <tr>\n",
       "      <th>9</th>\n",
       "      <td>4868a1a661c8ff7cc2739b1347594a7506c7e05c016d5a...</td>\n",
       "      <td>11</td>\n",
       "      <td>City of London Police</td>\n",
       "      <td>-0.111497</td>\n",
       "      <td>51.518226</td>\n",
       "      <td>On or near Pedestrian Subway</td>\n",
       "      <td>E01000914</td>\n",
       "      <td>Camden 028B</td>\n",
       "      <td>Other theft</td>\n",
       "      <td>Camden</td>\n",
       "      <td>Investigation complete; no suspect identified</td>\n",
       "      <td>2017</td>\n",
       "    </tr>\n",
       "  </tbody>\n",
       "</table>\n",
       "</div>"
      ],
      "text/plain": [
       "                                            Crime_ID Month  \\\n",
       "0  aad8f637ccaf198afcc0b0a708da31aa9d58142d746dd5...    04   \n",
       "1  79a0f62e5ba67a94251a5488e1c5708c079469a25628ee...    04   \n",
       "2  f94646a81d8cd0b211269e034f4b243a95e40b42c6cfde...    03   \n",
       "3  06e52c57d14cf928dd2b90e1275865ba7f67bcb0dda557...    03   \n",
       "4  f648c88a44761c51956683a19c540c863378a98796362e...    03   \n",
       "5  0dc30996d6983818ad99f3cb8e07117dfd04feaaee7c10...    03   \n",
       "6  36b20bdb03cadaac60b01469faf9699d1f7ff8644f66ac...    02   \n",
       "7  ebcf4469e2cf89b8409f73900fb6df4baf128b73c48083...    02   \n",
       "8  b72d02780ec30b0f767f9c94b71967ec0eb5e8f8c1c42e...    11   \n",
       "9  4868a1a661c8ff7cc2739b1347594a7506c7e05c016d5a...    11   \n",
       "\n",
       "            Falls_within  Longitude   Latitude  \\\n",
       "0  City of London Police  -0.111497  51.518226   \n",
       "1  City of London Police  -0.111497  51.518226   \n",
       "2  City of London Police  -0.106453  51.518207   \n",
       "3  City of London Police  -0.113767  51.517372   \n",
       "4  City of London Police  -0.111497  51.518226   \n",
       "5  City of London Police  -0.111497  51.518226   \n",
       "6  City of London Police  -0.111497  51.518226   \n",
       "7  City of London Police  -0.113767  51.517372   \n",
       "8  City of London Police  -0.113256  51.516824   \n",
       "9  City of London Police  -0.111497  51.518226   \n",
       "\n",
       "                         Location  LSOA_code    LSOA_name  \\\n",
       "0    On or near Pedestrian Subway  E01000914  Camden 028B   \n",
       "1    On or near Pedestrian Subway  E01000914  Camden 028B   \n",
       "2  On or near Charterhouse Street  E01000916  Camden 027B   \n",
       "3      On or near Stone Buildings  E01000914  Camden 028B   \n",
       "4    On or near Pedestrian Subway  E01000914  Camden 028B   \n",
       "5    On or near Pedestrian Subway  E01000914  Camden 028B   \n",
       "6    On or near Pedestrian Subway  E01000914  Camden 028B   \n",
       "7      On or near Stone Buildings  E01000914  Camden 028B   \n",
       "8           On or near Old Square  E01000914  Camden 028B   \n",
       "9    On or near Pedestrian Subway  E01000914  Camden 028B   \n",
       "\n",
       "                     Crime_type Borough_name  \\\n",
       "0     Criminal damage and arson       Camden   \n",
       "1                   Other theft       Camden   \n",
       "2                   Other theft       Camden   \n",
       "3     Criminal damage and arson       Camden   \n",
       "4  Violence and sexual offences       Camden   \n",
       "5  Violence and sexual offences       Camden   \n",
       "6     Criminal damage and arson       Camden   \n",
       "7                   Other theft       Camden   \n",
       "8                 Bicycle theft       Camden   \n",
       "9                   Other theft       Camden   \n",
       "\n",
       "                                 Latest_Outcome_type  Year  \n",
       "0                                    Suspect charged  2017  \n",
       "1      Investigation complete; no suspect identified  2017  \n",
       "2      Investigation complete; no suspect identified  2017  \n",
       "3                                                NaN  2017  \n",
       "4                        Unable to prosecute suspect  2017  \n",
       "5                        Unable to prosecute suspect  2017  \n",
       "6      Investigation complete; no suspect identified  2017  \n",
       "7      Investigation complete; no suspect identified  2017  \n",
       "8  Further investigation is not in the public int...  2017  \n",
       "9      Investigation complete; no suspect identified  2017  "
      ]
     },
     "execution_count": 60,
     "metadata": {},
     "output_type": "execute_result"
    }
   ],
   "source": [
    "# Check if the month column have any null value \n",
    "number_of_null_months = street_df.Month[street_df.Month.isnull() == True].size\n",
    "\n",
    "#  Split  Month column to Year and Month only if their is no null value present inside Month\n",
    "if(number_of_null_months == 0):\n",
    "    # create Year column inside street dataframe and populate year data from the Month field\n",
    "    street_df['Year'] = street_df['Month'].str[: 4]\n",
    "    \n",
    "    # update Month column with just a Month number\n",
    "    street_df['Month'] = street_df['Month'].str[-2: ]\n",
    "    \n",
    "street_df.head(10)"
   ]
  },
  {
   "cell_type": "markdown",
   "metadata": {},
   "source": [
    "# Add new columns\n",
    "## Generate Location ID"
   ]
  },
  {
   "cell_type": "code",
   "execution_count": 61,
   "metadata": {},
   "outputs": [
    {
     "data": {
      "text/html": [
       "<div>\n",
       "<style scoped>\n",
       "    .dataframe tbody tr th:only-of-type {\n",
       "        vertical-align: middle;\n",
       "    }\n",
       "\n",
       "    .dataframe tbody tr th {\n",
       "        vertical-align: top;\n",
       "    }\n",
       "\n",
       "    .dataframe thead th {\n",
       "        text-align: right;\n",
       "    }\n",
       "</style>\n",
       "<table border=\"1\" class=\"dataframe\">\n",
       "  <thead>\n",
       "    <tr style=\"text-align: right;\">\n",
       "      <th></th>\n",
       "      <th>Location_ID</th>\n",
       "      <th>Count</th>\n",
       "    </tr>\n",
       "  </thead>\n",
       "  <tbody>\n",
       "    <tr>\n",
       "      <th>0</th>\n",
       "      <td>1</td>\n",
       "      <td>4</td>\n",
       "    </tr>\n",
       "    <tr>\n",
       "      <th>1</th>\n",
       "      <td>2</td>\n",
       "      <td>4</td>\n",
       "    </tr>\n",
       "    <tr>\n",
       "      <th>2</th>\n",
       "      <td>3</td>\n",
       "      <td>3</td>\n",
       "    </tr>\n",
       "    <tr>\n",
       "      <th>3</th>\n",
       "      <td>4</td>\n",
       "      <td>16</td>\n",
       "    </tr>\n",
       "    <tr>\n",
       "      <th>4</th>\n",
       "      <td>5</td>\n",
       "      <td>4</td>\n",
       "    </tr>\n",
       "    <tr>\n",
       "      <th>5</th>\n",
       "      <td>6</td>\n",
       "      <td>5</td>\n",
       "    </tr>\n",
       "    <tr>\n",
       "      <th>6</th>\n",
       "      <td>7</td>\n",
       "      <td>7</td>\n",
       "    </tr>\n",
       "    <tr>\n",
       "      <th>7</th>\n",
       "      <td>8</td>\n",
       "      <td>10</td>\n",
       "    </tr>\n",
       "    <tr>\n",
       "      <th>8</th>\n",
       "      <td>9</td>\n",
       "      <td>22</td>\n",
       "    </tr>\n",
       "    <tr>\n",
       "      <th>9</th>\n",
       "      <td>10</td>\n",
       "      <td>10</td>\n",
       "    </tr>\n",
       "  </tbody>\n",
       "</table>\n",
       "</div>"
      ],
      "text/plain": [
       "   Location_ID  Count\n",
       "0            1      4\n",
       "1            2      4\n",
       "2            3      3\n",
       "3            4     16\n",
       "4            5      4\n",
       "5            6      5\n",
       "6            7      7\n",
       "7            8     10\n",
       "8            9     22\n",
       "9           10     10"
      ]
     },
     "execution_count": 61,
     "metadata": {},
     "output_type": "execute_result"
    }
   ],
   "source": [
    "# create variable which contain the location group\n",
    "grp_location = ['Longitude','Latitude','Location']\n",
    "\n",
    "# create new column inside street dataframe for storing location id\n",
    "street_df['Location_ID'] = street_df.groupby(grp_location).ngroup() + 1\n",
    "\n",
    "# show Location ID in as sorted fashion\n",
    "street_df.groupby(['Location_ID']).size().reset_index(name='Count').sort_values(by='Location_ID', ascending=True).head(10)"
   ]
  },
  {
   "cell_type": "markdown",
   "metadata": {},
   "source": [
    "## Generate Address ID"
   ]
  },
  {
   "cell_type": "code",
   "execution_count": 62,
   "metadata": {},
   "outputs": [
    {
     "data": {
      "text/html": [
       "<div>\n",
       "<style scoped>\n",
       "    .dataframe tbody tr th:only-of-type {\n",
       "        vertical-align: middle;\n",
       "    }\n",
       "\n",
       "    .dataframe tbody tr th {\n",
       "        vertical-align: top;\n",
       "    }\n",
       "\n",
       "    .dataframe thead th {\n",
       "        text-align: right;\n",
       "    }\n",
       "</style>\n",
       "<table border=\"1\" class=\"dataframe\">\n",
       "  <thead>\n",
       "    <tr style=\"text-align: right;\">\n",
       "      <th></th>\n",
       "      <th>Address_ID</th>\n",
       "      <th>Count</th>\n",
       "    </tr>\n",
       "  </thead>\n",
       "  <tbody>\n",
       "    <tr>\n",
       "      <th>0</th>\n",
       "      <td>1</td>\n",
       "      <td>828</td>\n",
       "    </tr>\n",
       "    <tr>\n",
       "      <th>1</th>\n",
       "      <td>2</td>\n",
       "      <td>730</td>\n",
       "    </tr>\n",
       "    <tr>\n",
       "      <th>2</th>\n",
       "      <td>3</td>\n",
       "      <td>135</td>\n",
       "    </tr>\n",
       "    <tr>\n",
       "      <th>3</th>\n",
       "      <td>4</td>\n",
       "      <td>1468</td>\n",
       "    </tr>\n",
       "    <tr>\n",
       "      <th>4</th>\n",
       "      <td>5</td>\n",
       "      <td>235</td>\n",
       "    </tr>\n",
       "    <tr>\n",
       "      <th>5</th>\n",
       "      <td>6</td>\n",
       "      <td>1167</td>\n",
       "    </tr>\n",
       "    <tr>\n",
       "      <th>6</th>\n",
       "      <td>7</td>\n",
       "      <td>713</td>\n",
       "    </tr>\n",
       "    <tr>\n",
       "      <th>7</th>\n",
       "      <td>8</td>\n",
       "      <td>698</td>\n",
       "    </tr>\n",
       "    <tr>\n",
       "      <th>8</th>\n",
       "      <td>9</td>\n",
       "      <td>3799</td>\n",
       "    </tr>\n",
       "    <tr>\n",
       "      <th>9</th>\n",
       "      <td>10</td>\n",
       "      <td>300</td>\n",
       "    </tr>\n",
       "  </tbody>\n",
       "</table>\n",
       "</div>"
      ],
      "text/plain": [
       "   Address_ID  Count\n",
       "0           1    828\n",
       "1           2    730\n",
       "2           3    135\n",
       "3           4   1468\n",
       "4           5    235\n",
       "5           6   1167\n",
       "6           7    713\n",
       "7           8    698\n",
       "8           9   3799\n",
       "9          10    300"
      ]
     },
     "execution_count": 62,
     "metadata": {},
     "output_type": "execute_result"
    }
   ],
   "source": [
    "# create variable which contain the address group\n",
    "grp_address = ['LSOA_code','LSOA_name']\n",
    "\n",
    "# create new column inside street dataframe for storing location id\n",
    "street_df['Address_ID'] = street_df.groupby(grp_address).ngroup() + 1\n",
    "\n",
    "# show Address ID in as sorted fashion\n",
    "street_df.groupby(['Address_ID']).size().reset_index(name='Count').sort_values(by='Address_ID', ascending=True).head(10)"
   ]
  },
  {
   "cell_type": "markdown",
   "metadata": {},
   "source": [
    "## Generate Crime_type_ID"
   ]
  },
  {
   "cell_type": "code",
   "execution_count": 63,
   "metadata": {},
   "outputs": [
    {
     "data": {
      "text/html": [
       "<div>\n",
       "<style scoped>\n",
       "    .dataframe tbody tr th:only-of-type {\n",
       "        vertical-align: middle;\n",
       "    }\n",
       "\n",
       "    .dataframe tbody tr th {\n",
       "        vertical-align: top;\n",
       "    }\n",
       "\n",
       "    .dataframe thead th {\n",
       "        text-align: right;\n",
       "    }\n",
       "</style>\n",
       "<table border=\"1\" class=\"dataframe\">\n",
       "  <thead>\n",
       "    <tr style=\"text-align: right;\">\n",
       "      <th></th>\n",
       "      <th>Crime_type_ID</th>\n",
       "      <th>Count</th>\n",
       "    </tr>\n",
       "  </thead>\n",
       "  <tbody>\n",
       "    <tr>\n",
       "      <th>0</th>\n",
       "      <td>1</td>\n",
       "      <td>59534</td>\n",
       "    </tr>\n",
       "    <tr>\n",
       "      <th>1</th>\n",
       "      <td>2</td>\n",
       "      <td>232942</td>\n",
       "    </tr>\n",
       "    <tr>\n",
       "      <th>2</th>\n",
       "      <td>3</td>\n",
       "      <td>166949</td>\n",
       "    </tr>\n",
       "    <tr>\n",
       "      <th>3</th>\n",
       "      <td>4</td>\n",
       "      <td>106654</td>\n",
       "    </tr>\n",
       "    <tr>\n",
       "      <th>4</th>\n",
       "      <td>5</td>\n",
       "      <td>28018</td>\n",
       "    </tr>\n",
       "    <tr>\n",
       "      <th>5</th>\n",
       "      <td>6</td>\n",
       "      <td>345103</td>\n",
       "    </tr>\n",
       "    <tr>\n",
       "      <th>6</th>\n",
       "      <td>7</td>\n",
       "      <td>17256</td>\n",
       "    </tr>\n",
       "    <tr>\n",
       "      <th>7</th>\n",
       "      <td>8</td>\n",
       "      <td>130743</td>\n",
       "    </tr>\n",
       "    <tr>\n",
       "      <th>8</th>\n",
       "      <td>9</td>\n",
       "      <td>93411</td>\n",
       "    </tr>\n",
       "    <tr>\n",
       "      <th>9</th>\n",
       "      <td>10</td>\n",
       "      <td>132270</td>\n",
       "    </tr>\n",
       "    <tr>\n",
       "      <th>10</th>\n",
       "      <td>11</td>\n",
       "      <td>141786</td>\n",
       "    </tr>\n",
       "    <tr>\n",
       "      <th>11</th>\n",
       "      <td>12</td>\n",
       "      <td>328878</td>\n",
       "    </tr>\n",
       "    <tr>\n",
       "      <th>12</th>\n",
       "      <td>13</td>\n",
       "      <td>585429</td>\n",
>>>>>>> c56ceaba03c0fe26f665322f583f77c9e356d270
       "    </tr>\n",
       "  </tbody>\n",
       "</table>\n",
       "</div>"
      ],
      "text/plain": [
<<<<<<< HEAD
       "                                                  Crime_ID    Month  \\\n",
       "1547299  e22dfff770cd32f54941621e0b4a1000168dfa2fbfbd6a...  2019-03   \n",
       "1547300  e22dfff770cd32f54941621e0b4a1000168dfa2fbfbd6a...  2019-03   \n",
       "1547301  e22dfff770cd32f54941621e0b4a1000168dfa2fbfbd6a...  2019-03   \n",
       "1547302  e22dfff770cd32f54941621e0b4a1000168dfa2fbfbd6a...  2019-03   \n",
       "1547303  e22dfff770cd32f54941621e0b4a1000168dfa2fbfbd6a...  2019-03   \n",
       "1547304  e22dfff770cd32f54941621e0b4a1000168dfa2fbfbd6a...  2019-03   \n",
       "1547305  e22dfff770cd32f54941621e0b4a1000168dfa2fbfbd6a...  2019-03   \n",
       "1547306  e22dfff770cd32f54941621e0b4a1000168dfa2fbfbd6a...  2019-03   \n",
       "1547307  e22dfff770cd32f54941621e0b4a1000168dfa2fbfbd6a...  2019-03   \n",
       "1547309  e22dfff770cd32f54941621e0b4a1000168dfa2fbfbd6a...  2019-03   \n",
       "1547310  e22dfff770cd32f54941621e0b4a1000168dfa2fbfbd6a...  2019-03   \n",
       "1547311  e22dfff770cd32f54941621e0b4a1000168dfa2fbfbd6a...  2019-03   \n",
       "1547312  e22dfff770cd32f54941621e0b4a1000168dfa2fbfbd6a...  2019-03   \n",
       "1547314  e22dfff770cd32f54941621e0b4a1000168dfa2fbfbd6a...  2019-03   \n",
       "1547315  e22dfff770cd32f54941621e0b4a1000168dfa2fbfbd6a...  2019-03   \n",
       "1547316  e22dfff770cd32f54941621e0b4a1000168dfa2fbfbd6a...  2019-03   \n",
       "1547317  e22dfff770cd32f54941621e0b4a1000168dfa2fbfbd6a...  2019-03   \n",
       "1547318  e22dfff770cd32f54941621e0b4a1000168dfa2fbfbd6a...  2019-03   \n",
       "1547319  e22dfff770cd32f54941621e0b4a1000168dfa2fbfbd6a...  2019-03   \n",
       "1547320  e22dfff770cd32f54941621e0b4a1000168dfa2fbfbd6a...  2019-03   \n",
       "1547321  e22dfff770cd32f54941621e0b4a1000168dfa2fbfbd6a...  2019-03   \n",
       "1547322  e22dfff770cd32f54941621e0b4a1000168dfa2fbfbd6a...  2019-03   \n",
       "1547323  e22dfff770cd32f54941621e0b4a1000168dfa2fbfbd6a...  2019-03   \n",
       "1547324  e22dfff770cd32f54941621e0b4a1000168dfa2fbfbd6a...  2019-03   \n",
       "1547325  e22dfff770cd32f54941621e0b4a1000168dfa2fbfbd6a...  2019-03   \n",
       "1547326  e22dfff770cd32f54941621e0b4a1000168dfa2fbfbd6a...  2019-03   \n",
       "1547327  e22dfff770cd32f54941621e0b4a1000168dfa2fbfbd6a...  2019-03   \n",
       "1547328  e22dfff770cd32f54941621e0b4a1000168dfa2fbfbd6a...  2019-03   \n",
       "1547329  e22dfff770cd32f54941621e0b4a1000168dfa2fbfbd6a...  2019-03   \n",
       "\n",
       "                        Falls_within  Longitude   Latitude  \\\n",
       "1547299  Metropolitan Police Service  -0.187102  51.602265   \n",
       "1547300  Metropolitan Police Service  -0.187102  51.602265   \n",
       "1547301  Metropolitan Police Service  -0.187102  51.602265   \n",
       "1547302  Metropolitan Police Service  -0.187102  51.602265   \n",
       "1547303  Metropolitan Police Service  -0.187102  51.602265   \n",
       "1547304  Metropolitan Police Service  -0.187102  51.602265   \n",
       "1547305  Metropolitan Police Service  -0.187102  51.602265   \n",
       "1547306  Metropolitan Police Service  -0.187102  51.602265   \n",
       "1547307  Metropolitan Police Service  -0.187102  51.602265   \n",
       "1547309  Metropolitan Police Service  -0.187102  51.602265   \n",
       "1547310  Metropolitan Police Service  -0.187102  51.602265   \n",
       "1547311  Metropolitan Police Service  -0.187102  51.602265   \n",
       "1547312  Metropolitan Police Service  -0.187102  51.602265   \n",
       "1547314  Metropolitan Police Service  -0.187102  51.602265   \n",
       "1547315  Metropolitan Police Service  -0.187102  51.602265   \n",
       "1547316  Metropolitan Police Service  -0.187102  51.602265   \n",
       "1547317  Metropolitan Police Service  -0.187102  51.602265   \n",
       "1547318  Metropolitan Police Service  -0.187102  51.602265   \n",
       "1547319  Metropolitan Police Service  -0.187102  51.602265   \n",
       "1547320  Metropolitan Police Service  -0.187102  51.602265   \n",
       "1547321  Metropolitan Police Service  -0.187102  51.602265   \n",
       "1547322  Metropolitan Police Service  -0.187102  51.602265   \n",
       "1547323  Metropolitan Police Service  -0.187102  51.602265   \n",
       "1547324  Metropolitan Police Service  -0.187102  51.602265   \n",
       "1547325  Metropolitan Police Service  -0.187102  51.602265   \n",
       "1547326  Metropolitan Police Service  -0.187102  51.602265   \n",
       "1547327  Metropolitan Police Service  -0.187102  51.602265   \n",
       "1547328  Metropolitan Police Service  -0.187102  51.602265   \n",
       "1547329  Metropolitan Police Service  -0.187102  51.602265   \n",
       "\n",
       "                        Location  LSOA_code    LSOA_name  \\\n",
       "1547299  On or near Dukes Avenue  E01000295  Barnet 023B   \n",
       "1547300  On or near Dukes Avenue  E01000295  Barnet 023B   \n",
       "1547301  On or near Dukes Avenue  E01000295  Barnet 023B   \n",
       "1547302  On or near Dukes Avenue  E01000295  Barnet 023B   \n",
       "1547303  On or near Dukes Avenue  E01000295  Barnet 023B   \n",
       "1547304  On or near Dukes Avenue  E01000295  Barnet 023B   \n",
       "1547305  On or near Dukes Avenue  E01000295  Barnet 023B   \n",
       "1547306  On or near Dukes Avenue  E01000295  Barnet 023B   \n",
       "1547307  On or near Dukes Avenue  E01000295  Barnet 023B   \n",
       "1547309  On or near Dukes Avenue  E01000295  Barnet 023B   \n",
       "1547310  On or near Dukes Avenue  E01000295  Barnet 023B   \n",
       "1547311  On or near Dukes Avenue  E01000295  Barnet 023B   \n",
       "1547312  On or near Dukes Avenue  E01000295  Barnet 023B   \n",
       "1547314  On or near Dukes Avenue  E01000295  Barnet 023B   \n",
       "1547315  On or near Dukes Avenue  E01000295  Barnet 023B   \n",
       "1547316  On or near Dukes Avenue  E01000295  Barnet 023B   \n",
       "1547317  On or near Dukes Avenue  E01000295  Barnet 023B   \n",
       "1547318  On or near Dukes Avenue  E01000295  Barnet 023B   \n",
       "1547319  On or near Dukes Avenue  E01000295  Barnet 023B   \n",
       "1547320  On or near Dukes Avenue  E01000295  Barnet 023B   \n",
       "1547321  On or near Dukes Avenue  E01000295  Barnet 023B   \n",
       "1547322  On or near Dukes Avenue  E01000295  Barnet 023B   \n",
       "1547323  On or near Dukes Avenue  E01000295  Barnet 023B   \n",
       "1547324  On or near Dukes Avenue  E01000295  Barnet 023B   \n",
       "1547325  On or near Dukes Avenue  E01000295  Barnet 023B   \n",
       "1547326  On or near Dukes Avenue  E01000295  Barnet 023B   \n",
       "1547327  On or near Dukes Avenue  E01000295  Barnet 023B   \n",
       "1547328  On or near Dukes Avenue  E01000295  Barnet 023B   \n",
       "1547329  On or near Dukes Avenue  E01000295  Barnet 023B   \n",
       "\n",
       "                        Crime_type      Last_outcome_category Borough_name  \n",
       "1547299  Criminal damage and arson  Status update unavailable       Barnet  \n",
       "1547300  Criminal damage and arson  Status update unavailable       Barnet  \n",
       "1547301  Criminal damage and arson  Status update unavailable       Barnet  \n",
       "1547302  Criminal damage and arson  Status update unavailable       Barnet  \n",
       "1547303  Criminal damage and arson  Status update unavailable       Barnet  \n",
       "1547304  Criminal damage and arson  Status update unavailable       Barnet  \n",
       "1547305  Criminal damage and arson  Status update unavailable       Barnet  \n",
       "1547306  Criminal damage and arson  Status update unavailable       Barnet  \n",
       "1547307  Criminal damage and arson  Status update unavailable       Barnet  \n",
       "1547309  Criminal damage and arson  Status update unavailable       Barnet  \n",
       "1547310  Criminal damage and arson  Status update unavailable       Barnet  \n",
       "1547311  Criminal damage and arson  Status update unavailable       Barnet  \n",
       "1547312  Criminal damage and arson  Status update unavailable       Barnet  \n",
       "1547314  Criminal damage and arson  Status update unavailable       Barnet  \n",
       "1547315  Criminal damage and arson  Status update unavailable       Barnet  \n",
       "1547316  Criminal damage and arson  Status update unavailable       Barnet  \n",
       "1547317  Criminal damage and arson  Status update unavailable       Barnet  \n",
       "1547318  Criminal damage and arson  Status update unavailable       Barnet  \n",
       "1547319  Criminal damage and arson  Status update unavailable       Barnet  \n",
       "1547320  Criminal damage and arson  Status update unavailable       Barnet  \n",
       "1547321  Criminal damage and arson  Status update unavailable       Barnet  \n",
       "1547322  Criminal damage and arson  Status update unavailable       Barnet  \n",
       "1547323  Criminal damage and arson  Status update unavailable       Barnet  \n",
       "1547324  Criminal damage and arson  Status update unavailable       Barnet  \n",
       "1547325  Criminal damage and arson  Status update unavailable       Barnet  \n",
       "1547326  Criminal damage and arson  Status update unavailable       Barnet  \n",
       "1547327  Criminal damage and arson  Status update unavailable       Barnet  \n",
       "1547328  Criminal damage and arson  Status update unavailable       Barnet  \n",
       "1547329  Criminal damage and arson  Status update unavailable       Barnet  "
      ]
     },
     "execution_count": 13,
=======
       "    Crime_type_ID   Count\n",
       "0               1   59534\n",
       "1               2  232942\n",
       "2               3  166949\n",
       "3               4  106654\n",
       "4               5   28018\n",
       "5               6  345103\n",
       "6               7   17256\n",
       "7               8  130743\n",
       "8               9   93411\n",
       "9              10  132270\n",
       "10             11  141786\n",
       "11             12  328878\n",
       "12             13  585429"
      ]
     },
     "execution_count": 63,
>>>>>>> c56ceaba03c0fe26f665322f583f77c9e356d270
     "metadata": {},
     "output_type": "execute_result"
    }
   ],
   "source": [
<<<<<<< HEAD
    "# Test if there is any difference in the 29 duplicate records for Crime_ID='e22dfff770cd32f54941621e0b4a1000168dfa2fbfbd6afc42ac1304a18535ce'\n",
    "street_df[street_df.Crime_ID == 'e22dfff770cd32f54941621e0b4a1000168dfa2fbfbd6afc42ac1304a18535ce']"
=======
    "# create new column inside street dataframe for storing location id\n",
    "street_df['Crime_type_ID'] = street_df.groupby(['Crime_type']).ngroup() + 1\n",
    "\n",
    "# show Address ID in as sorted fashion\n",
    "street_df.groupby(['Crime_type_ID']).size().reset_index(name='Count').sort_values(by='Crime_type_ID', ascending=True)"
>>>>>>> c56ceaba03c0fe26f665322f583f77c9e356d270
   ]
  },
  {
   "cell_type": "markdown",
   "metadata": {},
   "source": [
<<<<<<< HEAD
    "### Crime_ID contains duplicate records. Remove them."
=======
    "## Generate Police_force_ID"
>>>>>>> c56ceaba03c0fe26f665322f583f77c9e356d270
   ]
  },
  {
   "cell_type": "code",
<<<<<<< HEAD
   "execution_count": 14,
   "metadata": {},
   "outputs": [],
   "source": [
    "# Remove all the duplicate records except first instance of it\n",
    "street_df = street_df.drop_duplicates(subset='Crime_ID', keep='first')"
=======
   "execution_count": 64,
   "metadata": {},
   "outputs": [
    {
     "data": {
      "text/plain": [
       "2    2349039\n",
       "1      19934\n",
       "Name: Police_force_ID, dtype: int64"
      ]
     },
     "execution_count": 64,
     "metadata": {},
     "output_type": "execute_result"
    }
   ],
   "source": [
    "# create new column inside street dataframe for storing police force id\n",
    "street_df['Police_force_ID'] = street_df.groupby(['Falls_within']).ngroup() + 1\n",
    "\n",
    "# show Address ID in as sorted fashion\n",
    "street_df.Police_force_ID.value_counts()"
>>>>>>> c56ceaba03c0fe26f665322f583f77c9e356d270
   ]
  },
  {
   "cell_type": "markdown",
   "metadata": {},
   "source": [
<<<<<<< HEAD
    "### Verify if still Crime_ID contains any duplicate record"
=======
    "## Generate TimeID "
>>>>>>> c56ceaba03c0fe26f665322f583f77c9e356d270
   ]
  },
  {
   "cell_type": "code",
<<<<<<< HEAD
   "execution_count": 27,
=======
   "execution_count": 65,
>>>>>>> c56ceaba03c0fe26f665322f583f77c9e356d270
   "metadata": {},
   "outputs": [
    {
     "data": {
      "text/html": [
       "<div>\n",
       "<style scoped>\n",
       "    .dataframe tbody tr th:only-of-type {\n",
       "        vertical-align: middle;\n",
       "    }\n",
       "\n",
       "    .dataframe tbody tr th {\n",
       "        vertical-align: top;\n",
       "    }\n",
       "\n",
       "    .dataframe thead th {\n",
       "        text-align: right;\n",
       "    }\n",
       "</style>\n",
       "<table border=\"1\" class=\"dataframe\">\n",
       "  <thead>\n",
       "    <tr style=\"text-align: right;\">\n",
       "      <th></th>\n",
<<<<<<< HEAD
       "      <th>Crime_ID</th>\n",
       "      <th>DuplicationFrequency</th>\n",
=======
       "      <th>Time_ID</th>\n",
       "      <th>Count</th>\n",
>>>>>>> c56ceaba03c0fe26f665322f583f77c9e356d270
       "    </tr>\n",
       "  </thead>\n",
       "  <tbody>\n",
       "    <tr>\n",
       "      <th>0</th>\n",
<<<<<<< HEAD
       "      <td>000001567f140ed3ff0830443cae9afeafc51d8ed818ed...</td>\n",
       "      <td>1</td>\n",
       "    </tr>\n",
       "    <tr>\n",
       "      <th>1579364</th>\n",
       "      <td>aad074f1bf852eef2701aa4a9fdeabb9732cdf8ee1a62a...</td>\n",
       "      <td>1</td>\n",
       "    </tr>\n",
       "    <tr>\n",
       "      <th>1579312</th>\n",
       "      <td>aacf5b74c53fef7f1aa74b21f94b28a6e7dcc42059c02a...</td>\n",
       "      <td>1</td>\n",
       "    </tr>\n",
       "    <tr>\n",
       "      <th>1579313</th>\n",
       "      <td>aacf5b84c669beca513adc923db07a34f3f972146fd47e...</td>\n",
       "      <td>1</td>\n",
       "    </tr>\n",
       "    <tr>\n",
       "      <th>1579314</th>\n",
       "      <td>aacf5c84bd4d916e26069cb83ab964045ac49ba95fc1b8...</td>\n",
       "      <td>1</td>\n",
       "    </tr>\n",
       "  </tbody>\n",
       "</table>\n",
       "</div>"
      ],
      "text/plain": [
       "                                                  Crime_ID  \\\n",
       "0        000001567f140ed3ff0830443cae9afeafc51d8ed818ed...   \n",
       "1579364  aad074f1bf852eef2701aa4a9fdeabb9732cdf8ee1a62a...   \n",
       "1579312  aacf5b74c53fef7f1aa74b21f94b28a6e7dcc42059c02a...   \n",
       "1579313  aacf5b84c669beca513adc923db07a34f3f972146fd47e...   \n",
       "1579314  aacf5c84bd4d916e26069cb83ab964045ac49ba95fc1b8...   \n",
       "\n",
       "         DuplicationFrequency  \n",
       "0                           1  \n",
       "1579364                     1  \n",
       "1579312                     1  \n",
       "1579313                     1  \n",
       "1579314                     1  "
      ]
     },
     "execution_count": 27,
     "metadata": {},
     "output_type": "execute_result"
    }
   ],
   "source": [
    "# check again now if street_df data frame have any duplicate value or not\n",
    "street_df.groupby('Crime_ID').size().reset_index(name='DuplicationFrequency').sort_values(by='DuplicationFrequency', ascending=False).head()"
   ]
  },
  {
   "cell_type": "code",
   "execution_count": 15,
   "metadata": {},
   "outputs": [
    {
     "data": {
      "text/plain": [
       "(2368973, 11)"
      ]
     },
     "execution_count": 15,
     "metadata": {},
     "output_type": "execute_result"
    }
   ],
   "source": [
    "# Check the shape of the data frame post duplicate removal action\n",
    "street_df.shape"
   ]
  },
  {
   "cell_type": "markdown",
   "metadata": {},
   "source": [
    "## Data Processing - For OUTCOME DATASET"
   ]
  },
  {
   "cell_type": "markdown",
   "metadata": {},
   "source": [
    "### STEP 01: Data Extraction"
   ]
  },
  {
   "cell_type": "code",
   "execution_count": 17,
   "metadata": {},
   "outputs": [],
   "source": [
    "# Read CSV file to fetch crime's outcome from the dataset\n",
    "outcome_df = read_csv_file(FILESIZE.SMALL, outcome_csv)"
   ]
  },
  {
   "cell_type": "markdown",
   "metadata": {},
   "source": [
    "### STEP 02: EDA"
   ]
  },
  {
   "cell_type": "code",
   "execution_count": 18,
   "metadata": {},
   "outputs": [
    {
     "name": "stdout",
     "output_type": "stream",
     "text": [
      "<class 'pandas.core.frame.DataFrame'>\n",
      "RangeIndex: 1236024 entries, 0 to 1236023\n",
      "Data columns (total 10 columns):\n",
      " #   Column        Non-Null Count    Dtype  \n",
      "---  ------        --------------    -----  \n",
      " 0   Crime_ID      1236024 non-null  object \n",
      " 1   Month         1236024 non-null  object \n",
      " 2   Reported_by   1236024 non-null  object \n",
      " 3   Falls_within  1236024 non-null  object \n",
      " 4   Longitude     1213961 non-null  float64\n",
      " 5   Latitude      1213961 non-null  float64\n",
      " 6   Location      1236024 non-null  object \n",
      " 7   LSOA_code     1213961 non-null  object \n",
      " 8   LSOA_name     1213961 non-null  object \n",
      " 9   Outcome_type  1236024 non-null  object \n",
      "dtypes: float64(2), object(8)\n",
      "memory usage: 94.3+ MB\n"
     ]
    }
   ],
   "source": [
    "# Explore the size of the dataset (Number of rows and columns)\n",
    "outcome_size = outcome_df.shape\n",
    "\n",
    "# Explore the structure of the dataset (Columns and their data types)\n",
    "outcome_structure = outcome_df.info()\n",
    "\n",
    "# Summarize the dataset to understand statistics and data types\n",
    "outcome_summary = outcome_df.describe()\n",
    "\n",
    "# View top records \n",
    "outcome_view_top_records = outcome_df.head()"
   ]
  },
  {
   "cell_type": "code",
   "execution_count": 19,
   "metadata": {},
   "outputs": [
    {
     "data": {
      "text/plain": [
       "(1236024, 10)"
      ]
     },
     "execution_count": 19,
     "metadata": {},
     "output_type": "execute_result"
    }
   ],
   "source": [
    "outcome_size"
   ]
  },
  {
   "cell_type": "markdown",
   "metadata": {},
   "source": [
    "### STEP 03: Data cleansing\n",
    "\n",
    "#### Sort the outcome dataset on the Month basis to bring latest updated outcome on the top for each crime"
   ]
  },
  {
   "cell_type": "code",
   "execution_count": 20,
   "metadata": {},
   "outputs": [
    {
     "data": {
      "text/html": [
       "<div>\n",
       "<style scoped>\n",
       "    .dataframe tbody tr th:only-of-type {\n",
       "        vertical-align: middle;\n",
       "    }\n",
       "\n",
       "    .dataframe tbody tr th {\n",
       "        vertical-align: top;\n",
       "    }\n",
       "\n",
       "    .dataframe thead th {\n",
       "        text-align: right;\n",
       "    }\n",
       "</style>\n",
       "<table border=\"1\" class=\"dataframe\">\n",
       "  <thead>\n",
       "    <tr style=\"text-align: right;\">\n",
       "      <th></th>\n",
       "      <th>Crime_ID</th>\n",
       "      <th>Month</th>\n",
       "      <th>Reported_by</th>\n",
       "      <th>Falls_within</th>\n",
       "      <th>Longitude</th>\n",
       "      <th>Latitude</th>\n",
       "      <th>Location</th>\n",
       "      <th>LSOA_code</th>\n",
       "      <th>LSOA_name</th>\n",
       "      <th>Outcome_type</th>\n",
       "    </tr>\n",
       "  </thead>\n",
       "  <tbody>\n",
       "    <tr>\n",
       "      <th>645183</th>\n",
       "      <td>3b60aed0ce6c29f63a00e44822492dcdc419b68a0974e5...</td>\n",
       "      <td>2018-03</td>\n",
       "      <td>Metropolitan Police Service</td>\n",
       "      <td>Metropolitan Police Service</td>\n",
       "      <td>-0.030748</td>\n",
       "      <td>51.367789</td>\n",
       "      <td>On or near SHRUBLANDS AVENUE</td>\n",
       "      <td>E01001128</td>\n",
       "      <td>Croydon 025B</td>\n",
       "      <td>Defendant found not guilty</td>\n",
       "    </tr>\n",
       "    <tr>\n",
       "      <th>648225</th>\n",
       "      <td>3b60aed0ce6c29f63a00e44822492dcdc419b68a0974e5...</td>\n",
       "      <td>2018-03</td>\n",
       "      <td>Metropolitan Police Service</td>\n",
       "      <td>Metropolitan Police Service</td>\n",
       "      <td>-0.030748</td>\n",
       "      <td>51.367789</td>\n",
       "      <td>On or near SHRUBLANDS AVENUE</td>\n",
       "      <td>E01001128</td>\n",
       "      <td>Croydon 025B</td>\n",
       "      <td>Offender given community sentence</td>\n",
       "    </tr>\n",
       "  </tbody>\n",
       "</table>\n",
       "</div>"
      ],
      "text/plain": [
       "                                                 Crime_ID    Month  \\\n",
       "645183  3b60aed0ce6c29f63a00e44822492dcdc419b68a0974e5...  2018-03   \n",
       "648225  3b60aed0ce6c29f63a00e44822492dcdc419b68a0974e5...  2018-03   \n",
       "\n",
       "                        Reported_by                 Falls_within  Longitude  \\\n",
       "645183  Metropolitan Police Service  Metropolitan Police Service  -0.030748   \n",
       "648225  Metropolitan Police Service  Metropolitan Police Service  -0.030748   \n",
       "\n",
       "         Latitude                      Location  LSOA_code     LSOA_name  \\\n",
       "645183  51.367789  On or near SHRUBLANDS AVENUE  E01001128  Croydon 025B   \n",
       "648225  51.367789  On or near SHRUBLANDS AVENUE  E01001128  Croydon 025B   \n",
       "\n",
       "                             Outcome_type  \n",
       "645183         Defendant found not guilty  \n",
       "648225  Offender given community sentence  "
      ]
     },
     "execution_count": 20,
     "metadata": {},
     "output_type": "execute_result"
    }
   ],
   "source": [
    "# Sort the outcome data frame with Month column in descending order to get the latest crime id entry on top\n",
    "outcome_df = outcome_df.sort_values(by='Month', ascending=False)\n",
    "\n",
    "# Test if the latest crime id is appearing on the top \n",
    "outcome_df[outcome_df.Crime_ID == ('3b60aed0ce6c29f63a00e44822492dcdc419b68a0974e53e6884359dc2aec1aa')].sort_values(by='Month', ascending=False).head(2)"
   ]
  },
  {
   "cell_type": "markdown",
   "metadata": {},
   "source": [
    "#### Extract just the required columns from the outcome dataset"
   ]
  },
  {
   "cell_type": "code",
   "execution_count": 21,
   "metadata": {},
   "outputs": [],
   "source": [
    "# Need only two columns from the dataset and hence extract the required ones\n",
    "outcome_df = outcome_df[['Crime_ID','Outcome_type']]"
   ]
  },
  {
   "cell_type": "markdown",
   "metadata": {},
   "source": [
    "#### Rename 'Outcome_type' column to 'Latest_Outcome_type' for better readability"
   ]
  },
  {
   "cell_type": "code",
   "execution_count": 22,
   "metadata": {},
   "outputs": [],
   "source": [
    "# Rename the Outcome_type to Latest_outcome_type\n",
    "outcome_df.rename(columns = {'Outcome_type':'Latest_Outcome_type'}, inplace = True)"
   ]
  },
  {
   "cell_type": "markdown",
   "metadata": {},
   "source": [
    "### STEP 04: Remove duplicate Crime IDs so that only the recent outcome update will be availble in the dataset\n",
    "\n",
    "#### Before duplicate removal - Test how many are there"
   ]
  },
  {
   "cell_type": "code",
   "execution_count": 23,
   "metadata": {},
   "outputs": [
    {
     "data": {
      "text/html": [
       "<div>\n",
       "<style scoped>\n",
       "    .dataframe tbody tr th:only-of-type {\n",
       "        vertical-align: middle;\n",
       "    }\n",
       "\n",
       "    .dataframe tbody tr th {\n",
       "        vertical-align: top;\n",
       "    }\n",
       "\n",
       "    .dataframe thead th {\n",
       "        text-align: right;\n",
       "    }\n",
       "</style>\n",
       "<table border=\"1\" class=\"dataframe\">\n",
       "  <thead>\n",
       "    <tr style=\"text-align: right;\">\n",
       "      <th></th>\n",
       "      <th>Crime_ID</th>\n",
       "      <th>DuplicationFrequency</th>\n",
       "    </tr>\n",
       "  </thead>\n",
       "  <tbody>\n",
       "    <tr>\n",
       "      <th>230575</th>\n",
       "      <td>3b60aed0ce6c29f63a00e44822492dcdc419b68a0974e5...</td>\n",
       "      <td>28</td>\n",
       "    </tr>\n",
       "    <tr>\n",
       "      <th>298245</th>\n",
       "      <td>4cd2361bb632061bab05c894a7885a4d03aa3bc01b010f...</td>\n",
       "      <td>17</td>\n",
       "    </tr>\n",
       "    <tr>\n",
       "      <th>466023</th>\n",
       "      <td>77e565ce040eda43d5a41bd767c296ffb3c6169ce7047e...</td>\n",
       "      <td>17</td>\n",
       "    </tr>\n",
       "    <tr>\n",
       "      <th>51446</th>\n",
       "      <td>0d43447ed0a150b1f02b8f4a2a26de1d4a2b46ff53fb23...</td>\n",
       "      <td>16</td>\n",
       "    </tr>\n",
       "    <tr>\n",
       "      <th>909559</th>\n",
       "      <td>e9c2cd701fcdc9fa72c8c7fb2ba63566d9b212ce89a78e...</td>\n",
       "      <td>16</td>\n",
       "    </tr>\n",
       "  </tbody>\n",
       "</table>\n",
       "</div>"
      ],
      "text/plain": [
       "                                                 Crime_ID  \\\n",
       "230575  3b60aed0ce6c29f63a00e44822492dcdc419b68a0974e5...   \n",
       "298245  4cd2361bb632061bab05c894a7885a4d03aa3bc01b010f...   \n",
       "466023  77e565ce040eda43d5a41bd767c296ffb3c6169ce7047e...   \n",
       "51446   0d43447ed0a150b1f02b8f4a2a26de1d4a2b46ff53fb23...   \n",
       "909559  e9c2cd701fcdc9fa72c8c7fb2ba63566d9b212ce89a78e...   \n",
       "\n",
       "        DuplicationFrequency  \n",
       "230575                    28  \n",
       "298245                    17  \n",
       "466023                    17  \n",
       "51446                     16  \n",
       "909559                    16  "
      ]
     },
     "execution_count": 23,
     "metadata": {},
     "output_type": "execute_result"
    }
   ],
   "source": [
    "# check if Outcome data frame have any duplicate value for 'Crime_ID'\n",
    "outcome_df.groupby('Crime_ID').size().reset_index(name='DuplicationFrequency').sort_values(by='DuplicationFrequency', ascending=False).head()"
   ]
  },
  {
   "cell_type": "markdown",
   "metadata": {},
   "source": [
    "#### Remove duplicates"
   ]
  },
  {
   "cell_type": "code",
   "execution_count": 24,
   "metadata": {},
   "outputs": [],
   "source": [
    "# Remove all the duplicate records except first instance of it\n",
    "outcome_df = outcome_df.drop_duplicates(subset='Crime_ID', keep='first')"
   ]
  },
  {
   "cell_type": "markdown",
   "metadata": {},
   "source": [
    "#### After duplicate removal - Verify there is no duplicate entry any more"
   ]
  },
  {
   "cell_type": "code",
   "execution_count": 25,
   "metadata": {},
   "outputs": [
    {
     "data": {
      "text/html": [
       "<div>\n",
       "<style scoped>\n",
       "    .dataframe tbody tr th:only-of-type {\n",
       "        vertical-align: middle;\n",
       "    }\n",
       "\n",
       "    .dataframe tbody tr th {\n",
       "        vertical-align: top;\n",
       "    }\n",
       "\n",
       "    .dataframe thead th {\n",
       "        text-align: right;\n",
       "    }\n",
       "</style>\n",
       "<table border=\"1\" class=\"dataframe\">\n",
       "  <thead>\n",
       "    <tr style=\"text-align: right;\">\n",
       "      <th></th>\n",
       "      <th>Crime_ID</th>\n",
       "      <th>DuplicationFrequency</th>\n",
       "    </tr>\n",
       "  </thead>\n",
       "  <tbody>\n",
       "    <tr>\n",
       "      <th>0</th>\n",
       "      <td>000001567f140ed3ff0830443cae9afeafc51d8ed818ed...</td>\n",
       "      <td>1</td>\n",
       "    </tr>\n",
       "    <tr>\n",
       "      <th>664107</th>\n",
       "      <td>aae4aeb4314f8ede60d0625891580fdaeb0383e1a34c0c...</td>\n",
       "      <td>1</td>\n",
       "    </tr>\n",
       "    <tr>\n",
       "      <th>664079</th>\n",
       "      <td>aae2cb09dd8cc9ac40b43bc5d13b61ea1b0ebcef208097...</td>\n",
       "      <td>1</td>\n",
       "    </tr>\n",
       "    <tr>\n",
       "      <th>664080</th>\n",
       "      <td>aae2d19325306180bc8e9dd5d3f03848d77fea9cbbee58...</td>\n",
       "      <td>1</td>\n",
       "    </tr>\n",
       "    <tr>\n",
       "      <th>664081</th>\n",
       "      <td>aae2dcb43c91b6a9dd71d55517640f7bfbcbcca45e89af...</td>\n",
       "      <td>1</td>\n",
       "    </tr>\n",
       "  </tbody>\n",
       "</table>\n",
       "</div>"
      ],
      "text/plain": [
       "                                                 Crime_ID  \\\n",
       "0       000001567f140ed3ff0830443cae9afeafc51d8ed818ed...   \n",
       "664107  aae4aeb4314f8ede60d0625891580fdaeb0383e1a34c0c...   \n",
       "664079  aae2cb09dd8cc9ac40b43bc5d13b61ea1b0ebcef208097...   \n",
       "664080  aae2d19325306180bc8e9dd5d3f03848d77fea9cbbee58...   \n",
       "664081  aae2dcb43c91b6a9dd71d55517640f7bfbcbcca45e89af...   \n",
       "\n",
       "        DuplicationFrequency  \n",
       "0                          1  \n",
       "664107                     1  \n",
       "664079                     1  \n",
       "664080                     1  \n",
       "664081                     1  "
      ]
     },
     "execution_count": 25,
     "metadata": {},
     "output_type": "execute_result"
    }
   ],
   "source": [
    "# check if street data frame have any duplicate value for 'Crime_ID'\n",
    "outcome_df.groupby('Crime_ID').size().reset_index(name='DuplicationFrequency').sort_values(by='DuplicationFrequency', ascending=False).head()"
   ]
  },
  {
   "cell_type": "code",
   "execution_count": 26,
   "metadata": {},
   "outputs": [
    {
     "data": {
      "text/plain": [
       "(996131, 2)"
      ]
     },
     "execution_count": 26,
     "metadata": {},
     "output_type": "execute_result"
    }
   ],
   "source": [
    "outcome_df.shape"
   ]
  },
  {
   "cell_type": "markdown",
   "metadata": {},
   "source": [
    "# Merge STREET data with OUTCOME data"
   ]
  },
  {
   "cell_type": "code",
   "execution_count": 27,
   "metadata": {},
   "outputs": [
    {
     "data": {
      "text/plain": [
       "(2368973, 11)"
      ]
     },
     "execution_count": 27,
     "metadata": {},
     "output_type": "execute_result"
    }
   ],
   "source": [
    "# Check total number of rows before joining with outcome dataset\n",
    "street_df.shape"
   ]
  },
  {
   "cell_type": "code",
   "execution_count": 28,
   "metadata": {},
   "outputs": [],
   "source": [
    "# Do the left outer joining so that all street data will be retained along with the joined outcome data\n",
    "street_df = pd.merge(left=street_df, right=outcome_df, on='Crime_ID', how='left')"
   ]
  },
  {
   "cell_type": "code",
   "execution_count": 29,
   "metadata": {},
   "outputs": [
    {
     "data": {
      "text/plain": [
       "(2368973, 12)"
      ]
     },
     "execution_count": 29,
     "metadata": {},
     "output_type": "execute_result"
    }
   ],
   "source": [
    "# Check total number of rows after joining with outcome dataset\n",
    "street_df.shape"
   ]
  },
  {
   "cell_type": "code",
   "execution_count": 23,
   "metadata": {},
   "outputs": [
    {
     "data": {
      "text/plain": [
       "Index(['Crime_ID', 'Month', 'Falls_within', 'Longitude', 'Latitude',\n",
       "       'Location', 'LSOA_code', 'LSOA_name', 'Crime_type',\n",
       "       'Last_outcome_category', 'Borough_name', 'Latest_Outcome_type'],\n",
       "      dtype='object')"
      ]
     },
     "execution_count": 23,
     "metadata": {},
     "output_type": "execute_result"
    }
   ],
   "source": [
    "street_df.columns"
   ]
  },
  {
   "cell_type": "code",
   "execution_count": 30,
   "metadata": {},
   "outputs": [
    {
     "data": {
      "text/html": [
       "<div>\n",
       "<style scoped>\n",
       "    .dataframe tbody tr th:only-of-type {\n",
       "        vertical-align: middle;\n",
       "    }\n",
       "\n",
       "    .dataframe tbody tr th {\n",
       "        vertical-align: top;\n",
       "    }\n",
       "\n",
       "    .dataframe thead th {\n",
       "        text-align: right;\n",
       "    }\n",
       "</style>\n",
       "<table border=\"1\" class=\"dataframe\">\n",
       "  <thead>\n",
       "    <tr style=\"text-align: right;\">\n",
       "      <th></th>\n",
       "      <th>Crime_ID</th>\n",
       "      <th>Month</th>\n",
       "      <th>Falls_within</th>\n",
       "      <th>Longitude</th>\n",
       "      <th>Latitude</th>\n",
       "      <th>Location</th>\n",
       "      <th>LSOA_code</th>\n",
       "      <th>LSOA_name</th>\n",
       "      <th>Crime_type</th>\n",
       "      <th>Last_outcome_category</th>\n",
       "      <th>Borough_name</th>\n",
       "      <th>Latest_Outcome_type</th>\n",
       "    </tr>\n",
       "  </thead>\n",
       "  <tbody>\n",
       "    <tr>\n",
       "      <th>0</th>\n",
       "      <td>aad8f637ccaf198afcc0b0a708da31aa9d58142d746dd5...</td>\n",
       "      <td>2017-04</td>\n",
       "      <td>City of London Police</td>\n",
       "      <td>-0.111497</td>\n",
       "      <td>51.518226</td>\n",
       "      <td>On or near Pedestrian Subway</td>\n",
       "      <td>E01000914</td>\n",
       "      <td>Camden 028B</td>\n",
       "      <td>Criminal damage and arson</td>\n",
       "      <td>Court result unavailable</td>\n",
       "      <td>Camden</td>\n",
       "      <td>Suspect charged</td>\n",
       "    </tr>\n",
       "    <tr>\n",
       "      <th>1</th>\n",
       "      <td>79a0f62e5ba67a94251a5488e1c5708c079469a25628ee...</td>\n",
       "      <td>2017-04</td>\n",
       "      <td>City of London Police</td>\n",
       "      <td>-0.111497</td>\n",
       "      <td>51.518226</td>\n",
       "      <td>On or near Pedestrian Subway</td>\n",
       "      <td>E01000914</td>\n",
       "      <td>Camden 028B</td>\n",
       "      <td>Other theft</td>\n",
       "      <td>Investigation complete; no suspect identified</td>\n",
       "      <td>Camden</td>\n",
       "      <td>Investigation complete; no suspect identified</td>\n",
       "    </tr>\n",
       "  </tbody>\n",
       "</table>\n",
       "</div>"
      ],
      "text/plain": [
       "                                            Crime_ID    Month  \\\n",
       "0  aad8f637ccaf198afcc0b0a708da31aa9d58142d746dd5...  2017-04   \n",
       "1  79a0f62e5ba67a94251a5488e1c5708c079469a25628ee...  2017-04   \n",
       "\n",
       "            Falls_within  Longitude   Latitude                      Location  \\\n",
       "0  City of London Police  -0.111497  51.518226  On or near Pedestrian Subway   \n",
       "1  City of London Police  -0.111497  51.518226  On or near Pedestrian Subway   \n",
       "\n",
       "   LSOA_code    LSOA_name                 Crime_type  \\\n",
       "0  E01000914  Camden 028B  Criminal damage and arson   \n",
       "1  E01000914  Camden 028B                Other theft   \n",
       "\n",
       "                           Last_outcome_category Borough_name  \\\n",
       "0                       Court result unavailable       Camden   \n",
       "1  Investigation complete; no suspect identified       Camden   \n",
       "\n",
       "                             Latest_Outcome_type  \n",
       "0                                Suspect charged  \n",
       "1  Investigation complete; no suspect identified  "
      ]
     },
     "execution_count": 30,
     "metadata": {},
     "output_type": "execute_result"
    }
   ],
   "source": [
    "street_df.head(2)"
   ]
  },
  {
   "cell_type": "markdown",
   "metadata": {},
   "source": [
    "#### Check if there are any null value exist in newly added columns"
   ]
  },
  {
   "cell_type": "code",
   "execution_count": 31,
   "metadata": {},
   "outputs": [
    {
     "data": {
      "text/plain": [
       "Crime_ID                       0\n",
       "Month                          0\n",
       "Falls_within                   0\n",
       "Longitude                      0\n",
       "Latitude                       0\n",
       "Location                       0\n",
       "LSOA_code                      0\n",
       "LSOA_name                      0\n",
       "Crime_type                     0\n",
       "Last_outcome_category          0\n",
       "Borough_name                   0\n",
       "Latest_Outcome_type      1391314\n",
       "dtype: int64"
      ]
     },
     "execution_count": 31,
     "metadata": {},
     "output_type": "execute_result"
    }
   ],
   "source": [
    "# Check how many newly merged columns have the null values\n",
    "street_df.isna().sum()"
   ]
  },
  {
   "cell_type": "markdown",
   "metadata": {},
   "source": [
    "### Latest_update_month and Latest_outcome_type having nulls\n",
    "#### Update the empty/null outcome type to the last_outcome type"
   ]
  },
  {
   "cell_type": "code",
   "execution_count": 32,
   "metadata": {},
   "outputs": [],
   "source": [
    "# replace null values with 'Last_outcome_category' text\n",
    "street_df.Latest_Outcome_type.fillna(street_df['Last_outcome_category'], inplace=True)"
   ]
  },
  {
   "cell_type": "code",
   "execution_count": 33,
   "metadata": {},
   "outputs": [
    {
     "data": {
      "text/plain": [
       "Crime_ID                 0\n",
       "Month                    0\n",
       "Falls_within             0\n",
       "Longitude                0\n",
       "Latitude                 0\n",
       "Location                 0\n",
       "LSOA_code                0\n",
       "LSOA_name                0\n",
       "Crime_type               0\n",
       "Last_outcome_category    0\n",
       "Borough_name             0\n",
       "Latest_Outcome_type      0\n",
       "dtype: int64"
      ]
     },
     "execution_count": 33,
     "metadata": {},
     "output_type": "execute_result"
    }
   ],
   "source": [
    "# Check if there is no more columns left with NULL values\n",
    "street_df.isna().sum()"
   ]
  },
  {
   "cell_type": "markdown",
   "metadata": {},
   "source": [
    "#### Remove \"Last_outcome_category\" and retain the \"Latest outcome category\" only"
   ]
  },
  {
   "cell_type": "code",
   "execution_count": 34,
   "metadata": {},
   "outputs": [],
   "source": [
    "# Drop Last_outcome_category\n",
    "street_df = street_df.drop(['Last_outcome_category'], axis=1)"
   ]
  },
  {
   "cell_type": "code",
   "execution_count": 35,
   "metadata": {},
   "outputs": [
    {
     "data": {
      "text/html": [
       "<div>\n",
       "<style scoped>\n",
       "    .dataframe tbody tr th:only-of-type {\n",
       "        vertical-align: middle;\n",
       "    }\n",
       "\n",
       "    .dataframe tbody tr th {\n",
       "        vertical-align: top;\n",
       "    }\n",
       "\n",
       "    .dataframe thead th {\n",
       "        text-align: right;\n",
       "    }\n",
       "</style>\n",
       "<table border=\"1\" class=\"dataframe\">\n",
       "  <thead>\n",
       "    <tr style=\"text-align: right;\">\n",
       "      <th></th>\n",
       "      <th>Crime_ID</th>\n",
       "      <th>Month</th>\n",
       "      <th>Falls_within</th>\n",
       "      <th>Longitude</th>\n",
       "      <th>Latitude</th>\n",
       "      <th>Location</th>\n",
       "      <th>LSOA_code</th>\n",
       "      <th>LSOA_name</th>\n",
       "      <th>Crime_type</th>\n",
       "      <th>Borough_name</th>\n",
       "      <th>Latest_Outcome_type</th>\n",
       "    </tr>\n",
       "  </thead>\n",
       "  <tbody>\n",
       "    <tr>\n",
       "      <th>0</th>\n",
       "      <td>aad8f637ccaf198afcc0b0a708da31aa9d58142d746dd5...</td>\n",
       "      <td>2017-04</td>\n",
       "      <td>City of London Police</td>\n",
       "      <td>-0.111497</td>\n",
       "      <td>51.518226</td>\n",
       "      <td>On or near Pedestrian Subway</td>\n",
       "      <td>E01000914</td>\n",
       "      <td>Camden 028B</td>\n",
       "      <td>Criminal damage and arson</td>\n",
       "      <td>Camden</td>\n",
       "      <td>Suspect charged</td>\n",
       "    </tr>\n",
       "    <tr>\n",
       "      <th>1</th>\n",
       "      <td>79a0f62e5ba67a94251a5488e1c5708c079469a25628ee...</td>\n",
       "      <td>2017-04</td>\n",
       "      <td>City of London Police</td>\n",
       "      <td>-0.111497</td>\n",
       "      <td>51.518226</td>\n",
       "      <td>On or near Pedestrian Subway</td>\n",
       "      <td>E01000914</td>\n",
       "      <td>Camden 028B</td>\n",
       "      <td>Other theft</td>\n",
       "      <td>Camden</td>\n",
       "      <td>Investigation complete; no suspect identified</td>\n",
       "    </tr>\n",
       "    <tr>\n",
       "      <th>2</th>\n",
       "      <td>f94646a81d8cd0b211269e034f4b243a95e40b42c6cfde...</td>\n",
       "      <td>2017-03</td>\n",
       "      <td>City of London Police</td>\n",
       "      <td>-0.106453</td>\n",
       "      <td>51.518207</td>\n",
       "      <td>On or near Charterhouse Street</td>\n",
       "      <td>E01000916</td>\n",
       "      <td>Camden 027B</td>\n",
       "      <td>Other theft</td>\n",
       "      <td>Camden</td>\n",
       "      <td>Investigation complete; no suspect identified</td>\n",
       "    </tr>\n",
       "    <tr>\n",
       "      <th>3</th>\n",
       "      <td>06e52c57d14cf928dd2b90e1275865ba7f67bcb0dda557...</td>\n",
       "      <td>2017-03</td>\n",
       "      <td>City of London Police</td>\n",
       "      <td>-0.113767</td>\n",
       "      <td>51.517372</td>\n",
       "      <td>On or near Stone Buildings</td>\n",
       "      <td>E01000914</td>\n",
       "      <td>Camden 028B</td>\n",
       "      <td>Criminal damage and arson</td>\n",
       "      <td>Camden</td>\n",
       "      <td>Status update unavailable</td>\n",
       "    </tr>\n",
       "    <tr>\n",
       "      <th>4</th>\n",
       "      <td>f648c88a44761c51956683a19c540c863378a98796362e...</td>\n",
       "      <td>2017-03</td>\n",
       "      <td>City of London Police</td>\n",
       "      <td>-0.111497</td>\n",
       "      <td>51.518226</td>\n",
       "      <td>On or near Pedestrian Subway</td>\n",
       "      <td>E01000914</td>\n",
       "      <td>Camden 028B</td>\n",
       "      <td>Violence and sexual offences</td>\n",
       "      <td>Camden</td>\n",
       "      <td>Unable to prosecute suspect</td>\n",
       "    </tr>\n",
       "  </tbody>\n",
       "</table>\n",
       "</div>"
      ],
      "text/plain": [
       "                                            Crime_ID    Month  \\\n",
       "0  aad8f637ccaf198afcc0b0a708da31aa9d58142d746dd5...  2017-04   \n",
       "1  79a0f62e5ba67a94251a5488e1c5708c079469a25628ee...  2017-04   \n",
       "2  f94646a81d8cd0b211269e034f4b243a95e40b42c6cfde...  2017-03   \n",
       "3  06e52c57d14cf928dd2b90e1275865ba7f67bcb0dda557...  2017-03   \n",
       "4  f648c88a44761c51956683a19c540c863378a98796362e...  2017-03   \n",
       "\n",
       "            Falls_within  Longitude   Latitude  \\\n",
       "0  City of London Police  -0.111497  51.518226   \n",
       "1  City of London Police  -0.111497  51.518226   \n",
       "2  City of London Police  -0.106453  51.518207   \n",
       "3  City of London Police  -0.113767  51.517372   \n",
       "4  City of London Police  -0.111497  51.518226   \n",
       "\n",
       "                         Location  LSOA_code    LSOA_name  \\\n",
       "0    On or near Pedestrian Subway  E01000914  Camden 028B   \n",
       "1    On or near Pedestrian Subway  E01000914  Camden 028B   \n",
       "2  On or near Charterhouse Street  E01000916  Camden 027B   \n",
       "3      On or near Stone Buildings  E01000914  Camden 028B   \n",
       "4    On or near Pedestrian Subway  E01000914  Camden 028B   \n",
       "\n",
       "                     Crime_type Borough_name  \\\n",
       "0     Criminal damage and arson       Camden   \n",
       "1                   Other theft       Camden   \n",
       "2                   Other theft       Camden   \n",
       "3     Criminal damage and arson       Camden   \n",
       "4  Violence and sexual offences       Camden   \n",
       "\n",
       "                             Latest_Outcome_type  \n",
       "0                                Suspect charged  \n",
       "1  Investigation complete; no suspect identified  \n",
       "2  Investigation complete; no suspect identified  \n",
       "3                      Status update unavailable  \n",
       "4                    Unable to prosecute suspect  "
      ]
     },
     "execution_count": 35,
     "metadata": {},
     "output_type": "execute_result"
    }
   ],
   "source": [
    "street_df.head()"
   ]
  },
  {
   "cell_type": "code",
   "execution_count": 36,
   "metadata": {},
   "outputs": [
    {
     "data": {
      "text/plain": [
       "(2368973, 11)"
      ]
     },
     "execution_count": 36,
     "metadata": {},
     "output_type": "execute_result"
    }
   ],
   "source": [
    "street_df.shape"
   ]
  },
  {
   "cell_type": "code",
   "execution_count": 37,
   "metadata": {},
   "outputs": [
    {
     "data": {
      "text/html": [
       "<div>\n",
       "<style scoped>\n",
       "    .dataframe tbody tr th:only-of-type {\n",
       "        vertical-align: middle;\n",
       "    }\n",
       "\n",
       "    .dataframe tbody tr th {\n",
       "        vertical-align: top;\n",
       "    }\n",
       "\n",
       "    .dataframe thead th {\n",
       "        text-align: right;\n",
       "    }\n",
       "</style>\n",
       "<table border=\"1\" class=\"dataframe\">\n",
       "  <thead>\n",
       "    <tr style=\"text-align: right;\">\n",
       "      <th></th>\n",
       "      <th>Crime_ID</th>\n",
       "      <th>Month</th>\n",
       "      <th>Falls_within</th>\n",
       "      <th>Longitude</th>\n",
       "      <th>Latitude</th>\n",
       "      <th>Location</th>\n",
       "      <th>LSOA_code</th>\n",
       "      <th>LSOA_name</th>\n",
       "      <th>Crime_type</th>\n",
       "      <th>Borough_name</th>\n",
       "      <th>Latest_Outcome_type</th>\n",
       "    </tr>\n",
       "  </thead>\n",
       "  <tbody>\n",
       "    <tr>\n",
       "      <th>0</th>\n",
       "      <td>aad8f637ccaf198afcc0b0a708da31aa9d58142d746dd5...</td>\n",
       "      <td>2017-04</td>\n",
       "      <td>City of London Police</td>\n",
       "      <td>-0.111497</td>\n",
       "      <td>51.518226</td>\n",
       "      <td>On or near Pedestrian Subway</td>\n",
       "      <td>E01000914</td>\n",
       "      <td>Camden 028B</td>\n",
       "      <td>Criminal damage and arson</td>\n",
       "      <td>Camden</td>\n",
       "      <td>Suspect charged</td>\n",
       "    </tr>\n",
       "    <tr>\n",
       "      <th>1</th>\n",
       "      <td>79a0f62e5ba67a94251a5488e1c5708c079469a25628ee...</td>\n",
       "      <td>2017-04</td>\n",
       "      <td>City of London Police</td>\n",
       "      <td>-0.111497</td>\n",
       "      <td>51.518226</td>\n",
       "      <td>On or near Pedestrian Subway</td>\n",
       "      <td>E01000914</td>\n",
       "      <td>Camden 028B</td>\n",
       "      <td>Other theft</td>\n",
       "      <td>Camden</td>\n",
       "      <td>Investigation complete; no suspect identified</td>\n",
       "    </tr>\n",
       "    <tr>\n",
       "      <th>2</th>\n",
       "      <td>f94646a81d8cd0b211269e034f4b243a95e40b42c6cfde...</td>\n",
       "      <td>2017-03</td>\n",
       "      <td>City of London Police</td>\n",
       "      <td>-0.106453</td>\n",
       "      <td>51.518207</td>\n",
       "      <td>On or near Charterhouse Street</td>\n",
       "      <td>E01000916</td>\n",
       "      <td>Camden 027B</td>\n",
       "      <td>Other theft</td>\n",
       "      <td>Camden</td>\n",
       "      <td>Investigation complete; no suspect identified</td>\n",
       "    </tr>\n",
       "    <tr>\n",
       "      <th>3</th>\n",
       "      <td>06e52c57d14cf928dd2b90e1275865ba7f67bcb0dda557...</td>\n",
       "      <td>2017-03</td>\n",
       "      <td>City of London Police</td>\n",
       "      <td>-0.113767</td>\n",
       "      <td>51.517372</td>\n",
       "      <td>On or near Stone Buildings</td>\n",
       "      <td>E01000914</td>\n",
       "      <td>Camden 028B</td>\n",
       "      <td>Criminal damage and arson</td>\n",
       "      <td>Camden</td>\n",
       "      <td>Status update unavailable</td>\n",
       "    </tr>\n",
       "    <tr>\n",
       "      <th>4</th>\n",
       "      <td>f648c88a44761c51956683a19c540c863378a98796362e...</td>\n",
       "      <td>2017-03</td>\n",
       "      <td>City of London Police</td>\n",
       "      <td>-0.111497</td>\n",
       "      <td>51.518226</td>\n",
       "      <td>On or near Pedestrian Subway</td>\n",
       "      <td>E01000914</td>\n",
       "      <td>Camden 028B</td>\n",
       "      <td>Violence and sexual offences</td>\n",
       "      <td>Camden</td>\n",
       "      <td>Unable to prosecute suspect</td>\n",
       "    </tr>\n",
       "  </tbody>\n",
       "</table>\n",
       "</div>"
      ],
      "text/plain": [
       "                                            Crime_ID    Month  \\\n",
       "0  aad8f637ccaf198afcc0b0a708da31aa9d58142d746dd5...  2017-04   \n",
       "1  79a0f62e5ba67a94251a5488e1c5708c079469a25628ee...  2017-04   \n",
       "2  f94646a81d8cd0b211269e034f4b243a95e40b42c6cfde...  2017-03   \n",
       "3  06e52c57d14cf928dd2b90e1275865ba7f67bcb0dda557...  2017-03   \n",
       "4  f648c88a44761c51956683a19c540c863378a98796362e...  2017-03   \n",
       "\n",
       "            Falls_within  Longitude   Latitude  \\\n",
       "0  City of London Police  -0.111497  51.518226   \n",
       "1  City of London Police  -0.111497  51.518226   \n",
       "2  City of London Police  -0.106453  51.518207   \n",
       "3  City of London Police  -0.113767  51.517372   \n",
       "4  City of London Police  -0.111497  51.518226   \n",
       "\n",
       "                         Location  LSOA_code    LSOA_name  \\\n",
       "0    On or near Pedestrian Subway  E01000914  Camden 028B   \n",
       "1    On or near Pedestrian Subway  E01000914  Camden 028B   \n",
       "2  On or near Charterhouse Street  E01000916  Camden 027B   \n",
       "3      On or near Stone Buildings  E01000914  Camden 028B   \n",
       "4    On or near Pedestrian Subway  E01000914  Camden 028B   \n",
       "\n",
       "                     Crime_type Borough_name  \\\n",
       "0     Criminal damage and arson       Camden   \n",
       "1                   Other theft       Camden   \n",
       "2                   Other theft       Camden   \n",
       "3     Criminal damage and arson       Camden   \n",
       "4  Violence and sexual offences       Camden   \n",
       "\n",
       "                             Latest_Outcome_type  \n",
       "0                                Suspect charged  \n",
       "1  Investigation complete; no suspect identified  \n",
       "2  Investigation complete; no suspect identified  \n",
       "3                      Status update unavailable  \n",
       "4                    Unable to prosecute suspect  "
      ]
     },
     "execution_count": 37,
     "metadata": {},
     "output_type": "execute_result"
    }
   ],
   "source": [
    "street_df.head()"
   ]
  },
  {
   "cell_type": "markdown",
   "metadata": {},
   "source": [
    "### Split columns from one to two\n",
    "Split Month column to two columns named, Year and Month."
   ]
  },
  {
   "cell_type": "code",
   "execution_count": 38,
   "metadata": {},
   "outputs": [
    {
     "data": {
      "text/html": [
       "<div>\n",
       "<style scoped>\n",
       "    .dataframe tbody tr th:only-of-type {\n",
       "        vertical-align: middle;\n",
       "    }\n",
       "\n",
       "    .dataframe tbody tr th {\n",
       "        vertical-align: top;\n",
       "    }\n",
       "\n",
       "    .dataframe thead th {\n",
       "        text-align: right;\n",
       "    }\n",
       "</style>\n",
       "<table border=\"1\" class=\"dataframe\">\n",
       "  <thead>\n",
       "    <tr style=\"text-align: right;\">\n",
       "      <th></th>\n",
       "      <th>Crime_ID</th>\n",
       "      <th>Month</th>\n",
       "      <th>Falls_within</th>\n",
       "      <th>Longitude</th>\n",
       "      <th>Latitude</th>\n",
       "      <th>Location</th>\n",
       "      <th>LSOA_code</th>\n",
       "      <th>LSOA_name</th>\n",
       "      <th>Crime_type</th>\n",
       "      <th>Borough_name</th>\n",
       "      <th>Latest_Outcome_type</th>\n",
       "      <th>Year</th>\n",
       "    </tr>\n",
       "  </thead>\n",
       "  <tbody>\n",
       "    <tr>\n",
       "      <th>0</th>\n",
       "      <td>aad8f637ccaf198afcc0b0a708da31aa9d58142d746dd5...</td>\n",
       "      <td>04</td>\n",
       "      <td>City of London Police</td>\n",
       "      <td>-0.111497</td>\n",
       "      <td>51.518226</td>\n",
       "      <td>On or near Pedestrian Subway</td>\n",
       "      <td>E01000914</td>\n",
       "      <td>Camden 028B</td>\n",
       "      <td>Criminal damage and arson</td>\n",
       "      <td>Camden</td>\n",
       "      <td>Suspect charged</td>\n",
       "      <td>2017</td>\n",
       "    </tr>\n",
       "    <tr>\n",
       "      <th>1</th>\n",
       "      <td>79a0f62e5ba67a94251a5488e1c5708c079469a25628ee...</td>\n",
       "      <td>04</td>\n",
       "      <td>City of London Police</td>\n",
       "      <td>-0.111497</td>\n",
       "      <td>51.518226</td>\n",
       "      <td>On or near Pedestrian Subway</td>\n",
       "      <td>E01000914</td>\n",
       "      <td>Camden 028B</td>\n",
       "      <td>Other theft</td>\n",
       "      <td>Camden</td>\n",
       "      <td>Investigation complete; no suspect identified</td>\n",
       "      <td>2017</td>\n",
       "    </tr>\n",
       "    <tr>\n",
       "      <th>2</th>\n",
       "      <td>f94646a81d8cd0b211269e034f4b243a95e40b42c6cfde...</td>\n",
       "      <td>03</td>\n",
       "      <td>City of London Police</td>\n",
       "      <td>-0.106453</td>\n",
       "      <td>51.518207</td>\n",
       "      <td>On or near Charterhouse Street</td>\n",
       "      <td>E01000916</td>\n",
       "      <td>Camden 027B</td>\n",
       "      <td>Other theft</td>\n",
       "      <td>Camden</td>\n",
       "      <td>Investigation complete; no suspect identified</td>\n",
       "      <td>2017</td>\n",
       "    </tr>\n",
       "    <tr>\n",
       "      <th>3</th>\n",
       "      <td>06e52c57d14cf928dd2b90e1275865ba7f67bcb0dda557...</td>\n",
       "      <td>03</td>\n",
       "      <td>City of London Police</td>\n",
       "      <td>-0.113767</td>\n",
       "      <td>51.517372</td>\n",
       "      <td>On or near Stone Buildings</td>\n",
       "      <td>E01000914</td>\n",
       "      <td>Camden 028B</td>\n",
       "      <td>Criminal damage and arson</td>\n",
       "      <td>Camden</td>\n",
       "      <td>Status update unavailable</td>\n",
       "      <td>2017</td>\n",
       "    </tr>\n",
       "    <tr>\n",
       "      <th>4</th>\n",
       "      <td>f648c88a44761c51956683a19c540c863378a98796362e...</td>\n",
       "      <td>03</td>\n",
       "      <td>City of London Police</td>\n",
       "      <td>-0.111497</td>\n",
       "      <td>51.518226</td>\n",
       "      <td>On or near Pedestrian Subway</td>\n",
       "      <td>E01000914</td>\n",
       "      <td>Camden 028B</td>\n",
       "      <td>Violence and sexual offences</td>\n",
       "      <td>Camden</td>\n",
       "      <td>Unable to prosecute suspect</td>\n",
       "      <td>2017</td>\n",
       "    </tr>\n",
       "    <tr>\n",
       "      <th>5</th>\n",
       "      <td>0dc30996d6983818ad99f3cb8e07117dfd04feaaee7c10...</td>\n",
       "      <td>03</td>\n",
       "      <td>City of London Police</td>\n",
       "      <td>-0.111497</td>\n",
       "      <td>51.518226</td>\n",
       "      <td>On or near Pedestrian Subway</td>\n",
       "      <td>E01000914</td>\n",
       "      <td>Camden 028B</td>\n",
       "      <td>Violence and sexual offences</td>\n",
       "      <td>Camden</td>\n",
       "      <td>Unable to prosecute suspect</td>\n",
       "      <td>2017</td>\n",
       "    </tr>\n",
       "    <tr>\n",
       "      <th>6</th>\n",
       "      <td>36b20bdb03cadaac60b01469faf9699d1f7ff8644f66ac...</td>\n",
       "      <td>02</td>\n",
       "      <td>City of London Police</td>\n",
       "      <td>-0.111497</td>\n",
       "      <td>51.518226</td>\n",
       "      <td>On or near Pedestrian Subway</td>\n",
       "      <td>E01000914</td>\n",
       "      <td>Camden 028B</td>\n",
       "      <td>Criminal damage and arson</td>\n",
       "      <td>Camden</td>\n",
       "      <td>Investigation complete; no suspect identified</td>\n",
       "      <td>2017</td>\n",
       "    </tr>\n",
       "    <tr>\n",
       "      <th>7</th>\n",
       "      <td>ebcf4469e2cf89b8409f73900fb6df4baf128b73c48083...</td>\n",
       "      <td>02</td>\n",
       "      <td>City of London Police</td>\n",
       "      <td>-0.113767</td>\n",
       "      <td>51.517372</td>\n",
       "      <td>On or near Stone Buildings</td>\n",
       "      <td>E01000914</td>\n",
       "      <td>Camden 028B</td>\n",
       "      <td>Other theft</td>\n",
       "      <td>Camden</td>\n",
       "      <td>Investigation complete; no suspect identified</td>\n",
       "      <td>2017</td>\n",
       "    </tr>\n",
       "    <tr>\n",
       "      <th>8</th>\n",
       "      <td>b72d02780ec30b0f767f9c94b71967ec0eb5e8f8c1c42e...</td>\n",
       "      <td>11</td>\n",
       "      <td>City of London Police</td>\n",
       "      <td>-0.113256</td>\n",
       "      <td>51.516824</td>\n",
       "      <td>On or near Old Square</td>\n",
       "      <td>E01000914</td>\n",
       "      <td>Camden 028B</td>\n",
       "      <td>Bicycle theft</td>\n",
       "      <td>Camden</td>\n",
       "      <td>Further investigation is not in the public int...</td>\n",
       "      <td>2017</td>\n",
       "    </tr>\n",
       "    <tr>\n",
       "      <th>9</th>\n",
       "      <td>4868a1a661c8ff7cc2739b1347594a7506c7e05c016d5a...</td>\n",
       "      <td>11</td>\n",
       "      <td>City of London Police</td>\n",
       "      <td>-0.111497</td>\n",
       "      <td>51.518226</td>\n",
       "      <td>On or near Pedestrian Subway</td>\n",
       "      <td>E01000914</td>\n",
       "      <td>Camden 028B</td>\n",
       "      <td>Other theft</td>\n",
       "      <td>Camden</td>\n",
       "      <td>Investigation complete; no suspect identified</td>\n",
       "      <td>2017</td>\n",
       "    </tr>\n",
       "  </tbody>\n",
       "</table>\n",
       "</div>"
      ],
      "text/plain": [
       "                                            Crime_ID Month  \\\n",
       "0  aad8f637ccaf198afcc0b0a708da31aa9d58142d746dd5...    04   \n",
       "1  79a0f62e5ba67a94251a5488e1c5708c079469a25628ee...    04   \n",
       "2  f94646a81d8cd0b211269e034f4b243a95e40b42c6cfde...    03   \n",
       "3  06e52c57d14cf928dd2b90e1275865ba7f67bcb0dda557...    03   \n",
       "4  f648c88a44761c51956683a19c540c863378a98796362e...    03   \n",
       "5  0dc30996d6983818ad99f3cb8e07117dfd04feaaee7c10...    03   \n",
       "6  36b20bdb03cadaac60b01469faf9699d1f7ff8644f66ac...    02   \n",
       "7  ebcf4469e2cf89b8409f73900fb6df4baf128b73c48083...    02   \n",
       "8  b72d02780ec30b0f767f9c94b71967ec0eb5e8f8c1c42e...    11   \n",
       "9  4868a1a661c8ff7cc2739b1347594a7506c7e05c016d5a...    11   \n",
       "\n",
       "            Falls_within  Longitude   Latitude  \\\n",
       "0  City of London Police  -0.111497  51.518226   \n",
       "1  City of London Police  -0.111497  51.518226   \n",
       "2  City of London Police  -0.106453  51.518207   \n",
       "3  City of London Police  -0.113767  51.517372   \n",
       "4  City of London Police  -0.111497  51.518226   \n",
       "5  City of London Police  -0.111497  51.518226   \n",
       "6  City of London Police  -0.111497  51.518226   \n",
       "7  City of London Police  -0.113767  51.517372   \n",
       "8  City of London Police  -0.113256  51.516824   \n",
       "9  City of London Police  -0.111497  51.518226   \n",
       "\n",
       "                         Location  LSOA_code    LSOA_name  \\\n",
       "0    On or near Pedestrian Subway  E01000914  Camden 028B   \n",
       "1    On or near Pedestrian Subway  E01000914  Camden 028B   \n",
       "2  On or near Charterhouse Street  E01000916  Camden 027B   \n",
       "3      On or near Stone Buildings  E01000914  Camden 028B   \n",
       "4    On or near Pedestrian Subway  E01000914  Camden 028B   \n",
       "5    On or near Pedestrian Subway  E01000914  Camden 028B   \n",
       "6    On or near Pedestrian Subway  E01000914  Camden 028B   \n",
       "7      On or near Stone Buildings  E01000914  Camden 028B   \n",
       "8           On or near Old Square  E01000914  Camden 028B   \n",
       "9    On or near Pedestrian Subway  E01000914  Camden 028B   \n",
       "\n",
       "                     Crime_type Borough_name  \\\n",
       "0     Criminal damage and arson       Camden   \n",
       "1                   Other theft       Camden   \n",
       "2                   Other theft       Camden   \n",
       "3     Criminal damage and arson       Camden   \n",
       "4  Violence and sexual offences       Camden   \n",
       "5  Violence and sexual offences       Camden   \n",
       "6     Criminal damage and arson       Camden   \n",
       "7                   Other theft       Camden   \n",
       "8                 Bicycle theft       Camden   \n",
       "9                   Other theft       Camden   \n",
       "\n",
       "                                 Latest_Outcome_type  Year  \n",
       "0                                    Suspect charged  2017  \n",
       "1      Investigation complete; no suspect identified  2017  \n",
       "2      Investigation complete; no suspect identified  2017  \n",
       "3                          Status update unavailable  2017  \n",
       "4                        Unable to prosecute suspect  2017  \n",
       "5                        Unable to prosecute suspect  2017  \n",
       "6      Investigation complete; no suspect identified  2017  \n",
       "7      Investigation complete; no suspect identified  2017  \n",
       "8  Further investigation is not in the public int...  2017  \n",
       "9      Investigation complete; no suspect identified  2017  "
      ]
     },
     "execution_count": 38,
     "metadata": {},
     "output_type": "execute_result"
    }
   ],
   "source": [
    "    # Check if the month column have any null value \n",
    "    number_of_null_months = street_df.Month[street_df.Month.isnull() == True].size\n",
    "\n",
    "    #  Split  Month column to Year and Month only if their is no null value present inside Month\n",
    "    if(number_of_null_months == 0):\n",
    "        # create Year column inside street dataframe and populate year data from the Month field\n",
    "        street_df['Year'] = street_df['Month'].str[: 4]\n",
    "\n",
    "        # update Month column with just a Month number\n",
    "        street_df['Month'] = street_df['Month'].str[-2: ]\n",
    "\n",
    "    street_df.head(10)"
   ]
  },
  {
   "cell_type": "markdown",
   "metadata": {},
   "source": [
    "# Add new columns\n",
    "## Generate Location ID"
   ]
  },
  {
   "cell_type": "code",
   "execution_count": 61,
   "metadata": {},
   "outputs": [
    {
     "data": {
      "text/html": [
       "<div>\n",
       "<style scoped>\n",
       "    .dataframe tbody tr th:only-of-type {\n",
       "        vertical-align: middle;\n",
       "    }\n",
       "\n",
       "    .dataframe tbody tr th {\n",
       "        vertical-align: top;\n",
       "    }\n",
       "\n",
       "    .dataframe thead th {\n",
       "        text-align: right;\n",
       "    }\n",
       "</style>\n",
       "<table border=\"1\" class=\"dataframe\">\n",
       "  <thead>\n",
       "    <tr style=\"text-align: right;\">\n",
       "      <th></th>\n",
       "      <th>Location_ID</th>\n",
       "      <th>Count</th>\n",
       "    </tr>\n",
       "  </thead>\n",
       "  <tbody>\n",
       "    <tr>\n",
       "      <th>0</th>\n",
       "      <td>1</td>\n",
       "      <td>4</td>\n",
       "    </tr>\n",
       "    <tr>\n",
       "      <th>1</th>\n",
       "      <td>2</td>\n",
       "      <td>4</td>\n",
       "    </tr>\n",
       "    <tr>\n",
       "      <th>2</th>\n",
       "      <td>3</td>\n",
       "      <td>3</td>\n",
       "    </tr>\n",
       "    <tr>\n",
       "      <th>3</th>\n",
       "      <td>4</td>\n",
       "      <td>16</td>\n",
       "    </tr>\n",
       "    <tr>\n",
       "      <th>4</th>\n",
       "      <td>5</td>\n",
       "      <td>4</td>\n",
       "    </tr>\n",
       "    <tr>\n",
       "      <th>5</th>\n",
       "      <td>6</td>\n",
       "      <td>5</td>\n",
       "    </tr>\n",
       "    <tr>\n",
       "      <th>6</th>\n",
       "      <td>7</td>\n",
       "      <td>7</td>\n",
       "    </tr>\n",
       "    <tr>\n",
       "      <th>7</th>\n",
       "      <td>8</td>\n",
       "      <td>10</td>\n",
       "    </tr>\n",
       "    <tr>\n",
       "      <th>8</th>\n",
       "      <td>9</td>\n",
       "      <td>22</td>\n",
       "    </tr>\n",
       "    <tr>\n",
       "      <th>9</th>\n",
       "      <td>10</td>\n",
       "      <td>10</td>\n",
       "    </tr>\n",
       "  </tbody>\n",
       "</table>\n",
       "</div>"
      ],
      "text/plain": [
       "   Location_ID  Count\n",
       "0            1      4\n",
       "1            2      4\n",
       "2            3      3\n",
       "3            4     16\n",
       "4            5      4\n",
       "5            6      5\n",
       "6            7      7\n",
       "7            8     10\n",
       "8            9     22\n",
       "9           10     10"
      ]
     },
     "execution_count": 61,
     "metadata": {},
     "output_type": "execute_result"
    }
   ],
   "source": [
    "# create variable which contain the location group\n",
    "grp_location = ['Longitude','Latitude','Location']\n",
    "\n",
    "# create new column inside street dataframe for storing location id\n",
    "street_df['Location_ID'] = street_df.groupby(grp_location).ngroup() + 1\n",
    "\n",
    "# show Location ID in as sorted fashion\n",
    "street_df.groupby(['Location_ID']).size().reset_index(name='Count').sort_values(by='Location_ID', ascending=True).head(10)"
   ]
  },
  {
   "cell_type": "markdown",
   "metadata": {},
   "source": [
    "## Generate Address ID"
   ]
  },
  {
   "cell_type": "code",
   "execution_count": 62,
   "metadata": {},
   "outputs": [
    {
     "data": {
      "text/html": [
       "<div>\n",
       "<style scoped>\n",
       "    .dataframe tbody tr th:only-of-type {\n",
       "        vertical-align: middle;\n",
       "    }\n",
       "\n",
       "    .dataframe tbody tr th {\n",
       "        vertical-align: top;\n",
       "    }\n",
       "\n",
       "    .dataframe thead th {\n",
       "        text-align: right;\n",
       "    }\n",
       "</style>\n",
       "<table border=\"1\" class=\"dataframe\">\n",
       "  <thead>\n",
       "    <tr style=\"text-align: right;\">\n",
       "      <th></th>\n",
       "      <th>Address_ID</th>\n",
       "      <th>Count</th>\n",
       "    </tr>\n",
       "  </thead>\n",
       "  <tbody>\n",
       "    <tr>\n",
       "      <th>0</th>\n",
       "      <td>1</td>\n",
       "      <td>828</td>\n",
       "    </tr>\n",
       "    <tr>\n",
       "      <th>1</th>\n",
       "      <td>2</td>\n",
       "      <td>730</td>\n",
       "    </tr>\n",
       "    <tr>\n",
       "      <th>2</th>\n",
       "      <td>3</td>\n",
       "      <td>135</td>\n",
       "    </tr>\n",
       "    <tr>\n",
       "      <th>3</th>\n",
       "      <td>4</td>\n",
       "      <td>1468</td>\n",
       "    </tr>\n",
       "    <tr>\n",
       "      <th>4</th>\n",
       "      <td>5</td>\n",
       "      <td>235</td>\n",
       "    </tr>\n",
       "    <tr>\n",
       "      <th>5</th>\n",
       "      <td>6</td>\n",
       "      <td>1167</td>\n",
       "    </tr>\n",
       "    <tr>\n",
       "      <th>6</th>\n",
       "      <td>7</td>\n",
       "      <td>713</td>\n",
       "    </tr>\n",
       "    <tr>\n",
       "      <th>7</th>\n",
       "      <td>8</td>\n",
       "      <td>698</td>\n",
       "    </tr>\n",
       "    <tr>\n",
       "      <th>8</th>\n",
       "      <td>9</td>\n",
       "      <td>3799</td>\n",
       "    </tr>\n",
       "    <tr>\n",
       "      <th>9</th>\n",
       "      <td>10</td>\n",
       "      <td>300</td>\n",
       "    </tr>\n",
       "  </tbody>\n",
       "</table>\n",
       "</div>"
      ],
      "text/plain": [
       "   Address_ID  Count\n",
       "0           1    828\n",
       "1           2    730\n",
       "2           3    135\n",
       "3           4   1468\n",
       "4           5    235\n",
       "5           6   1167\n",
       "6           7    713\n",
       "7           8    698\n",
       "8           9   3799\n",
       "9          10    300"
      ]
     },
     "execution_count": 62,
     "metadata": {},
     "output_type": "execute_result"
    }
   ],
   "source": [
    "# create variable which contain the address group\n",
    "grp_address = ['LSOA_code','LSOA_name']\n",
    "\n",
    "# create new column inside street dataframe for storing location id\n",
    "street_df['Address_ID'] = street_df.groupby(grp_address).ngroup() + 1\n",
    "\n",
    "# show Address ID in as sorted fashion\n",
    "street_df.groupby(['Address_ID']).size().reset_index(name='Count').sort_values(by='Address_ID', ascending=True).head(10)"
   ]
  },
  {
   "cell_type": "markdown",
   "metadata": {},
   "source": [
    "## Generate Crime_type_ID"
   ]
  },
  {
   "cell_type": "code",
   "execution_count": 63,
   "metadata": {},
   "outputs": [
    {
     "data": {
      "text/html": [
       "<div>\n",
       "<style scoped>\n",
       "    .dataframe tbody tr th:only-of-type {\n",
       "        vertical-align: middle;\n",
       "    }\n",
       "\n",
       "    .dataframe tbody tr th {\n",
       "        vertical-align: top;\n",
       "    }\n",
       "\n",
       "    .dataframe thead th {\n",
       "        text-align: right;\n",
       "    }\n",
       "</style>\n",
       "<table border=\"1\" class=\"dataframe\">\n",
       "  <thead>\n",
       "    <tr style=\"text-align: right;\">\n",
       "      <th></th>\n",
       "      <th>Crime_type_ID</th>\n",
       "      <th>Count</th>\n",
       "    </tr>\n",
       "  </thead>\n",
       "  <tbody>\n",
       "    <tr>\n",
       "      <th>0</th>\n",
       "      <td>1</td>\n",
       "      <td>59534</td>\n",
       "    </tr>\n",
       "    <tr>\n",
       "      <th>1</th>\n",
       "      <td>2</td>\n",
       "      <td>232942</td>\n",
       "    </tr>\n",
       "    <tr>\n",
       "      <th>2</th>\n",
       "      <td>3</td>\n",
       "      <td>166949</td>\n",
       "    </tr>\n",
       "    <tr>\n",
       "      <th>3</th>\n",
       "      <td>4</td>\n",
       "      <td>106654</td>\n",
       "    </tr>\n",
       "    <tr>\n",
       "      <th>4</th>\n",
       "      <td>5</td>\n",
       "      <td>28018</td>\n",
       "    </tr>\n",
       "    <tr>\n",
       "      <th>5</th>\n",
       "      <td>6</td>\n",
       "      <td>345103</td>\n",
       "    </tr>\n",
       "    <tr>\n",
       "      <th>6</th>\n",
       "      <td>7</td>\n",
       "      <td>17256</td>\n",
       "    </tr>\n",
       "    <tr>\n",
       "      <th>7</th>\n",
       "      <td>8</td>\n",
       "      <td>130743</td>\n",
       "    </tr>\n",
       "    <tr>\n",
       "      <th>8</th>\n",
       "      <td>9</td>\n",
       "      <td>93411</td>\n",
       "    </tr>\n",
       "    <tr>\n",
       "      <th>9</th>\n",
       "      <td>10</td>\n",
       "      <td>132270</td>\n",
       "    </tr>\n",
       "    <tr>\n",
       "      <th>10</th>\n",
       "      <td>11</td>\n",
       "      <td>141786</td>\n",
       "    </tr>\n",
       "    <tr>\n",
       "      <th>11</th>\n",
       "      <td>12</td>\n",
       "      <td>328878</td>\n",
       "    </tr>\n",
       "    <tr>\n",
       "      <th>12</th>\n",
       "      <td>13</td>\n",
       "      <td>585429</td>\n",
       "    </tr>\n",
       "  </tbody>\n",
       "</table>\n",
       "</div>"
      ],
      "text/plain": [
       "    Crime_type_ID   Count\n",
       "0               1   59534\n",
       "1               2  232942\n",
       "2               3  166949\n",
       "3               4  106654\n",
       "4               5   28018\n",
       "5               6  345103\n",
       "6               7   17256\n",
       "7               8  130743\n",
       "8               9   93411\n",
       "9              10  132270\n",
       "10             11  141786\n",
       "11             12  328878\n",
       "12             13  585429"
      ]
     },
     "execution_count": 63,
     "metadata": {},
     "output_type": "execute_result"
    }
   ],
   "source": [
    "# create new column inside street dataframe for storing location id\n",
    "street_df['Crime_type_ID'] = street_df.groupby(['Crime_type']).ngroup() + 1\n",
    "\n",
    "# show Address ID in as sorted fashion\n",
    "street_df.groupby(['Crime_type_ID']).size().reset_index(name='Count').sort_values(by='Crime_type_ID', ascending=True)"
   ]
  },
  {
   "cell_type": "markdown",
   "metadata": {},
   "source": [
    "## Generate Police_force_ID"
   ]
  },
  {
   "cell_type": "code",
   "execution_count": 64,
   "metadata": {},
   "outputs": [
    {
     "data": {
      "text/plain": [
       "2    2349039\n",
       "1      19934\n",
       "Name: Police_force_ID, dtype: int64"
      ]
     },
     "execution_count": 64,
     "metadata": {},
     "output_type": "execute_result"
    }
   ],
   "source": [
    "# create new column inside street dataframe for storing police force id\n",
    "street_df['Police_force_ID'] = street_df.groupby(['Falls_within']).ngroup() + 1\n",
    "\n",
    "# show Address ID in as sorted fashion\n",
    "street_df.Police_force_ID.value_counts()"
   ]
  },
  {
   "cell_type": "markdown",
   "metadata": {},
   "source": [
    "## Generate TimeID "
   ]
  },
  {
   "cell_type": "code",
   "execution_count": 65,
   "metadata": {},
   "outputs": [
    {
     "data": {
      "text/html": [
       "<div>\n",
       "<style scoped>\n",
       "    .dataframe tbody tr th:only-of-type {\n",
       "        vertical-align: middle;\n",
       "    }\n",
       "\n",
       "    .dataframe tbody tr th {\n",
       "        vertical-align: top;\n",
       "    }\n",
       "\n",
       "    .dataframe thead th {\n",
       "        text-align: right;\n",
       "    }\n",
       "</style>\n",
       "<table border=\"1\" class=\"dataframe\">\n",
       "  <thead>\n",
       "    <tr style=\"text-align: right;\">\n",
       "      <th></th>\n",
       "      <th>Time_ID</th>\n",
       "      <th>Count</th>\n",
=======
       "      <td>1</td>\n",
       "      <td>58139</td>\n",
       "    </tr>\n",
       "    <tr>\n",
       "      <th>1</th>\n",
       "      <td>2</td>\n",
       "      <td>64679</td>\n",
>>>>>>> c56ceaba03c0fe26f665322f583f77c9e356d270
       "    </tr>\n",
       "  </thead>\n",
       "  <tbody>\n",
       "    <tr>\n",
<<<<<<< HEAD
       "      <th>0</th>\n",
       "      <td>1</td>\n",
       "      <td>58139</td>\n",
       "    </tr>\n",
       "    <tr>\n",
       "      <th>1</th>\n",
       "      <td>2</td>\n",
       "      <td>64679</td>\n",
       "    </tr>\n",
       "    <tr>\n",
       "      <th>2</th>\n",
       "      <td>3</td>\n",
       "      <td>67773</td>\n",
       "    </tr>\n",
       "    <tr>\n",
       "      <th>3</th>\n",
       "      <td>4</td>\n",
       "      <td>56473</td>\n",
       "    </tr>\n",
       "    <tr>\n",
       "      <th>4</th>\n",
       "      <td>5</td>\n",
       "      <td>58614</td>\n",
       "    </tr>\n",
       "    <tr>\n",
       "      <th>5</th>\n",
       "      <td>6</td>\n",
       "      <td>65877</td>\n",
       "    </tr>\n",
       "    <tr>\n",
       "      <th>6</th>\n",
       "      <td>7</td>\n",
       "      <td>66045</td>\n",
       "    </tr>\n",
       "    <tr>\n",
       "      <th>7</th>\n",
       "      <td>8</td>\n",
       "      <td>62817</td>\n",
       "    </tr>\n",
       "    <tr>\n",
       "      <th>8</th>\n",
       "      <td>9</td>\n",
       "      <td>73572</td>\n",
       "    </tr>\n",
       "    <tr>\n",
       "      <th>9</th>\n",
       "      <td>10</td>\n",
       "      <td>58845</td>\n",
       "    </tr>\n",
       "    <tr>\n",
       "      <th>10</th>\n",
       "      <td>11</td>\n",
       "      <td>62269</td>\n",
       "    </tr>\n",
       "    <tr>\n",
       "      <th>11</th>\n",
       "      <td>12</td>\n",
       "      <td>67977</td>\n",
       "    </tr>\n",
       "    <tr>\n",
       "      <th>12</th>\n",
       "      <td>13</td>\n",
       "      <td>66427</td>\n",
       "    </tr>\n",
       "    <tr>\n",
       "      <th>13</th>\n",
       "      <td>14</td>\n",
       "      <td>66002</td>\n",
       "    </tr>\n",
       "    <tr>\n",
       "      <th>14</th>\n",
       "      <td>15</td>\n",
       "      <td>70383</td>\n",
       "    </tr>\n",
       "    <tr>\n",
       "      <th>15</th>\n",
       "      <td>16</td>\n",
       "      <td>65423</td>\n",
       "    </tr>\n",
       "    <tr>\n",
       "      <th>16</th>\n",
       "      <td>17</td>\n",
       "      <td>65393</td>\n",
       "    </tr>\n",
       "    <tr>\n",
       "      <th>17</th>\n",
       "      <td>18</td>\n",
       "      <td>69736</td>\n",
       "    </tr>\n",
       "    <tr>\n",
=======
       "      <th>2</th>\n",
       "      <td>3</td>\n",
       "      <td>67773</td>\n",
       "    </tr>\n",
       "    <tr>\n",
       "      <th>3</th>\n",
       "      <td>4</td>\n",
       "      <td>56473</td>\n",
       "    </tr>\n",
       "    <tr>\n",
       "      <th>4</th>\n",
       "      <td>5</td>\n",
       "      <td>58614</td>\n",
       "    </tr>\n",
       "    <tr>\n",
       "      <th>5</th>\n",
       "      <td>6</td>\n",
       "      <td>65877</td>\n",
       "    </tr>\n",
       "    <tr>\n",
       "      <th>6</th>\n",
       "      <td>7</td>\n",
       "      <td>66045</td>\n",
       "    </tr>\n",
       "    <tr>\n",
       "      <th>7</th>\n",
       "      <td>8</td>\n",
       "      <td>62817</td>\n",
       "    </tr>\n",
       "    <tr>\n",
       "      <th>8</th>\n",
       "      <td>9</td>\n",
       "      <td>73572</td>\n",
       "    </tr>\n",
       "    <tr>\n",
       "      <th>9</th>\n",
       "      <td>10</td>\n",
       "      <td>58845</td>\n",
       "    </tr>\n",
       "    <tr>\n",
       "      <th>10</th>\n",
       "      <td>11</td>\n",
       "      <td>62269</td>\n",
       "    </tr>\n",
       "    <tr>\n",
       "      <th>11</th>\n",
       "      <td>12</td>\n",
       "      <td>67977</td>\n",
       "    </tr>\n",
       "    <tr>\n",
       "      <th>12</th>\n",
       "      <td>13</td>\n",
       "      <td>66427</td>\n",
       "    </tr>\n",
       "    <tr>\n",
       "      <th>13</th>\n",
       "      <td>14</td>\n",
       "      <td>66002</td>\n",
       "    </tr>\n",
       "    <tr>\n",
       "      <th>14</th>\n",
       "      <td>15</td>\n",
       "      <td>70383</td>\n",
       "    </tr>\n",
       "    <tr>\n",
       "      <th>15</th>\n",
       "      <td>16</td>\n",
       "      <td>65423</td>\n",
       "    </tr>\n",
       "    <tr>\n",
       "      <th>16</th>\n",
       "      <td>17</td>\n",
       "      <td>65393</td>\n",
       "    </tr>\n",
       "    <tr>\n",
       "      <th>17</th>\n",
       "      <td>18</td>\n",
       "      <td>69736</td>\n",
       "    </tr>\n",
       "    <tr>\n",
>>>>>>> c56ceaba03c0fe26f665322f583f77c9e356d270
       "      <th>18</th>\n",
       "      <td>19</td>\n",
       "      <td>68641</td>\n",
       "    </tr>\n",
       "    <tr>\n",
       "      <th>19</th>\n",
       "      <td>20</td>\n",
       "      <td>69301</td>\n",
       "    </tr>\n",
       "    <tr>\n",
       "      <th>20</th>\n",
       "      <td>21</td>\n",
       "      <td>69256</td>\n",
<<<<<<< HEAD
       "    </tr>\n",
       "    <tr>\n",
       "      <th>21</th>\n",
       "      <td>22</td>\n",
       "      <td>65724</td>\n",
       "    </tr>\n",
       "    <tr>\n",
       "      <th>22</th>\n",
       "      <td>23</td>\n",
       "      <td>64528</td>\n",
       "    </tr>\n",
       "    <tr>\n",
       "      <th>23</th>\n",
       "      <td>24</td>\n",
       "      <td>63895</td>\n",
       "    </tr>\n",
       "    <tr>\n",
       "      <th>24</th>\n",
       "      <td>25</td>\n",
       "      <td>63812</td>\n",
       "    </tr>\n",
       "    <tr>\n",
       "      <th>25</th>\n",
       "      <td>26</td>\n",
       "      <td>64272</td>\n",
       "    </tr>\n",
       "    <tr>\n",
       "      <th>26</th>\n",
       "      <td>27</td>\n",
       "      <td>63326</td>\n",
       "    </tr>\n",
       "    <tr>\n",
       "      <th>27</th>\n",
       "      <td>28</td>\n",
       "      <td>68234</td>\n",
       "    </tr>\n",
       "    <tr>\n",
       "      <th>28</th>\n",
       "      <td>29</td>\n",
       "      <td>69389</td>\n",
       "    </tr>\n",
       "    <tr>\n",
       "      <th>29</th>\n",
       "      <td>30</td>\n",
       "      <td>71543</td>\n",
       "    </tr>\n",
       "    <tr>\n",
       "      <th>30</th>\n",
       "      <td>31</td>\n",
       "      <td>67536</td>\n",
       "    </tr>\n",
       "    <tr>\n",
       "      <th>31</th>\n",
       "      <td>32</td>\n",
       "      <td>69703</td>\n",
       "    </tr>\n",
       "    <tr>\n",
       "      <th>32</th>\n",
       "      <td>33</td>\n",
       "      <td>68776</td>\n",
       "    </tr>\n",
       "    <tr>\n",
       "      <th>33</th>\n",
       "      <td>34</td>\n",
       "      <td>61936</td>\n",
       "    </tr>\n",
       "    <tr>\n",
=======
       "    </tr>\n",
       "    <tr>\n",
       "      <th>21</th>\n",
       "      <td>22</td>\n",
       "      <td>65724</td>\n",
       "    </tr>\n",
       "    <tr>\n",
       "      <th>22</th>\n",
       "      <td>23</td>\n",
       "      <td>64528</td>\n",
       "    </tr>\n",
       "    <tr>\n",
       "      <th>23</th>\n",
       "      <td>24</td>\n",
       "      <td>63895</td>\n",
       "    </tr>\n",
       "    <tr>\n",
       "      <th>24</th>\n",
       "      <td>25</td>\n",
       "      <td>63812</td>\n",
       "    </tr>\n",
       "    <tr>\n",
       "      <th>25</th>\n",
       "      <td>26</td>\n",
       "      <td>64272</td>\n",
       "    </tr>\n",
       "    <tr>\n",
       "      <th>26</th>\n",
       "      <td>27</td>\n",
       "      <td>63326</td>\n",
       "    </tr>\n",
       "    <tr>\n",
       "      <th>27</th>\n",
       "      <td>28</td>\n",
       "      <td>68234</td>\n",
       "    </tr>\n",
       "    <tr>\n",
       "      <th>28</th>\n",
       "      <td>29</td>\n",
       "      <td>69389</td>\n",
       "    </tr>\n",
       "    <tr>\n",
       "      <th>29</th>\n",
       "      <td>30</td>\n",
       "      <td>71543</td>\n",
       "    </tr>\n",
       "    <tr>\n",
       "      <th>30</th>\n",
       "      <td>31</td>\n",
       "      <td>67536</td>\n",
       "    </tr>\n",
       "    <tr>\n",
       "      <th>31</th>\n",
       "      <td>32</td>\n",
       "      <td>69703</td>\n",
       "    </tr>\n",
       "    <tr>\n",
       "      <th>32</th>\n",
       "      <td>33</td>\n",
       "      <td>68776</td>\n",
       "    </tr>\n",
       "    <tr>\n",
       "      <th>33</th>\n",
       "      <td>34</td>\n",
       "      <td>61936</td>\n",
       "    </tr>\n",
       "    <tr>\n",
>>>>>>> c56ceaba03c0fe26f665322f583f77c9e356d270
       "      <th>34</th>\n",
       "      <td>35</td>\n",
       "      <td>66738</td>\n",
       "    </tr>\n",
       "    <tr>\n",
       "      <th>35</th>\n",
       "      <td>36</td>\n",
       "      <td>65919</td>\n",
       "    </tr>\n",
       "  </tbody>\n",
       "</table>\n",
       "</div>"
      ],
      "text/plain": [
       "    Time_ID  Count\n",
       "0         1  58139\n",
       "1         2  64679\n",
       "2         3  67773\n",
       "3         4  56473\n",
       "4         5  58614\n",
       "5         6  65877\n",
       "6         7  66045\n",
       "7         8  62817\n",
       "8         9  73572\n",
       "9        10  58845\n",
       "10       11  62269\n",
       "11       12  67977\n",
       "12       13  66427\n",
       "13       14  66002\n",
       "14       15  70383\n",
       "15       16  65423\n",
       "16       17  65393\n",
       "17       18  69736\n",
       "18       19  68641\n",
       "19       20  69301\n",
       "20       21  69256\n",
       "21       22  65724\n",
       "22       23  64528\n",
       "23       24  63895\n",
       "24       25  63812\n",
       "25       26  64272\n",
       "26       27  63326\n",
       "27       28  68234\n",
       "28       29  69389\n",
       "29       30  71543\n",
       "30       31  67536\n",
       "31       32  69703\n",
       "32       33  68776\n",
       "33       34  61936\n",
       "34       35  66738\n",
       "35       36  65919"
      ]
     },
     "execution_count": 65,
     "metadata": {},
     "output_type": "execute_result"
    }
   ],
   "source": [
    "# create variable which contain the address group\n",
    "grp_time = ['Month','Year']\n",
    "\n",
    "# create new column inside street dataframe for storing location id\n",
    "street_df['Time_ID'] = street_df.groupby(grp_time).ngroup() + 1\n",
    "\n",
    "# show Address ID in as sorted fashion\n",
    "street_df.groupby(['Time_ID']).size().reset_index(name='Count').sort_values(by='Time_ID', ascending=True)"
   ]
  },
  {
   "cell_type": "markdown",
   "metadata": {},
   "source": [
    "## Generate outcome type id"
   ]
  },
  {
   "cell_type": "code",
   "execution_count": 66,
   "metadata": {},
   "outputs": [
    {
     "data": {
      "text/plain": [
       "0     1391314\n",
       "7      712697\n",
       "21      88453\n",
       "8       49570\n",
       "11      30477\n",
       "12      18458\n",
       "16      13294\n",
       "3       13123\n",
       "20      13046\n",
       "14      10626\n",
       "10       7752\n",
       "2        5928\n",
       "17       5557\n",
       "15       3532\n",
       "23       1687\n",
       "19       1151\n",
       "9         723\n",
       "18        716\n",
       "5         230\n",
       "22        168\n",
       "6         167\n",
       "13        121\n",
       "4         118\n",
       "1          65\n",
       "Name: Outcome_type_ID, dtype: int64"
      ]
     },
     "execution_count": 66,
     "metadata": {},
     "output_type": "execute_result"
    }
   ],
   "source": [
    "# create new column inside street dataframe for storing police force id\n",
    "street_df['Outcome_type_ID'] = street_df.groupby(['Latest_Outcome_type']).ngroup() + 1\n",
    "\n",
    "# show Address ID in as sorted fashion\n",
    "street_df.Outcome_type_ID.value_counts()"
   ]
  },
  {
   "cell_type": "markdown",
   "metadata": {},
   "source": [
    "## Check dataset with new column ids"
   ]
<<<<<<< HEAD
  },
  {
   "cell_type": "code",
   "execution_count": 39,
   "metadata": {},
   "outputs": [
    {
     "data": {
      "text/plain": [
       "(2368973, 12)"
      ]
     },
     "execution_count": 39,
     "metadata": {},
     "output_type": "execute_result"
    }
   ],
   "source": [
    "street_df.shape"
   ]
=======
>>>>>>> c56ceaba03c0fe26f665322f583f77c9e356d270
  },
  {
   "cell_type": "code",
   "execution_count": 68,
   "metadata": {},
   "outputs": [
    {
     "data": {
      "text/plain": [
       "(2368973, 18)"
      ]
     },
     "execution_count": 67,
     "metadata": {},
     "output_type": "execute_result"
    }
   ],
   "source": [
    "street_df.shape"
   ]
  },
  {
   "cell_type": "code",
   "execution_count": 68,
   "metadata": {},
   "outputs": [
    {
     "data": {
      "text/html": [
       "<div>\n",
       "<style scoped>\n",
       "    .dataframe tbody tr th:only-of-type {\n",
       "        vertical-align: middle;\n",
       "    }\n",
       "\n",
       "    .dataframe tbody tr th {\n",
       "        vertical-align: top;\n",
       "    }\n",
       "\n",
       "    .dataframe thead th {\n",
       "        text-align: right;\n",
       "    }\n",
       "</style>\n",
       "<table border=\"1\" class=\"dataframe\">\n",
       "  <thead>\n",
       "    <tr style=\"text-align: right;\">\n",
       "      <th></th>\n",
       "      <th>Crime_ID</th>\n",
       "      <th>Month</th>\n",
       "      <th>Falls_within</th>\n",
       "      <th>Longitude</th>\n",
       "      <th>Latitude</th>\n",
       "      <th>Location</th>\n",
       "      <th>LSOA_code</th>\n",
       "      <th>LSOA_name</th>\n",
       "      <th>Crime_type</th>\n",
       "      <th>Borough_name</th>\n",
       "      <th>Latest_Outcome_type</th>\n",
       "      <th>Year</th>\n",
       "      <th>Location_ID</th>\n",
       "      <th>Address_ID</th>\n",
       "      <th>Crime_type_ID</th>\n",
       "      <th>Police_force_ID</th>\n",
       "      <th>Time_ID</th>\n",
       "      <th>Outcome_type_ID</th>\n",
       "    </tr>\n",
       "  </thead>\n",
       "  <tbody>\n",
       "    <tr>\n",
       "      <th>0</th>\n",
       "      <td>aad8f637ccaf198afcc0b0a708da31aa9d58142d746dd5...</td>\n",
       "      <td>04</td>\n",
       "      <td>City of London Police</td>\n",
       "      <td>-0.111497</td>\n",
       "      <td>51.518226</td>\n",
       "      <td>On or near Pedestrian Subway</td>\n",
       "      <td>E01000914</td>\n",
       "      <td>Camden 028B</td>\n",
       "      <td>Criminal damage and arson</td>\n",
       "      <td>Camden</td>\n",
       "      <td>Suspect charged</td>\n",
       "      <td>2017</td>\n",
       "      <td>30784</td>\n",
       "      <td>897</td>\n",
       "      <td>3</td>\n",
       "      <td>1</td>\n",
       "      <td>10</td>\n",
       "      <td>21</td>\n",
       "    </tr>\n",
       "    <tr>\n",
       "      <th>1</th>\n",
       "      <td>79a0f62e5ba67a94251a5488e1c5708c079469a25628ee...</td>\n",
       "      <td>04</td>\n",
       "      <td>City of London Police</td>\n",
       "      <td>-0.111497</td>\n",
       "      <td>51.518226</td>\n",
       "      <td>On or near Pedestrian Subway</td>\n",
       "      <td>E01000914</td>\n",
       "      <td>Camden 028B</td>\n",
       "      <td>Other theft</td>\n",
       "      <td>Camden</td>\n",
       "      <td>Investigation complete; no suspect identified</td>\n",
       "      <td>2017</td>\n",
       "      <td>30784</td>\n",
       "      <td>897</td>\n",
       "      <td>6</td>\n",
       "      <td>1</td>\n",
       "      <td>10</td>\n",
       "      <td>7</td>\n",
       "    </tr>\n",
       "  </tbody>\n",
       "</table>\n",
       "</div>"
      ],
      "text/plain": [
       "                                            Crime_ID Month  \\\n",
       "0  aad8f637ccaf198afcc0b0a708da31aa9d58142d746dd5...    04   \n",
       "1  79a0f62e5ba67a94251a5488e1c5708c079469a25628ee...    04   \n",
       "\n",
       "            Falls_within  Longitude   Latitude                      Location  \\\n",
       "0  City of London Police  -0.111497  51.518226  On or near Pedestrian Subway   \n",
       "1  City of London Police  -0.111497  51.518226  On or near Pedestrian Subway   \n",
       "\n",
       "   LSOA_code    LSOA_name                 Crime_type Borough_name  \\\n",
       "0  E01000914  Camden 028B  Criminal damage and arson       Camden   \n",
       "1  E01000914  Camden 028B                Other theft       Camden   \n",
       "\n",
       "                             Latest_Outcome_type  Year  Location_ID  \\\n",
       "0                                Suspect charged  2017        30784   \n",
       "1  Investigation complete; no suspect identified  2017        30784   \n",
       "\n",
       "   Address_ID  Crime_type_ID  Police_force_ID  Time_ID  Outcome_type_ID  \n",
       "0         897              3                1       10               21  \n",
       "1         897              6                1       10                7  "
      ]
     },
     "execution_count": 68,
     "metadata": {},
     "output_type": "execute_result"
    }
   ],
   "source": [
    "street_df.head(2)"
   ]
  },
  {
   "cell_type": "markdown",
   "metadata": {},
   "source": [
    "# As a final step export the staging date to CSV file"
   ]
  },
  {
   "cell_type": "code",
<<<<<<< HEAD
   "execution_count": 40,
   "metadata": {},
   "outputs": [],
   "source": [
    "# street_df.to_csv(output_path+\"london_crime_staging.csv\", sep=',', encoding='utf-8', index=None, header = True)\n",
    "street_df.to_csv(output_path+\"crime_in_london_staging.csv\", sep=',', encoding='utf-8', index=None, header = True)"
=======
   "execution_count": 69,
   "metadata": {},
   "outputs": [],
   "source": [
    "street_df.to_csv(output_path+\"london_crime_staging.csv\", sep=',', encoding='utf-8', index=None, header = True)"
>>>>>>> c56ceaba03c0fe26f665322f583f77c9e356d270
   ]
  }
 ],
 "metadata": {
  "kernelspec": {
   "display_name": "Python 3",
   "language": "python",
   "name": "python3"
  },
  "language_info": {
   "codemirror_mode": {
    "name": "ipython",
    "version": 3
   },
   "file_extension": ".py",
   "mimetype": "text/x-python",
   "name": "python",
   "nbconvert_exporter": "python",
   "pygments_lexer": "ipython3",
   "version": "3.7.4"
  }
 },
 "nbformat": 4,
 "nbformat_minor": 2
}
