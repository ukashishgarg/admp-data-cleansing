{
 "cells": [
  {
   "cell_type": "markdown",
   "metadata": {},
   "source": [
    "# Pre-Process London Crime datasets (Street, Outcome and London-Boroughs)\n",
    "Street dataset pre-process before sending to Datawarehouse\n",
    "1. London Crime Street Dataset\n",
    "2. London Crime Outcome Dataset\n",
    "***"
   ]
  },
  {
   "cell_type": "markdown",
   "metadata": {},
   "source": [
    "## Common activities\n",
    "### Import libraries "
   ]
  },
  {
   "cell_type": "code",
   "execution_count": 4,
   "metadata": {},
   "outputs": [],
   "source": [
    "# import all the libraries that require for project\n",
    "import pandas as pd\n",
    "import numpy as np\n",
    "import os\n",
    "import random"
   ]
  },
  {
   "cell_type": "markdown",
   "metadata": {},
   "source": [
    "### Declare globals"
   ]
  },
  {
   "cell_type": "code",
   "execution_count": 9,
   "metadata": {},
   "outputs": [],
   "source": [
    "# define paths\n",
    "INPUT_PATH = \"C://SHU/ADMP/Assessment_02/londoncrimedw_project/output_csv/\"\n",
    "OUTPUT_PATH = \"C://SHU/ADMP/Assessment_02/londoncrimedw_project/output_csv/\"\n",
    "\n",
    "# create variables to store the datasets name you want to use\n",
    "INPUT_FILENAME = \"street-staging-data.csv\"\n",
    "OUTCOME_FILENAME = \"sample-street-staging-data.csv\""
   ]
  },
  {
   "cell_type": "markdown",
   "metadata": {},
   "source": [
    "### Declare and define functions "
   ]
  },
  {
   "cell_type": "code",
   "execution_count": 7,
   "metadata": {},
   "outputs": [],
   "source": [
    "class FILESIZE:\n",
    "    SMALL = 1\n",
    "    LARGE = 2\n",
    "    \n",
    "def read_csv_file(fileType, fileName):\n",
    "    if (fileType == FILESIZE.SMALL):\n",
    "        df_ret = pd.read_csv(fileName)\n",
    "    else:\n",
    "        # read the large csv file with specified chunksize of 10 million records\n",
    "        df_chunk = pd.read_csv(fileName, chunksize=1000000)\n",
    "\n",
    "        # append each chunk df here\n",
    "        chunk_list = []   \n",
    "\n",
    "        # each chunk is in df format\n",
    "        for chunk in df_chunk:    \n",
    "            # once the data filtering is done, append the chunk to list\n",
    "            chunk_list.append(chunk)\n",
    "\n",
    "        # concat the list into dataframe \n",
    "        df_ret = pd.concat(chunk_list)\n",
    "        \n",
    "    return df_ret"
   ]
  },
  {
   "cell_type": "code",
   "execution_count": 11,
   "metadata": {},
   "outputs": [],
   "source": [
    "# set a working directory to the location where input dataset csv file exist\n",
    "os.chdir(INPUT_PATH)\n",
    "\n",
    "# load dataframe with street data from CSV file \n",
    "input_df = read_csv_file(FILESIZE.LARGE, INPUT_FILENAME)"
   ]
  },
  {
   "cell_type": "code",
   "execution_count": 15,
   "metadata": {},
   "outputs": [
    {
     "data": {
      "text/plain": [
       "int"
      ]
     },
     "execution_count": 15,
     "metadata": {},
     "output_type": "execute_result"
    }
   ],
   "source": [
    "input_df.shape[0]"
   ]
  },
  {
   "cell_type": "code",
   "execution_count": 20,
   "metadata": {},
   "outputs": [
    {
     "data": {
      "text/plain": [
       "(10000, 12)"
      ]
     },
     "execution_count": 20,
     "metadata": {},
     "output_type": "execute_result"
    }
   ],
   "source": [
    "tot_records_cnt = input_df.shape[0] #number of records in file\n",
    "sample_records_cnt = 10000 #desired sample size\n",
    "# skip = sorted(random.sample(range(tot_records_cnt),tot_records_cnt-sample_records_cnt))\n",
    "skip = sorted(random.sample(range(1,tot_records_cnt+1),tot_records_cnt-sample_records_cnt)) #the 0-indexed header will not be included in the skip list\n",
    "output_df = pd.read_csv(INPUT_FILENAME, skiprows=skip)\n",
    "output_df.shape"
   ]
  },
  {
   "cell_type": "code",
   "execution_count": 21,
   "metadata": {},
   "outputs": [
    {
     "data": {
      "text/html": [
       "<div>\n",
       "<style scoped>\n",
       "    .dataframe tbody tr th:only-of-type {\n",
       "        vertical-align: middle;\n",
       "    }\n",
       "\n",
       "    .dataframe tbody tr th {\n",
       "        vertical-align: top;\n",
       "    }\n",
       "\n",
       "    .dataframe thead th {\n",
       "        text-align: right;\n",
       "    }\n",
       "</style>\n",
       "<table border=\"1\" class=\"dataframe\">\n",
       "  <thead>\n",
       "    <tr style=\"text-align: right;\">\n",
       "      <th></th>\n",
       "      <th>Crime_hashcode</th>\n",
       "      <th>Month</th>\n",
       "      <th>Falls_within</th>\n",
       "      <th>Longitude</th>\n",
       "      <th>Latitude</th>\n",
       "      <th>Location</th>\n",
       "      <th>LSOA_code</th>\n",
       "      <th>LSOA_name</th>\n",
       "      <th>Crime_type</th>\n",
       "      <th>Borough_name</th>\n",
       "      <th>Year</th>\n",
       "      <th>Latest_Outcome_type</th>\n",
       "    </tr>\n",
       "  </thead>\n",
       "  <tbody>\n",
       "    <tr>\n",
       "      <th>0</th>\n",
       "      <td>e2519195e78e7607048db3e8da2a5c8aed1e4806048ae0...</td>\n",
       "      <td>1</td>\n",
       "      <td>Metropolitan Police Service</td>\n",
       "      <td>-0.150701</td>\n",
       "      <td>51.562374</td>\n",
       "      <td>On or near St Anne'S Close</td>\n",
       "      <td>E01000909</td>\n",
       "      <td>Camden 001C</td>\n",
       "      <td>Vehicle crime</td>\n",
       "      <td>Camden</td>\n",
       "      <td>2017</td>\n",
       "      <td>Status update unavailable</td>\n",
       "    </tr>\n",
       "    <tr>\n",
       "      <th>1</th>\n",
       "      <td>c387a4c8f9e08d174df509faf77f0998d397830838f09a...</td>\n",
       "      <td>1</td>\n",
       "      <td>Metropolitan Police Service</td>\n",
       "      <td>-0.209450</td>\n",
       "      <td>51.552809</td>\n",
       "      <td>On or near Manstone Road</td>\n",
       "      <td>E01000872</td>\n",
       "      <td>Camden 005B</td>\n",
       "      <td>Burglary</td>\n",
       "      <td>Camden</td>\n",
       "      <td>2017</td>\n",
       "      <td>Status update unavailable</td>\n",
       "    </tr>\n",
       "    <tr>\n",
       "      <th>2</th>\n",
       "      <td>a106eabb3c283a09e764e9dda6b1d0d997b52a8d42c0d0...</td>\n",
       "      <td>1</td>\n",
       "      <td>Metropolitan Police Service</td>\n",
       "      <td>-0.155865</td>\n",
       "      <td>51.547411</td>\n",
       "      <td>On or near Maitland Park Road</td>\n",
       "      <td>E01000902</td>\n",
       "      <td>Camden 012B</td>\n",
       "      <td>Violence and sexual offences</td>\n",
       "      <td>Camden</td>\n",
       "      <td>2017</td>\n",
       "      <td>Status update unavailable</td>\n",
       "    </tr>\n",
       "    <tr>\n",
       "      <th>3</th>\n",
       "      <td>8563fb39cffca643af82fe2a1dca753ba8d2c218fd379b...</td>\n",
       "      <td>1</td>\n",
       "      <td>Metropolitan Police Service</td>\n",
       "      <td>-0.173190</td>\n",
       "      <td>51.539409</td>\n",
       "      <td>On or near Queensmead</td>\n",
       "      <td>E01000963</td>\n",
       "      <td>Camden 017C</td>\n",
       "      <td>Vehicle crime</td>\n",
       "      <td>Camden</td>\n",
       "      <td>2017</td>\n",
       "      <td>Investigation complete; no suspect identified</td>\n",
       "    </tr>\n",
       "    <tr>\n",
       "      <th>4</th>\n",
       "      <td>16aa0e8119a16b1714d1d4bfe98c8e8c754ab56ae44681...</td>\n",
       "      <td>1</td>\n",
       "      <td>Metropolitan Police Service</td>\n",
       "      <td>-0.144583</td>\n",
       "      <td>51.539337</td>\n",
       "      <td>On or near Inverness Street</td>\n",
       "      <td>E01000863</td>\n",
       "      <td>Camden 021A</td>\n",
       "      <td>Possession of weapons</td>\n",
       "      <td>Camden</td>\n",
       "      <td>2017</td>\n",
       "      <td>Investigation complete; no suspect identified</td>\n",
       "    </tr>\n",
       "  </tbody>\n",
       "</table>\n",
       "</div>"
      ],
      "text/plain": [
       "                                      Crime_hashcode  Month  \\\n",
       "0  e2519195e78e7607048db3e8da2a5c8aed1e4806048ae0...      1   \n",
       "1  c387a4c8f9e08d174df509faf77f0998d397830838f09a...      1   \n",
       "2  a106eabb3c283a09e764e9dda6b1d0d997b52a8d42c0d0...      1   \n",
       "3  8563fb39cffca643af82fe2a1dca753ba8d2c218fd379b...      1   \n",
       "4  16aa0e8119a16b1714d1d4bfe98c8e8c754ab56ae44681...      1   \n",
       "\n",
       "                  Falls_within  Longitude   Latitude  \\\n",
       "0  Metropolitan Police Service  -0.150701  51.562374   \n",
       "1  Metropolitan Police Service  -0.209450  51.552809   \n",
       "2  Metropolitan Police Service  -0.155865  51.547411   \n",
       "3  Metropolitan Police Service  -0.173190  51.539409   \n",
       "4  Metropolitan Police Service  -0.144583  51.539337   \n",
       "\n",
       "                        Location  LSOA_code    LSOA_name  \\\n",
       "0     On or near St Anne'S Close  E01000909  Camden 001C   \n",
       "1       On or near Manstone Road  E01000872  Camden 005B   \n",
       "2  On or near Maitland Park Road  E01000902  Camden 012B   \n",
       "3          On or near Queensmead  E01000963  Camden 017C   \n",
       "4    On or near Inverness Street  E01000863  Camden 021A   \n",
       "\n",
       "                     Crime_type Borough_name  Year  \\\n",
       "0                 Vehicle crime       Camden  2017   \n",
       "1                      Burglary       Camden  2017   \n",
       "2  Violence and sexual offences       Camden  2017   \n",
       "3                 Vehicle crime       Camden  2017   \n",
       "4         Possession of weapons       Camden  2017   \n",
       "\n",
       "                             Latest_Outcome_type  \n",
       "0                      Status update unavailable  \n",
       "1                      Status update unavailable  \n",
       "2                      Status update unavailable  \n",
       "3  Investigation complete; no suspect identified  \n",
       "4  Investigation complete; no suspect identified  "
      ]
     },
     "execution_count": 21,
     "metadata": {},
     "output_type": "execute_result"
    }
   ],
   "source": [
    "output_df.head()"
   ]
  },
  {
   "cell_type": "markdown",
   "metadata": {},
   "source": [
    "## Save processed dataframe to csv file in the output path location"
   ]
  },
  {
   "cell_type": "code",
   "execution_count": 24,
   "metadata": {},
   "outputs": [
    {
     "name": "stdout",
     "output_type": "stream",
     "text": [
      "File sample-street-staging-data.csv created!\n",
      "File Location: C://SHU/ADMP/Assessment_02/londoncrimedw_project/output_csv/\n"
     ]
    }
   ],
   "source": [
    "output_df.to_csv(OUTPUT_PATH+OUTCOME_FILENAME, sep=',', encoding='utf-8', index=None, header = True)\n",
    "print(\"File \"+OUTCOME_FILENAME+\" created!\")\n",
    "print(\"File Location: \"+OUTPUT_PATH)"
   ]
  },
  {
   "cell_type": "code",
   "execution_count": 25,
   "metadata": {},
   "outputs": [],
   "source": [
    "# Clean Memory\n",
    "output_df = 0\n",
    "input_df = 0"
   ]
  }
 ],
 "metadata": {
  "kernelspec": {
   "display_name": "Python 3",
   "language": "python",
   "name": "python3"
  },
  "language_info": {
   "codemirror_mode": {
    "name": "ipython",
    "version": 3
   },
   "file_extension": ".py",
   "mimetype": "text/x-python",
   "name": "python",
   "nbconvert_exporter": "python",
   "pygments_lexer": "ipython3",
   "version": "3.7.4"
  }
 },
 "nbformat": 4,
 "nbformat_minor": 2
}
