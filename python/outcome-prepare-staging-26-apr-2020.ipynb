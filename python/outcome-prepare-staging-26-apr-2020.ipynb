{
 "cells": [
  {
   "cell_type": "markdown",
   "metadata": {},
   "source": [
    "# Outcome dataset pre-process before sending to Datawarehouse\n",
    "***"
   ]
  },
  {
   "cell_type": "markdown",
   "metadata": {},
   "source": [
    "## Import files "
   ]
  },
  {
   "cell_type": "code",
   "execution_count": 3,
   "metadata": {},
   "outputs": [],
   "source": [
    "# import all the libraries that require for project\n",
    "import pandas as pd\n",
    "import numpy as np\n",
    "import matplotlib\n",
    "import matplotlib.pyplot as plt\n",
    "import os"
   ]
  },
  {
   "cell_type": "markdown",
   "metadata": {},
   "source": [
    "## Globals"
   ]
  },
  {
   "cell_type": "code",
   "execution_count": 4,
   "metadata": {},
   "outputs": [],
   "source": [
    "# define paths\n",
    "INPUT_PATH = \"C://SHU/ADMP/Assessment_02/github-repos/admp-csvs/prod/\"\n",
    "OUTPUT_PATH = \"C://SHU/ADMP/Assessment_02/github-repos/admp-csvs/stage/\"\n",
    "STAGING_PATH = \"C://SHU/ADMP/Assessment_02/github-repos/admp-csvs/stage/\"\n",
    "\n",
    "# create variables to store the datasets name you want to use\n",
    "STREET_FILENAME = \"street-london.csv\"\n",
    "OUTCOME_FILENAME = \"outcome-london.csv\"\n",
    "BOROUGH_FILENAME = \"boroughs-london.csv\""
   ]
  },
  {
   "cell_type": "markdown",
   "metadata": {},
   "source": [
    "## Functions"
   ]
  },
  {
   "cell_type": "code",
   "execution_count": 5,
   "metadata": {},
   "outputs": [],
   "source": [
    "class FILESIZE:\n",
    "    SMALL = 1\n",
    "    LARGE = 2\n",
    "    \n",
    "def read_csv_file(fileType, fileName):\n",
    "    if (fileType == FILESIZE.SMALL):\n",
    "        df_ret = pd.read_csv(fileName)\n",
    "    else:\n",
    "        # read the large csv file with specified chunksize of 10 million records\n",
    "        df_chunk = pd.read_csv(fileName, chunksize=1000000)\n",
    "\n",
    "        # append each chunk df here\n",
    "        chunk_list = []   \n",
    "\n",
    "        # each chunk is in df format\n",
    "        for chunk in df_chunk:    \n",
    "            # once the data filtering is done, append the chunk to list\n",
    "            chunk_list.append(chunk)\n",
    "\n",
    "        # concat the list into dataframe \n",
    "        df_ret = pd.concat(chunk_list)\n",
    "        \n",
    "    return df_ret\n",
    "\n",
    "def get_record_count():\n",
    "    return outcome_df.shape[0]\n",
    "\n",
    "def get_boroughs_count():\n",
    "    # get different boroughs crime that appears here\n",
    "    boroughs_df = pd.DataFrame()\n",
    "    boroughs_df['Borough_name'] = outcome_df.LSOA_name[(outcome_df.LSOA_name.isnull()==False)].str[:-5]\n",
    "    return len(boroughs_df.Borough_name.unique())\n",
    "\n",
    "def test_duplicate():\n",
    "    # check what is the differences appearing inside the duplicate record by passsing one Crime ID\n",
    "    test1_crimeid = '3b60aed0ce6c29f63a00e44822492dcdc419b68a0974e53e6884359dc2aec1aa'\n",
    "    test2_crimeid = '77e565ce040eda43d5a41bd767c296ffb3c6169ce7047e346095db3226140f69'\n",
    "    test3_crimeid = '4cd2361bb632061bab05c894a7885a4d03aa3bc01b010f4c63f9f033d606b489'\n",
    "    test4_crimeid = '8db7fd29320d6346c0646fb59347681c371c01f52d5b1f693bfa4bd3429e6321'\n",
    "    test5_crimeid = 'e9c2cd701fcdc9fa72c8c7fb2ba63566d9b212ce89a78e5df79f8f354c85a294'\n",
    "\n",
    "    # outcome_df[outcome_df.Crime_ID.str.contains('3b60aed0ce6c29f63a00e44822492dcdc419b68a0974e5', na=True)]\n",
    "    rec1_dup_cnt = outcome_df[outcome_df.Crime_ID == test1_crimeid].shape[0]\n",
    "    rec2_dup_cnt = outcome_df[outcome_df.Crime_ID == test2_crimeid].shape[0]\n",
    "    rec3_dup_cnt = outcome_df[outcome_df.Crime_ID == test3_crimeid].shape[0]\n",
    "    rec4_dup_cnt = outcome_df[outcome_df.Crime_ID == test4_crimeid].shape[0]\n",
    "    rec5_dup_cnt = outcome_df[outcome_df.Crime_ID == test5_crimeid].shape[0]\n",
    "\n",
    "    # return counts\n",
    "    print('First crime id duplicate record count: ', rec1_dup_cnt)\n",
    "    print('Second crime id duplicate record count: ', rec2_dup_cnt)\n",
    "    print('Third crime id duplicate record count: ', rec3_dup_cnt)\n",
    "    print('Fourth crime id duplicate record count: ', rec4_dup_cnt)\n",
    "    print('Fifth crime id duplicate record count: ', rec5_dup_cnt)"
   ]
  },
  {
   "cell_type": "markdown",
   "metadata": {},
   "source": [
    "## Read CSV file"
   ]
  },
  {
   "cell_type": "code",
   "execution_count": 6,
   "metadata": {},
   "outputs": [],
   "source": [
    "# set a working directory to the location where input dataset csv file exist\n",
    "os.chdir(INPUT_PATH)\n",
    "\n",
    "# load dataframe with outcome data from CSV file \n",
    "outcome_df = read_csv_file(FILESIZE.LARGE, OUTCOME_FILENAME)\n",
    "\n",
    "# store london borough data into dataframe\n",
    "london_borough_df = read_csv_file(FILESIZE.SMALL, BOROUGH_FILENAME)"
   ]
  },
  {
   "cell_type": "code",
   "execution_count": 9,
   "metadata": {},
   "outputs": [
    {
     "data": {
      "text/plain": [
       "Crime_ID            0\n",
       "Month               0\n",
       "Reported_by         0\n",
       "Falls_within        0\n",
       "Longitude       22063\n",
       "Latitude        22063\n",
       "Location            0\n",
       "LSOA_code       22063\n",
       "LSOA_name       22063\n",
       "Outcome_type        0\n",
       "dtype: int64"
      ]
     },
     "execution_count": 9,
     "metadata": {},
     "output_type": "execute_result"
    }
   ],
   "source": [
    "outcome_df.isna().sum()"
   ]
  },
  {
   "cell_type": "code",
   "execution_count": 8,
   "metadata": {},
   "outputs": [
    {
     "name": "stdout",
     "output_type": "stream",
     "text": [
      "<class 'pandas.core.frame.DataFrame'>\n",
      "RangeIndex: 1236024 entries, 0 to 1236023\n",
      "Data columns (total 10 columns):\n",
      " #   Column        Non-Null Count    Dtype  \n",
      "---  ------        --------------    -----  \n",
      " 0   Crime_ID      1236024 non-null  object \n",
      " 1   Month         1236024 non-null  object \n",
      " 2   Reported_by   1236024 non-null  object \n",
      " 3   Falls_within  1236024 non-null  object \n",
      " 4   Longitude     1213961 non-null  float64\n",
      " 5   Latitude      1213961 non-null  float64\n",
      " 6   Location      1236024 non-null  object \n",
      " 7   LSOA_code     1213961 non-null  object \n",
      " 8   LSOA_name     1213961 non-null  object \n",
      " 9   Outcome_type  1236024 non-null  object \n",
      "dtypes: float64(2), object(8)\n",
      "memory usage: 94.3+ MB\n",
      "<class 'pandas.core.frame.DataFrame'>\n",
      "RangeIndex: 33 entries, 0 to 32\n",
      "Data columns (total 2 columns):\n",
      " #   Column  Non-Null Count  Dtype \n",
      "---  ------  --------------  ----- \n",
      " 0   Id      33 non-null     int64 \n",
      " 1   Name    33 non-null     object\n",
      "dtypes: int64(1), object(1)\n",
      "memory usage: 656.0+ bytes\n"
     ]
    }
   ],
   "source": [
    "outcome_df.info()\n",
    "london_borough_df.info()"
   ]
  },
  {
   "cell_type": "markdown",
   "metadata": {},
   "source": [
    "## EDA"
   ]
  },
  {
   "cell_type": "code",
   "execution_count": 5,
   "metadata": {},
   "outputs": [
    {
     "name": "stdout",
     "output_type": "stream",
     "text": [
      "Outcome size: (1236024, 10)\n"
     ]
    }
   ],
   "source": [
    "# Explore the size of the dataset (Number of rows and columns)\n",
    "outcome_size = outcome_df.shape\n",
    "print(\"Outcome size: \"+str(outcome_size))"
   ]
  },
  {
   "cell_type": "code",
   "execution_count": 16,
   "metadata": {},
   "outputs": [
    {
     "name": "stdout",
     "output_type": "stream",
     "text": [
      "Dataset information: \n",
      "<class 'pandas.core.frame.DataFrame'>\n",
      "RangeIndex: 1236024 entries, 0 to 1236023\n",
      "Data columns (total 10 columns):\n",
      " #   Column        Non-Null Count    Dtype  \n",
      "---  ------        --------------    -----  \n",
      " 0   Crime_ID      1236024 non-null  object \n",
      " 1   Month         1236024 non-null  object \n",
      " 2   Reported_by   1236024 non-null  object \n",
      " 3   Falls_within  1236024 non-null  object \n",
      " 4   Longitude     1213961 non-null  float64\n",
      " 5   Latitude      1213961 non-null  float64\n",
      " 6   Location      1236024 non-null  object \n",
      " 7   LSOA_code     1213961 non-null  object \n",
      " 8   LSOA_name     1213961 non-null  object \n",
      " 9   Outcome_type  1236024 non-null  object \n",
      "dtypes: float64(2), object(8)\n",
      "memory usage: 94.3+ MB\n"
     ]
    }
   ],
   "source": [
    "# Explore the structure of the dataset (Columns and their data types)\n",
    "print(\"Dataset information: \")\n",
    "outcome_structure = outcome_df.info()"
   ]
  },
  {
   "cell_type": "markdown",
   "metadata": {},
   "source": [
    "## Rename Month to Outcome_month"
   ]
  },
  {
   "cell_type": "code",
   "execution_count": 44,
   "metadata": {},
   "outputs": [
    {
     "name": "stdout",
     "output_type": "stream",
     "text": [
      "<class 'pandas.core.frame.DataFrame'>\n",
      "RangeIndex: 1236024 entries, 0 to 1236023\n",
      "Data columns (total 10 columns):\n",
      " #   Column         Non-Null Count    Dtype  \n",
      "---  ------         --------------    -----  \n",
      " 0   Crime_ID       1236024 non-null  object \n",
      " 1   Outcome_month  1236024 non-null  object \n",
      " 2   Reported_by    1236024 non-null  object \n",
      " 3   Falls_within   1236024 non-null  object \n",
      " 4   Longitude      1213961 non-null  float64\n",
      " 5   Latitude       1213961 non-null  float64\n",
      " 6   Location       1236024 non-null  object \n",
      " 7   LSOA_code      1213961 non-null  object \n",
      " 8   LSOA_name      1213961 non-null  object \n",
      " 9   Outcome_type   1236024 non-null  object \n",
      "dtypes: float64(2), object(8)\n",
      "memory usage: 94.3+ MB\n"
     ]
    }
   ],
   "source": [
    "# Rename the month to Outcome_month\n",
    "outcome_df.rename(columns = {'Month':'Outcome_month'}, inplace = True)\n",
    "outcome_structure = outcome_df.info()"
   ]
  },
  {
   "cell_type": "code",
   "execution_count": 21,
   "metadata": {},
   "outputs": [],
   "source": [
    "# Summarize the dataset to understand statistics and data types\n",
    "outcome_summary = outcome_df.describe()\n",
    "outcome_summary"
   ]
  },
  {
   "cell_type": "code",
   "execution_count": 23,
   "metadata": {},
   "outputs": [],
   "source": [
    "# View top records \n",
    "outcome_view_top_records = outcome_df.head()\n",
    "outcome_view_top_records"
   ]
  },
  {
   "cell_type": "code",
   "execution_count": 30,
   "metadata": {},
   "outputs": [
    {
     "data": {
      "text/plain": [
       "<matplotlib.axes._subplots.AxesSubplot at 0x2190b129688>"
      ]
     },
     "execution_count": 30,
     "metadata": {},
     "output_type": "execute_result"
    },
    {
     "data": {
      "image/png": "[encoded data removed]",
      "text/plain": [
       "<Figure size 864x720 with 1 Axes>"
      ]
     },
     "metadata": {},
     "output_type": "display_data"
    }
   ],
   "source": [
    "outcome_type = outcome_df.Outcome_type.value_counts(dropna=False)\n",
    "# outcome_type.plot.pie(y='outcome_data', figsize=(5, 25))\n",
    "# outcome_type.plot.bar(x='lab', y='val', rot=0, figsize=(5, 5))\n",
    "# pd.DataFrame(outcome_type)\n",
    "outcome_type.plot(kind='pie', figsize=(12, 10), title='outcome type')"
   ]
  },
  {
   "cell_type": "code",
   "execution_count": null,
   "metadata": {},
   "outputs": [],
   "source": []
  },
  {
   "cell_type": "code",
   "execution_count": 29,
   "metadata": {},
   "outputs": [
    {
     "data": {
      "text/plain": [
       "<matplotlib.axes._subplots.AxesSubplot at 0x2190afdab48>"
      ]
     },
     "execution_count": 29,
     "metadata": {},
     "output_type": "execute_result"
    },
    {
     "data": {
      "image/png": "[encoded data removed]",
      "text/plain": [
       "<Figure size 864x720 with 1 Axes>"
      ]
     },
     "metadata": {
      "needs_background": "light"
     },
     "output_type": "display_data"
    }
   ],
   "source": [
    "# get bar chart for outcome type\n",
    "\n",
    "# outcome_type.plot(kind='bar', figsize=(12, 10), title=c).savefig('EU1.png', bbox_inches='tight')\n",
    "# outcome_type.plot.bar(x='lab', y='val', rot=0, figsize=(5, 5))\n",
    "outcome_type.plot(kind='bar', figsize=(12, 10), title='outcome type')"
   ]
  },
  {
   "cell_type": "code",
   "execution_count": null,
   "metadata": {},
   "outputs": [],
   "source": []
  },
  {
   "cell_type": "markdown",
   "metadata": {},
   "source": [
    "# Remove duplicate Crime IDs so that only the recent outcome update will be availble in the dataset"
   ]
  },
  {
   "cell_type": "markdown",
   "metadata": {},
   "source": [
    "## Before duplicate removal - Test how many are there"
   ]
  },
  {
   "cell_type": "code",
   "execution_count": 45,
   "metadata": {},
   "outputs": [
    {
     "name": "stdout",
     "output_type": "stream",
     "text": [
      "Total number of incidents confirmed as a crime (having duplicates): 1236024\n",
      "Total unique number of incidents confirmed as a crime: 996131\n",
      "Total number of duplicate incidents removed from the dataset: 239893\n"
     ]
    }
   ],
   "source": [
    "# Check total unique crimes available in the dataset \n",
    "total_records = len(outcome_df.Crime_ID)\n",
    "total_unique_records = len(outcome_df.Crime_ID.unique())\n",
    "print(\"Total number of incidents confirmed as a crime (having duplicates): \"+str(total_records))\n",
    "print(\"Total unique number of incidents confirmed as a crime: \"+str(total_unique_records))\n",
    "print(\"Total number of duplicate incidents removed from the dataset: \"+str(total_records-total_unique_records))"
   ]
  },
  {
   "cell_type": "markdown",
   "metadata": {},
   "source": [
    "## Test records of crimes before removing duplicates"
   ]
  },
  {
   "cell_type": "code",
   "execution_count": 53,
   "metadata": {},
   "outputs": [
    {
     "name": "stdout",
     "output_type": "stream",
     "text": [
      "First crime id duplicate record count:  28\n",
      "Second crime id duplicate record count:  17\n",
      "Third crime id duplicate record count:  17\n",
      "Fourth crime id duplicate record count:  16\n",
      "Fifth crime id duplicate record count:  16\n"
     ]
    }
   ],
   "source": [
    "test_duplicate()"
   ]
  },
  {
   "cell_type": "code",
   "execution_count": 99,
   "metadata": {},
   "outputs": [
    {
     "ename": "KeyError",
     "evalue": "\"['Outcome_type'] not in index\"",
     "output_type": "error",
     "traceback": [
      "\u001b[1;31m---------------------------------------------------------------------------\u001b[0m",
      "\u001b[1;31mKeyError\u001b[0m                                  Traceback (most recent call last)",
      "\u001b[1;32m<ipython-input-99-ec6b550df40c>\u001b[0m in \u001b[0;36m<module>\u001b[1;34m\u001b[0m\n\u001b[1;32m----> 1\u001b[1;33m \u001b[0mtest_dup\u001b[0m \u001b[1;33m=\u001b[0m \u001b[0moutcome_df\u001b[0m\u001b[1;33m[\u001b[0m\u001b[1;33m[\u001b[0m\u001b[1;34m'Crime_ID'\u001b[0m\u001b[1;33m,\u001b[0m\u001b[1;34m'Outcome_month'\u001b[0m\u001b[1;33m,\u001b[0m\u001b[1;34m'Outcome_type'\u001b[0m\u001b[1;33m]\u001b[0m\u001b[1;33m]\u001b[0m\u001b[1;33m[\u001b[0m\u001b[1;33m(\u001b[0m\u001b[0moutcome_df\u001b[0m\u001b[1;33m.\u001b[0m\u001b[0mCrime_ID\u001b[0m \u001b[1;33m==\u001b[0m \u001b[1;34m'3b60aed0ce6c29f63a00e44822492dcdc419b68a0974e53e6884359dc2aec1aa'\u001b[0m\u001b[1;33m)\u001b[0m\u001b[1;33m]\u001b[0m\u001b[1;33m\u001b[0m\u001b[1;33m\u001b[0m\u001b[0m\n\u001b[0m\u001b[0;32m      2\u001b[0m \u001b[1;31m# test_dup.sort_values(by='Outcome_month', ascending=False)\u001b[0m\u001b[1;33m\u001b[0m\u001b[1;33m\u001b[0m\u001b[1;33m\u001b[0m\u001b[0m\n\u001b[0;32m      3\u001b[0m \u001b[0mtest_dup\u001b[0m\u001b[1;33m\u001b[0m\u001b[1;33m\u001b[0m\u001b[0m\n\u001b[0;32m      4\u001b[0m \u001b[1;31m# outcome_df.sort_values(by='Outcome_month', ascending=False)\u001b[0m\u001b[1;33m\u001b[0m\u001b[1;33m\u001b[0m\u001b[1;33m\u001b[0m\u001b[0m\n",
      "\u001b[1;32m~\\Anaconda3\\lib\\site-packages\\pandas\\core\\frame.py\u001b[0m in \u001b[0;36m__getitem__\u001b[1;34m(self, key)\u001b[0m\n\u001b[0;32m   2804\u001b[0m             \u001b[1;32mif\u001b[0m \u001b[0mis_iterator\u001b[0m\u001b[1;33m(\u001b[0m\u001b[0mkey\u001b[0m\u001b[1;33m)\u001b[0m\u001b[1;33m:\u001b[0m\u001b[1;33m\u001b[0m\u001b[1;33m\u001b[0m\u001b[0m\n\u001b[0;32m   2805\u001b[0m                 \u001b[0mkey\u001b[0m \u001b[1;33m=\u001b[0m \u001b[0mlist\u001b[0m\u001b[1;33m(\u001b[0m\u001b[0mkey\u001b[0m\u001b[1;33m)\u001b[0m\u001b[1;33m\u001b[0m\u001b[1;33m\u001b[0m\u001b[0m\n\u001b[1;32m-> 2806\u001b[1;33m             \u001b[0mindexer\u001b[0m \u001b[1;33m=\u001b[0m \u001b[0mself\u001b[0m\u001b[1;33m.\u001b[0m\u001b[0mloc\u001b[0m\u001b[1;33m.\u001b[0m\u001b[0m_get_listlike_indexer\u001b[0m\u001b[1;33m(\u001b[0m\u001b[0mkey\u001b[0m\u001b[1;33m,\u001b[0m \u001b[0maxis\u001b[0m\u001b[1;33m=\u001b[0m\u001b[1;36m1\u001b[0m\u001b[1;33m,\u001b[0m \u001b[0mraise_missing\u001b[0m\u001b[1;33m=\u001b[0m\u001b[1;32mTrue\u001b[0m\u001b[1;33m)\u001b[0m\u001b[1;33m[\u001b[0m\u001b[1;36m1\u001b[0m\u001b[1;33m]\u001b[0m\u001b[1;33m\u001b[0m\u001b[1;33m\u001b[0m\u001b[0m\n\u001b[0m\u001b[0;32m   2807\u001b[0m \u001b[1;33m\u001b[0m\u001b[0m\n\u001b[0;32m   2808\u001b[0m         \u001b[1;31m# take() does not accept boolean indexers\u001b[0m\u001b[1;33m\u001b[0m\u001b[1;33m\u001b[0m\u001b[1;33m\u001b[0m\u001b[0m\n",
      "\u001b[1;32m~\\Anaconda3\\lib\\site-packages\\pandas\\core\\indexing.py\u001b[0m in \u001b[0;36m_get_listlike_indexer\u001b[1;34m(self, key, axis, raise_missing)\u001b[0m\n\u001b[0;32m   1550\u001b[0m \u001b[1;33m\u001b[0m\u001b[0m\n\u001b[0;32m   1551\u001b[0m         self._validate_read_indexer(\n\u001b[1;32m-> 1552\u001b[1;33m             \u001b[0mkeyarr\u001b[0m\u001b[1;33m,\u001b[0m \u001b[0mindexer\u001b[0m\u001b[1;33m,\u001b[0m \u001b[0mo\u001b[0m\u001b[1;33m.\u001b[0m\u001b[0m_get_axis_number\u001b[0m\u001b[1;33m(\u001b[0m\u001b[0maxis\u001b[0m\u001b[1;33m)\u001b[0m\u001b[1;33m,\u001b[0m \u001b[0mraise_missing\u001b[0m\u001b[1;33m=\u001b[0m\u001b[0mraise_missing\u001b[0m\u001b[1;33m\u001b[0m\u001b[1;33m\u001b[0m\u001b[0m\n\u001b[0m\u001b[0;32m   1553\u001b[0m         )\n\u001b[0;32m   1554\u001b[0m         \u001b[1;32mreturn\u001b[0m \u001b[0mkeyarr\u001b[0m\u001b[1;33m,\u001b[0m \u001b[0mindexer\u001b[0m\u001b[1;33m\u001b[0m\u001b[1;33m\u001b[0m\u001b[0m\n",
      "\u001b[1;32m~\\Anaconda3\\lib\\site-packages\\pandas\\core\\indexing.py\u001b[0m in \u001b[0;36m_validate_read_indexer\u001b[1;34m(self, key, indexer, axis, raise_missing)\u001b[0m\n\u001b[0;32m   1643\u001b[0m             \u001b[1;32mif\u001b[0m \u001b[1;32mnot\u001b[0m \u001b[1;33m(\u001b[0m\u001b[0mself\u001b[0m\u001b[1;33m.\u001b[0m\u001b[0mname\u001b[0m \u001b[1;33m==\u001b[0m \u001b[1;34m\"loc\"\u001b[0m \u001b[1;32mand\u001b[0m \u001b[1;32mnot\u001b[0m \u001b[0mraise_missing\u001b[0m\u001b[1;33m)\u001b[0m\u001b[1;33m:\u001b[0m\u001b[1;33m\u001b[0m\u001b[1;33m\u001b[0m\u001b[0m\n\u001b[0;32m   1644\u001b[0m                 \u001b[0mnot_found\u001b[0m \u001b[1;33m=\u001b[0m \u001b[0mlist\u001b[0m\u001b[1;33m(\u001b[0m\u001b[0mset\u001b[0m\u001b[1;33m(\u001b[0m\u001b[0mkey\u001b[0m\u001b[1;33m)\u001b[0m \u001b[1;33m-\u001b[0m \u001b[0mset\u001b[0m\u001b[1;33m(\u001b[0m\u001b[0max\u001b[0m\u001b[1;33m)\u001b[0m\u001b[1;33m)\u001b[0m\u001b[1;33m\u001b[0m\u001b[1;33m\u001b[0m\u001b[0m\n\u001b[1;32m-> 1645\u001b[1;33m                 \u001b[1;32mraise\u001b[0m \u001b[0mKeyError\u001b[0m\u001b[1;33m(\u001b[0m\u001b[1;34mf\"{not_found} not in index\"\u001b[0m\u001b[1;33m)\u001b[0m\u001b[1;33m\u001b[0m\u001b[1;33m\u001b[0m\u001b[0m\n\u001b[0m\u001b[0;32m   1646\u001b[0m \u001b[1;33m\u001b[0m\u001b[0m\n\u001b[0;32m   1647\u001b[0m             \u001b[1;31m# we skip the warning on Categorical/Interval\u001b[0m\u001b[1;33m\u001b[0m\u001b[1;33m\u001b[0m\u001b[1;33m\u001b[0m\u001b[0m\n",
      "\u001b[1;31mKeyError\u001b[0m: \"['Outcome_type'] not in index\""
     ]
    }
   ],
   "source": [
    "test_dup = outcome_df[['Crime_ID','Outcome_month','Outcome_type']][(outcome_df.Crime_ID == '3b60aed0ce6c29f63a00e44822492dcdc419b68a0974e53e6884359dc2aec1aa')]\n",
    "# test_dup.sort_values(by='Outcome_month', ascending=False)\n",
    "test_dup\n",
    "# outcome_df.sort_values(by='Outcome_month', ascending=False)"
   ]
  },
  {
   "cell_type": "markdown",
   "metadata": {},
   "source": [
    "## Remove duplicates"
   ]
  },
  {
   "cell_type": "markdown",
   "metadata": {},
   "source": [
    "### Sort the outcome dataset on the Month basis to bring latest updated outcome on the top for each crime\n",
    "\n",
    "Outcome dataset sorting on the Month basis is require to bring latest updated outcome on the top for each crime ids and rest will lie beneath. This is important step because only the latest records are going to retain and all previous/historical outcome update would be deleted."
   ]
  },
  {
   "cell_type": "code",
   "execution_count": 70,
   "metadata": {},
   "outputs": [],
   "source": [
    "# Sort the outcome data frame with Month column in descending order to get the latest crime id entry on top\n",
    "outcome_df = outcome_df.sort_values(by='Outcome_month', ascending=False)"
   ]
  },
  {
   "cell_type": "code",
   "execution_count": null,
   "metadata": {},
   "outputs": [],
   "source": [
    "# Test if the latest crime id is appearing on the top \n",
    "# outcome_df[outcome_df.Crime_ID == ('3b60aed0ce6c29f63a00e44822492dcdc419b68a0974e53e6884359dc2aec1aa')].sort_values(by='Outcome_month', ascending=False).head(10)\n"
   ]
  },
  {
   "cell_type": "markdown",
   "metadata": {},
   "source": [
    "### Remove duplicate Crime IDs so that only the recent outcome update will be availble in the dataset"
   ]
  },
  {
   "cell_type": "code",
   "execution_count": 71,
   "metadata": {},
   "outputs": [],
   "source": [
    "# Remove all the duplicate records except first instance of it\n",
    "outcome_df = outcome_df.drop_duplicates(subset='Crime_ID', keep='first')"
   ]
  },
  {
   "cell_type": "code",
   "execution_count": 73,
   "metadata": {},
   "outputs": [
    {
     "data": {
      "text/html": [
       "<div>\n",
       "<style scoped>\n",
       "    .dataframe tbody tr th:only-of-type {\n",
       "        vertical-align: middle;\n",
       "    }\n",
       "\n",
       "    .dataframe tbody tr th {\n",
       "        vertical-align: top;\n",
       "    }\n",
       "\n",
       "    .dataframe thead th {\n",
       "        text-align: right;\n",
       "    }\n",
       "</style>\n",
       "<table border=\"1\" class=\"dataframe\">\n",
       "  <thead>\n",
       "    <tr style=\"text-align: right;\">\n",
       "      <th></th>\n",
       "      <th>Crime_ID</th>\n",
       "      <th>Outcome_month</th>\n",
       "      <th>Outcome_type</th>\n",
       "    </tr>\n",
       "  </thead>\n",
       "  <tbody>\n",
       "    <tr>\n",
       "      <th>647709</th>\n",
       "      <td>3b60aed0ce6c29f63a00e44822492dcdc419b68a0974e5...</td>\n",
       "      <td>2018-03</td>\n",
       "      <td>Offender sent to prison</td>\n",
       "    </tr>\n",
       "  </tbody>\n",
       "</table>\n",
       "</div>"
      ],
      "text/plain": [
       "                                                 Crime_ID Outcome_month  \\\n",
       "647709  3b60aed0ce6c29f63a00e44822492dcdc419b68a0974e5...       2018-03   \n",
       "\n",
       "                   Outcome_type  \n",
       "647709  Offender sent to prison  "
      ]
     },
     "execution_count": 73,
     "metadata": {},
     "output_type": "execute_result"
    }
   ],
   "source": [
    "test_dup = outcome_df[['Crime_ID','Outcome_month','Outcome_type']][(outcome_df.Crime_ID == '3b60aed0ce6c29f63a00e44822492dcdc419b68a0974e53e6884359dc2aec1aa')]\n",
    "test_dup"
   ]
  },
  {
   "cell_type": "markdown",
   "metadata": {},
   "source": [
    "## Test records of crimes after removing duplicates¶"
   ]
  },
  {
   "cell_type": "code",
   "execution_count": 13,
   "metadata": {},
   "outputs": [
    {
     "name": "stdout",
     "output_type": "stream",
     "text": [
      "First crime id duplicate record count:  1\n",
      "Second crime id duplicate record count:  1\n",
      "Third crime id duplicate record count:  1\n",
      "Fourth crime id duplicate record count:  1\n",
      "Fifth crime id duplicate record count:  1\n"
     ]
    }
   ],
   "source": [
    "test_duplicate()"
   ]
  },
  {
   "cell_type": "markdown",
   "metadata": {},
   "source": [
    "## Get total record count after duplicate removal"
   ]
  },
  {
   "cell_type": "code",
   "execution_count": 15,
   "metadata": {},
   "outputs": [
    {
     "name": "stdout",
     "output_type": "stream",
     "text": [
      "After removing duplicates total record counts are: 996131\n"
     ]
    }
   ],
   "source": [
    "print('After removing duplicates total record counts are:', get_record_count())"
   ]
  },
  {
   "cell_type": "code",
   "execution_count": 81,
   "metadata": {},
   "outputs": [
    {
     "data": {
      "text/html": [
       "<div>\n",
       "<style scoped>\n",
       "    .dataframe tbody tr th:only-of-type {\n",
       "        vertical-align: middle;\n",
       "    }\n",
       "\n",
       "    .dataframe tbody tr th {\n",
       "        vertical-align: top;\n",
       "    }\n",
       "\n",
       "    .dataframe thead th {\n",
       "        text-align: right;\n",
       "    }\n",
       "</style>\n",
       "<table border=\"1\" class=\"dataframe\">\n",
       "  <thead>\n",
       "    <tr style=\"text-align: right;\">\n",
       "      <th></th>\n",
       "      <th>Crime_ID</th>\n",
       "      <th>Outcome_month</th>\n",
       "      <th>Reported_by</th>\n",
       "      <th>Falls_within</th>\n",
       "      <th>Longitude</th>\n",
       "      <th>Latitude</th>\n",
       "      <th>Location</th>\n",
       "      <th>LSOA_code</th>\n",
       "      <th>LSOA_name</th>\n",
       "      <th>Outcome_type</th>\n",
       "      <th>Borough_name</th>\n",
       "      <th>Id</th>\n",
       "      <th>Name</th>\n",
       "    </tr>\n",
       "  </thead>\n",
       "  <tbody>\n",
       "    <tr>\n",
       "      <th>0</th>\n",
       "      <td>62c6cc3d7fd777ba389e57f37a82781c384b9e8122ff53...</td>\n",
       "      <td>2019-12</td>\n",
       "      <td>Metropolitan Police Service</td>\n",
       "      <td>Metropolitan Police Service</td>\n",
       "      <td>-0.205025</td>\n",
       "      <td>51.526358</td>\n",
       "      <td>On or near BRAVINGTON PLACE</td>\n",
       "      <td>E01004718</td>\n",
       "      <td>Westminster 004A</td>\n",
       "      <td>Offender given penalty notice</td>\n",
       "      <td>Westminster</td>\n",
       "      <td>12</td>\n",
       "      <td>Westminster</td>\n",
       "    </tr>\n",
       "  </tbody>\n",
       "</table>\n",
       "</div>"
      ],
      "text/plain": [
       "                                            Crime_ID Outcome_month  \\\n",
       "0  62c6cc3d7fd777ba389e57f37a82781c384b9e8122ff53...       2019-12   \n",
       "\n",
       "                   Reported_by                 Falls_within  Longitude  \\\n",
       "0  Metropolitan Police Service  Metropolitan Police Service  -0.205025   \n",
       "\n",
       "    Latitude                     Location  LSOA_code         LSOA_name  \\\n",
       "0  51.526358  On or near BRAVINGTON PLACE  E01004718  Westminster 004A   \n",
       "\n",
       "                    Outcome_type Borough_name  Id         Name  \n",
       "0  Offender given penalty notice  Westminster  12  Westminster  "
      ]
     },
     "execution_count": 81,
     "metadata": {},
     "output_type": "execute_result"
    }
   ],
   "source": [
    "outcome_df.head(1)"
   ]
  },
  {
   "cell_type": "code",
   "execution_count": 79,
   "metadata": {},
   "outputs": [
    {
     "data": {
      "text/html": [
       "<div>\n",
       "<style scoped>\n",
       "    .dataframe tbody tr th:only-of-type {\n",
       "        vertical-align: middle;\n",
       "    }\n",
       "\n",
       "    .dataframe tbody tr th {\n",
       "        vertical-align: top;\n",
       "    }\n",
       "\n",
       "    .dataframe thead th {\n",
       "        text-align: right;\n",
       "    }\n",
       "</style>\n",
       "<table border=\"1\" class=\"dataframe\">\n",
       "  <thead>\n",
       "    <tr style=\"text-align: right;\">\n",
       "      <th></th>\n",
       "      <th>Id</th>\n",
       "      <th>Name</th>\n",
       "    </tr>\n",
       "  </thead>\n",
       "  <tbody>\n",
       "    <tr>\n",
       "      <th>0</th>\n",
       "      <td>1</td>\n",
       "      <td>Camden</td>\n",
       "    </tr>\n",
       "  </tbody>\n",
       "</table>\n",
       "</div>"
      ],
      "text/plain": [
       "   Id    Name\n",
       "0   1  Camden"
      ]
     },
     "execution_count": 79,
     "metadata": {},
     "output_type": "execute_result"
    }
   ],
   "source": [
    "london_borough_df.head(1)"
   ]
  },
  {
   "cell_type": "markdown",
   "metadata": {},
   "source": [
    "# Integrate \"London Borough CSV\" with \"Crime Outcome CSV\"\n",
    "*** \n",
    "Still outcome dataset contains one more problem. Total number of boroughs it contains is more than 32 which fall under metropolitan police limit. Hence we need just the London Boroughs and not all. "
   ]
  },
  {
   "cell_type": "markdown",
   "metadata": {},
   "source": [
    "## Derive new column for Borough_name from LSOA_name"
   ]
  },
  {
   "cell_type": "code",
   "execution_count": 74,
   "metadata": {},
   "outputs": [],
   "source": [
    "# Step1: Create new column inside the outcome dataset for the boroughs. This will come out from LSOA_name.\n",
    "outcome_df['Borough_name'] = outcome_df.LSOA_name[(outcome_df.LSOA_name.isnull()==False)].str[:-5]"
   ]
  },
  {
   "cell_type": "code",
   "execution_count": 78,
   "metadata": {},
   "outputs": [
    {
     "name": "stdout",
     "output_type": "stream",
     "text": [
      "Boroughs count - before Data Integration: 238\n"
     ]
    }
   ],
   "source": [
    "# Step2: Test boroughs count before integrating outcome dataset with the boroughs dataset\n",
    "print('Boroughs count - before Data Integration:',len(outcome_df.Borough_name.unique()))"
   ]
  },
  {
   "cell_type": "markdown",
   "metadata": {},
   "source": [
    "## Integration key used to merge between two datasets is 'Borough_name'"
   ]
  },
  {
   "cell_type": "code",
   "execution_count": 82,
   "metadata": {},
   "outputs": [
    {
     "data": {
      "text/plain": [
       "33"
      ]
     },
     "execution_count": 82,
     "metadata": {},
     "output_type": "execute_result"
    }
   ],
   "source": [
    "# Merge london_borough with the outcome data to get relevant records only\n",
    "outcome_df = pd.merge(left=outcome_df, right=london_borough_df, left_on='Borough_name', right_on='Name')\n",
    "\n",
    "# Remove un-necessary columns after merging action\n",
    "outcome_df = outcome_df.drop(['Id', 'Name'], axis=1)\n",
    "\n",
    "# Get unique london-boroghs numbers\n",
    "outcome_df.Borough_name.unique().size"
   ]
  },
  {
   "cell_type": "code",
   "execution_count": 83,
   "metadata": {},
   "outputs": [
    {
     "name": "stdout",
     "output_type": "stream",
     "text": [
      "Boroughs count - before Data Integration: 33\n"
     ]
    }
   ],
   "source": [
    "# Step3: Test boroughs count after integrating outcome dataset with the boroughs dataset\n",
    "print('Boroughs count - before Data Integration:',len(outcome_df.Borough_name.unique()))"
   ]
  },
  {
   "cell_type": "code",
   "execution_count": 84,
   "metadata": {},
   "outputs": [
    {
     "name": "stdout",
     "output_type": "stream",
     "text": [
      "Total number of incidents confirmed as a crime (having duplicates): 977637\n",
      "Total unique number of incidents confirmed as a crime: 977637\n",
      "Total number of duplicate incidents removed from the dataset: 0\n"
     ]
    }
   ],
   "source": [
    "# Check total unique crimes available in the dataset \n",
    "total_records = len(outcome_df.Crime_ID)\n",
    "total_unique_records = len(outcome_df.Crime_ID.unique())\n",
    "print(\"Total number of incidents confirmed as a crime (having duplicates): \"+str(total_records))\n",
    "print(\"Total unique number of incidents confirmed as a crime: \"+str(total_unique_records))\n",
    "print(\"Total number of duplicate incidents removed from the dataset: \"+str(total_records-total_unique_records))"
   ]
  },
  {
   "cell_type": "code",
   "execution_count": 88,
   "metadata": {},
   "outputs": [
    {
     "data": {
      "text/html": [
       "<div>\n",
       "<style scoped>\n",
       "    .dataframe tbody tr th:only-of-type {\n",
       "        vertical-align: middle;\n",
       "    }\n",
       "\n",
       "    .dataframe tbody tr th {\n",
       "        vertical-align: top;\n",
       "    }\n",
       "\n",
       "    .dataframe thead th {\n",
       "        text-align: right;\n",
       "    }\n",
       "</style>\n",
       "<table border=\"1\" class=\"dataframe\">\n",
       "  <thead>\n",
       "    <tr style=\"text-align: right;\">\n",
       "      <th></th>\n",
       "      <th>Crime_ID</th>\n",
       "      <th>Outcome_month</th>\n",
       "      <th>Reported_by</th>\n",
       "      <th>Falls_within</th>\n",
       "      <th>Longitude</th>\n",
       "      <th>Latitude</th>\n",
       "      <th>Location</th>\n",
       "      <th>LSOA_code</th>\n",
       "      <th>LSOA_name</th>\n",
       "      <th>Outcome_type</th>\n",
       "      <th>Borough_name</th>\n",
       "    </tr>\n",
       "  </thead>\n",
       "  <tbody>\n",
       "    <tr>\n",
       "      <th>0</th>\n",
       "      <td>62c6cc3d7fd777ba389e57f37a82781c384b9e8122ff53...</td>\n",
       "      <td>2019-12</td>\n",
       "      <td>Metropolitan Police Service</td>\n",
       "      <td>Metropolitan Police Service</td>\n",
       "      <td>-0.205025</td>\n",
       "      <td>51.526358</td>\n",
       "      <td>On or near BRAVINGTON PLACE</td>\n",
       "      <td>E01004718</td>\n",
       "      <td>Westminster 004A</td>\n",
       "      <td>Offender given penalty notice</td>\n",
       "      <td>Westminster</td>\n",
       "    </tr>\n",
       "  </tbody>\n",
       "</table>\n",
       "</div>"
      ],
      "text/plain": [
       "                                            Crime_ID Outcome_month  \\\n",
       "0  62c6cc3d7fd777ba389e57f37a82781c384b9e8122ff53...       2019-12   \n",
       "\n",
       "                   Reported_by                 Falls_within  Longitude  \\\n",
       "0  Metropolitan Police Service  Metropolitan Police Service  -0.205025   \n",
       "\n",
       "    Latitude                     Location  LSOA_code         LSOA_name  \\\n",
       "0  51.526358  On or near BRAVINGTON PLACE  E01004718  Westminster 004A   \n",
       "\n",
       "                    Outcome_type Borough_name  \n",
       "0  Offender given penalty notice  Westminster  "
      ]
     },
     "execution_count": 88,
     "metadata": {},
     "output_type": "execute_result"
    }
   ],
   "source": [
    "outcome_df.head(1)"
   ]
  },
  {
   "cell_type": "markdown",
   "metadata": {},
   "source": [
    "## Remove all the non required features from the dataset\n",
    "***\n",
    "\n",
    "Remove below features:\n",
    "['Reported_by', 'Falls_within','Longitude', 'Latitude', 'Location', 'LSOA_code', 'LSOA_name', 'Borough_name']\n",
    "\n",
    "Retain below features:\n",
    "['Crime_ID', 'Outcome_month', 'Outcome_type']"
   ]
  },
  {
   "cell_type": "code",
   "execution_count": 89,
   "metadata": {},
   "outputs": [],
   "source": [
    "# Just retrieve the features which are required for this dataset\n",
    "outcome_df = outcome_df[['Crime_ID', 'Outcome_month', 'Outcome_type']]"
   ]
  },
  {
   "cell_type": "markdown",
   "metadata": {},
   "source": [
    "### Rename 'Outcome_type' column to 'Latest_Outcome_type' for better readability"
   ]
  },
  {
   "cell_type": "code",
   "execution_count": 90,
   "metadata": {},
   "outputs": [
    {
     "name": "stderr",
     "output_type": "stream",
     "text": [
      "C:\\Users\\ashirhgang\\Anaconda3\\lib\\site-packages\\pandas\\core\\frame.py:4133: SettingWithCopyWarning: \n",
      "A value is trying to be set on a copy of a slice from a DataFrame\n",
      "\n",
      "See the caveats in the documentation: https://pandas.pydata.org/pandas-docs/stable/user_guide/indexing.html#returning-a-view-versus-a-copy\n",
      "  errors=errors,\n"
     ]
    }
   ],
   "source": [
    "# Rename the Outcome_type to Latest_outcome_type\n",
    "outcome_df.rename(columns = {'Outcome_type':'Latest_Outcome_type'}, inplace = True)"
   ]
  },
  {
   "cell_type": "code",
   "execution_count": 97,
   "metadata": {},
   "outputs": [
    {
     "data": {
      "text/html": [
       "<div>\n",
       "<style scoped>\n",
       "    .dataframe tbody tr th:only-of-type {\n",
       "        vertical-align: middle;\n",
       "    }\n",
       "\n",
       "    .dataframe tbody tr th {\n",
       "        vertical-align: top;\n",
       "    }\n",
       "\n",
       "    .dataframe thead th {\n",
       "        text-align: right;\n",
       "    }\n",
       "</style>\n",
       "<table border=\"1\" class=\"dataframe\">\n",
       "  <thead>\n",
       "    <tr style=\"text-align: right;\">\n",
       "      <th></th>\n",
       "      <th>Crime_ID</th>\n",
       "      <th>Outcome_month</th>\n",
       "      <th>Latest_Outcome_type</th>\n",
       "    </tr>\n",
       "  </thead>\n",
       "  <tbody>\n",
       "    <tr>\n",
       "      <th>0</th>\n",
       "      <td>62c6cc3d7fd777ba389e57f37a82781c384b9e8122ff53...</td>\n",
       "      <td>2019-12</td>\n",
       "      <td>Offender given penalty notice</td>\n",
       "    </tr>\n",
       "    <tr>\n",
       "      <th>1</th>\n",
       "      <td>a428eb8824ae8f314466fdc62f6d55fac9f42ab3f460b1...</td>\n",
       "      <td>2019-12</td>\n",
       "      <td>Local resolution</td>\n",
       "    </tr>\n",
       "    <tr>\n",
       "      <th>2</th>\n",
       "      <td>c5d90e22dce8f434e216f8d9109c0dd26034bc95eac2d1...</td>\n",
       "      <td>2019-12</td>\n",
       "      <td>Local resolution</td>\n",
       "    </tr>\n",
       "    <tr>\n",
       "      <th>3</th>\n",
       "      <td>6537a672718df4467f7b0fb4c7a46d169a859d95621751...</td>\n",
       "      <td>2019-12</td>\n",
       "      <td>Offender given a caution</td>\n",
       "    </tr>\n",
       "    <tr>\n",
       "      <th>4</th>\n",
       "      <td>66114a6086c20f89b417ea1ce3ca96b40d91c138d2c911...</td>\n",
       "      <td>2019-12</td>\n",
       "      <td>Local resolution</td>\n",
       "    </tr>\n",
       "  </tbody>\n",
       "</table>\n",
       "</div>"
      ],
      "text/plain": [
       "                                            Crime_ID Outcome_month  \\\n",
       "0  62c6cc3d7fd777ba389e57f37a82781c384b9e8122ff53...       2019-12   \n",
       "1  a428eb8824ae8f314466fdc62f6d55fac9f42ab3f460b1...       2019-12   \n",
       "2  c5d90e22dce8f434e216f8d9109c0dd26034bc95eac2d1...       2019-12   \n",
       "3  6537a672718df4467f7b0fb4c7a46d169a859d95621751...       2019-12   \n",
       "4  66114a6086c20f89b417ea1ce3ca96b40d91c138d2c911...       2019-12   \n",
       "\n",
       "             Latest_Outcome_type  \n",
       "0  Offender given penalty notice  \n",
       "1               Local resolution  \n",
       "2               Local resolution  \n",
       "3       Offender given a caution  \n",
       "4               Local resolution  "
      ]
     },
     "execution_count": 97,
     "metadata": {},
     "output_type": "execute_result"
    }
   ],
   "source": [
    "outcome_df.head()\n",
    "# outcome_df.shape[0]\n",
    "# outcome_df.isna().sum() "
   ]
  },
  {
   "cell_type": "markdown",
   "metadata": {},
   "source": [
    "# Save the clean file as the outcome-stage.csv"
   ]
  },
  {
   "cell_type": "code",
   "execution_count": 98,
   "metadata": {},
   "outputs": [
    {
     "name": "stdout",
     "output_type": "stream",
     "text": [
      "File  outcome-staging.csv gets created!\n",
      "Location: C://SHU/ADMP/Assessment_02/github-repos/admp-csvs/staging/\n"
     ]
    }
   ],
   "source": [
    "outcome_df.to_csv(STAGING_PATH+STAGE_FILENAME, sep=',', encoding='utf-8', index=None, header = True)\n",
    "print('File ',STAGE_FILENAME,'gets created!')\n",
    "print('Location:',STAGING_PATH)"
   ]
  },
  {
   "cell_type": "code",
   "execution_count": null,
   "metadata": {},
   "outputs": [],
   "source": []
  }
 ],
 "metadata": {
  "kernelspec": {
   "display_name": "Python 3",
   "language": "python",
   "name": "python3"
  },
  "language_info": {
   "codemirror_mode": {
    "name": "ipython",
    "version": 3
   },
   "file_extension": ".py",
   "mimetype": "text/x-python",
   "name": "python",
   "nbconvert_exporter": "python",
   "pygments_lexer": "ipython3",
   "version": "3.7.4"
  }
 },
 "nbformat": 4,
 "nbformat_minor": 4
}
