{
 "cells": [
  {
   "cell_type": "markdown",
   "metadata": {},
   "source": [
    "# Pre-Process London Crime datasets (Street, Outcome and London-Boroughs)\n",
    "Street dataset pre-process before sending to Datawarehouse\n",
    "1. London Crime Street Dataset\n",
    "2. London Crime Outcome Dataset\n",
    "***"
   ]
  },
  {
   "cell_type": "markdown",
   "metadata": {},
   "source": [
    "## Common activities\n",
    "### Import libraries "
   ]
  },
  {
   "cell_type": "code",
   "execution_count": 1,
   "metadata": {},
   "outputs": [],
   "source": [
    "# import all the libraries that require for project\n",
    "import pandas as pd\n",
    "import numpy as np\n",
    "import matplotlib\n",
    "import matplotlib.pyplot as plt\n",
    "import os"
   ]
  },
  {
   "cell_type": "markdown",
   "metadata": {},
   "source": [
    "### Declare globals"
   ]
  },
  {
   "cell_type": "code",
   "execution_count": 3,
   "metadata": {},
   "outputs": [],
   "source": [
    "# define paths\n",
    "INPUT_PATH = \"C://SHU/ADMP/Assessment_02/github-repos/admp-csvs/prod/\"\n",
    "OUTPUT_PATH = \"C://SHU/ADMP/Assessment_02/github-repos/admp-csvs/stage/\"\n",
    "\n",
    "# create variables to store the datasets name you want to use\n",
    "STREET_FILENAME = \"street-london.csv\"\n",
    "OUTCOME_FILENAME = OUTPUT_PATH+\"outcome-london.csv\"\n",
    "BOROUGH_FILENAME = \"boroughs-london.csv\""
   ]
  },
  {
   "cell_type": "markdown",
   "metadata": {},
   "source": [
    "### Declare and define functions "
   ]
  },
  {
   "cell_type": "code",
   "execution_count": 4,
   "metadata": {},
   "outputs": [],
   "source": [
    "class FILESIZE:\n",
    "    SMALL = 1\n",
    "    LARGE = 2\n",
    "    \n",
    "def read_csv_file(fileType, fileName):\n",
    "    if (fileType == FILESIZE.SMALL):\n",
    "        df_ret = pd.read_csv(fileName)\n",
    "    else:\n",
    "        # read the large csv file with specified chunksize of 10 million records\n",
    "        df_chunk = pd.read_csv(fileName, chunksize=1000000)\n",
    "\n",
    "        # append each chunk df here\n",
    "        chunk_list = []   \n",
    "\n",
    "        # each chunk is in df format\n",
    "        for chunk in df_chunk:    \n",
    "            # once the data filtering is done, append the chunk to list\n",
    "            chunk_list.append(chunk)\n",
    "\n",
    "        # concat the list into dataframe \n",
    "        df_ret = pd.concat(chunk_list)\n",
    "        \n",
    "    return df_ret\n",
    "\n",
    "def test_duplicate():\n",
    "    # check what is the differences appearing inside the duplicate record by passsing one Crime ID\n",
    "    test_crime_id1 = '077db29e732f8fbfe793724d63483d23bef1990d3059ed42ed17d8cadcdc8eed'\n",
    "    test_crime_id2 = '459a973a05867f80e03e312219add2c2d68b13c962b6b0aff6a788114d046c9e'\n",
    "    test_crime_id3 = '584697dec6313c3f687d97c2714f80a0ab2454119816ec95fbc5d92366985aa7'\n",
    "    test_crime_id4 = 'e22dfff770cd32f54941621e0b4a1000168dfa2fbfbd6afc42ac1304a18535ce'\n",
    "    test_crime_id5 = '7a99fcf8b97b8db7f7cee3661dc335bd2d1a41643adc5e91405e2b7233e06d85'\n",
    "\n",
    "    # outcome_df[street_df.Crime_ID.str.contains('3b60aed0ce6c29f63a00e44822492dcdc419b68a0974e5', na=True)]\n",
    "    rec1_dup_cnt = street_df[street_df.Crime_ID == test_crime_id1].shape[0]\n",
    "    rec2_dup_cnt = street_df[street_df.Crime_ID == test_crime_id2].shape[0]\n",
    "    rec3_dup_cnt = street_df[street_df.Crime_ID == test_crime_id3].shape[0]\n",
    "    rec4_dup_cnt = street_df[street_df.Crime_ID == test_crime_id4].shape[0]\n",
    "    rec5_dup_cnt = street_df[street_df.Crime_ID == test_crime_id5].shape[0]\n",
    "\n",
    "    # return counts\n",
    "    print('First crime id duplicate record count: ', rec1_dup_cnt)\n",
    "    print('Second crime id duplicate record count: ', rec2_dup_cnt)\n",
    "    print('Third crime id duplicate record count: ', rec3_dup_cnt)\n",
    "    print('Fourth crime id duplicate record count: ', rec4_dup_cnt)\n",
    "    print('Fifth crime id duplicate record count: ', rec5_dup_cnt)\n",
    "\n",
    "def get_total_records_cnt():\n",
    "    return street_df.shape[0]\n",
    "\n",
    "def get_dataset_cnt_summary(): \n",
    "    # Check total unique crimes available in the dataset \n",
    "    total_records = len(street_df.Crime_ID)\n",
    "    total_unique_records = len(street_df.Crime_ID.unique())\n",
    "    print(\"Total number of incidents confirmed as a crime (having duplicates): \"+str(total_records))\n",
    "    print(\"Total unique number of incidents confirmed as a crime: \"+str(total_unique_records))\n",
    "    print(\"Total number of duplicate incidents removed from the dataset: \"+str(total_records-total_unique_records))\n"
   ]
  },
  {
   "cell_type": "markdown",
   "metadata": {},
   "source": [
    "### Read CSV files and store them in respective data frames"
   ]
  },
  {
   "cell_type": "code",
   "execution_count": 5,
   "metadata": {},
   "outputs": [],
   "source": [
    "# set a working directory to the location where input dataset csv file exist\n",
    "os.chdir(INPUT_PATH)\n",
    "\n",
    "# load dataframe with street data from CSV file \n",
    "street_df = read_csv_file(FILESIZE.LARGE, STREET_FILENAME)\n",
    "\n",
    "# load dataframe with outcome data from CSV file \n",
    "outcome_df = read_csv_file(FILESIZE.LARGE, OUTCOME_FILENAME)\n",
    "\n",
    "# store london borough data into dataframe\n",
    "london_borough_df = read_csv_file(FILESIZE.SMALL, BOROUGH_FILENAME)"
   ]
  },
  {
   "cell_type": "markdown",
   "metadata": {},
   "source": [
    "## Read ASB (Anti social behaviour) records then delete it\n",
    "These are the records which are having a missing Null values "
   ]
  },
  {
   "cell_type": "code",
   "execution_count": 14,
   "metadata": {},
   "outputs": [
    {
     "data": {
      "text/plain": [
       "Crime_ID                  689612\n",
       "Month                          0\n",
       "Reported_by                    0\n",
       "Falls_within                   0\n",
       "Longitude                  40456\n",
       "Latitude                   40456\n",
       "Location                       0\n",
       "LSOA_code                  40456\n",
       "LSOA_name                  40456\n",
       "Crime_type                     0\n",
       "Last_outcome_category     689612\n",
       "Context                  3229932\n",
       "dtype: int64"
      ]
     },
     "execution_count": 14,
     "metadata": {},
     "output_type": "execute_result"
    }
   ],
   "source": [
    "street_df.isnull().sum()\n",
    "# street_df.Crime_ID.value_counts(dropna=False)"
   ]
  },
  {
   "cell_type": "code",
   "execution_count": 15,
   "metadata": {},
   "outputs": [
    {
     "name": "stdout",
     "output_type": "stream",
     "text": [
      "<class 'pandas.core.frame.DataFrame'>\n",
      "RangeIndex: 3229932 entries, 0 to 3229931\n",
      "Data columns (total 12 columns):\n",
      " #   Column                 Dtype  \n",
      "---  ------                 -----  \n",
      " 0   Crime_ID               object \n",
      " 1   Month                  object \n",
      " 2   Reported_by            object \n",
      " 3   Falls_within           object \n",
      " 4   Longitude              float64\n",
      " 5   Latitude               float64\n",
      " 6   Location               object \n",
      " 7   LSOA_code              object \n",
      " 8   LSOA_name              object \n",
      " 9   Crime_type             object \n",
      " 10  Last_outcome_category  object \n",
      " 11  Context                float64\n",
      "dtypes: float64(3), object(9)\n",
      "memory usage: 295.7+ MB\n"
     ]
    }
   ],
   "source": [
    "street_df.info()\n",
    "\n",
    "# Check all columns if have values and in range\n",
    "# street_df.isna().sum()\n",
    "\n",
    "# check for valid Crime_ID and get all other records based on this id"
   ]
  },
  {
   "cell_type": "markdown",
   "metadata": {},
   "source": [
    "## Intial dataset state/count of the dataset"
   ]
  },
  {
   "cell_type": "code",
   "execution_count": 31,
   "metadata": {},
   "outputs": [
    {
     "name": "stdout",
     "output_type": "stream",
     "text": [
      "Total number of incidents confirmed as a crime (having duplicates): 3229932\n",
      "Total unique number of incidents confirmed as a crime: 2411837\n",
      "Total number of duplicate incidents removed from the dataset: 818095\n"
     ]
    }
   ],
   "source": [
    "get_dataset_cnt_summary()"
   ]
  },
  {
   "cell_type": "markdown",
   "metadata": {},
   "source": [
    "## Start Pre-Processing for London Crime Street Dataset\n",
    "\n",
    "### Handle NULL/Missing Values"
   ]
  },
  {
   "cell_type": "code",
   "execution_count": 38,
   "metadata": {},
   "outputs": [],
   "source": [
    "# 01. Crime_ID: Remove null records from the street data frame.\n",
    "street_df = street_df[street_df.Crime_ID.isnull() == False]\n",
    "\n",
    "# 02. Longitude, Latitude: Fill missing values with 0\n",
    "street_df.Longitude.fillna(0, inplace=True)\n",
    "street_df.Latitude.fillna(0, inplace=True)\n",
    "\n",
    "# 03. LSOA_code, LSOA_name: Fill missing values with 'Not Available' text\n",
    "street_df.LSOA_code.fillna('Not Available', inplace=True)\n",
    "street_df.LSOA_name.fillna('Not Available', inplace=True)\n",
    "\n",
    "# 04. Last_outcome_category: Fill missing values with 'Not Available' text\n",
    "street_df.Last_outcome_category.fillna('Not Available', inplace=True)\n",
    "\n",
    "# 05. Context: Drop it as all fields are empty here. Hence, no significance\n",
    "street_df = street_df.drop(['Context'], axis=1)"
   ]
  },
  {
   "cell_type": "markdown",
   "metadata": {},
   "source": [
    "### Dataset state - after null Crime IDs removal "
   ]
  },
  {
   "cell_type": "code",
   "execution_count": 33,
   "metadata": {},
   "outputs": [
    {
     "name": "stdout",
     "output_type": "stream",
     "text": [
      "Total number of incidents confirmed as a crime (having duplicates): 2540320\n",
      "Total unique number of incidents confirmed as a crime: 2411836\n",
      "Total number of duplicate incidents removed from the dataset: 128484\n"
     ]
    }
   ],
   "source": [
    "get_dataset_cnt_summary()"
   ]
  },
  {
   "cell_type": "markdown",
   "metadata": {},
   "source": [
    "### Delete columns which are of not much significance\n",
    "'Reported_by' column is not useful and hence drop it"
   ]
  },
  {
   "cell_type": "code",
   "execution_count": 39,
   "metadata": {},
   "outputs": [],
   "source": [
    "# drop Reported_by column from the dataset \n",
    "street_df = street_df.drop(['Reported_by'], axis=1)\n",
    "\n",
    "# add empty column to the pandas for storeing the Crime Status (Open or Close)\n",
    "street_df['Crime_status'] = street_df.apply(lambda _: '', axis=1)"
   ]
  },
  {
   "cell_type": "code",
   "execution_count": 40,
   "metadata": {},
   "outputs": [
    {
     "name": "stdout",
     "output_type": "stream",
     "text": [
      "<class 'pandas.core.frame.DataFrame'>\n",
      "Int64Index: 2540320 entries, 0 to 3229931\n",
      "Data columns (total 11 columns):\n",
      " #   Column                 Dtype  \n",
      "---  ------                 -----  \n",
      " 0   Crime_ID               object \n",
      " 1   Month                  object \n",
      " 2   Falls_within           object \n",
      " 3   Longitude              float64\n",
      " 4   Latitude               float64\n",
      " 5   Location               object \n",
      " 6   LSOA_code              object \n",
      " 7   LSOA_name              object \n",
      " 8   Crime_type             object \n",
      " 9   Last_outcome_category  object \n",
      " 10  Crime_status           object \n",
      "dtypes: float64(2), object(9)\n",
      "memory usage: 232.6+ MB\n"
     ]
    }
   ],
   "source": [
    "street_df.info()"
   ]
  },
  {
   "cell_type": "markdown",
   "metadata": {},
   "source": [
    "### Derive new column for Borough_name from LSOA_name"
   ]
  },
  {
   "cell_type": "code",
   "execution_count": 41,
   "metadata": {},
   "outputs": [],
   "source": [
    "# remove last 5 characters from the LSOA_name (4 code and 1 space)\n",
    "street_df['Borough_name'] = street_df.LSOA_name[(street_df.LSOA_name.isnull()==False)].str[:-5]"
   ]
  },
  {
   "cell_type": "markdown",
   "metadata": {},
   "source": [
    "# Remove duplication for Crime_ID feature\n",
    "***\n",
    "\n",
    "### Check the counts of the records in the dataset post duplicate removal"
   ]
  },
  {
   "cell_type": "code",
   "execution_count": 10,
   "metadata": {},
   "outputs": [
    {
     "name": "stdout",
     "output_type": "stream",
     "text": [
      "Total number of incidents confirmed as a crime (having duplicates): 2540320\n",
      "Total unique number of incidents confirmed as a crime: 2411836\n",
      "Total number of duplicate incidents removed from the dataset: 128484\n"
     ]
    }
   ],
   "source": [
    "get_dataset_cnt_summary()"
   ]
  },
  {
   "cell_type": "markdown",
   "metadata": {},
   "source": [
    "#### Do testing before duplication removal"
   ]
  },
  {
   "cell_type": "code",
   "execution_count": 42,
   "metadata": {},
   "outputs": [
    {
     "name": "stdout",
     "output_type": "stream",
     "text": [
      "First crime id duplicate record count:  32\n",
      "Second crime id duplicate record count:  32\n",
      "Third crime id duplicate record count:  30\n",
      "Fourth crime id duplicate record count:  29\n",
      "Fifth crime id duplicate record count:  25\n"
     ]
    }
   ],
   "source": [
    "test_duplicate()"
   ]
  },
  {
   "cell_type": "markdown",
   "metadata": {},
   "source": [
    "#### Do sorting in descending order month basis"
   ]
  },
  {
   "cell_type": "code",
   "execution_count": 43,
   "metadata": {},
   "outputs": [],
   "source": [
    "street_df = street_df.sort_values(by='Month', ascending=False)"
   ]
  },
  {
   "cell_type": "code",
   "execution_count": 44,
   "metadata": {},
   "outputs": [],
   "source": [
    "# Remove all the duplicate records except first instance of it\n",
    "street_df = street_df.drop_duplicates(subset='Crime_ID', keep='first')"
   ]
  },
  {
   "cell_type": "code",
   "execution_count": 48,
   "metadata": {},
   "outputs": [
    {
     "name": "stdout",
     "output_type": "stream",
     "text": [
      "First crime id duplicate record count:  1\n",
      "Second crime id duplicate record count:  1\n",
      "Third crime id duplicate record count:  1\n",
      "Fourth crime id duplicate record count:  1\n",
      "Fifth crime id duplicate record count:  1\n"
     ]
    }
   ],
   "source": [
    "test_duplicate()\n",
    "# street_df.isna().sum()"
   ]
  },
  {
   "cell_type": "markdown",
   "metadata": {},
   "source": [
    "#### Check the counts of the records in the dataset post duplicate removal"
   ]
  },
  {
   "cell_type": "code",
   "execution_count": 49,
   "metadata": {},
   "outputs": [
    {
     "name": "stdout",
     "output_type": "stream",
     "text": [
      "Total number of incidents confirmed as a crime (having duplicates): 2411836\n",
      "Total unique number of incidents confirmed as a crime: 2411836\n",
      "Total number of duplicate incidents removed from the dataset: 0\n"
     ]
    }
   ],
   "source": [
    "get_dataset_cnt_summary()"
   ]
  },
  {
   "cell_type": "markdown",
   "metadata": {},
   "source": [
    "### Split columns from one to two\n",
    "\n",
    "Split Month column to two columns named, Year and Month."
   ]
  },
  {
   "cell_type": "code",
   "execution_count": 50,
   "metadata": {},
   "outputs": [],
   "source": [
    "# Rename the Outcome_type to Latest_outcome_type\n",
    "street_df.rename(columns = {'Month':'Crime_month'}, inplace = True)\n",
    "    \n",
    "# create Year column inside street dataframe and populate year data from the Month field\n",
    "street_df['Crime_year'] = street_df['Crime_month'].str[: 4]\n",
    "\n",
    "# update Month column with just a Month number\n",
    "street_df['Crime_month'] = street_df['Crime_month'].str[: 4]+street_df['Crime_month'].str[-2: ]\n"
   ]
  },
  {
   "cell_type": "code",
   "execution_count": 51,
   "metadata": {},
   "outputs": [
    {
     "name": "stdout",
     "output_type": "stream",
     "text": [
      "<class 'pandas.core.frame.DataFrame'>\n",
      "Int64Index: 2411836 entries, 0 to 86417\n",
      "Data columns (total 13 columns):\n",
      " #   Column                 Dtype  \n",
      "---  ------                 -----  \n",
      " 0   Crime_ID               object \n",
      " 1   Crime_month            object \n",
      " 2   Falls_within           object \n",
      " 3   Longitude              float64\n",
      " 4   Latitude               float64\n",
      " 5   Location               object \n",
      " 6   LSOA_code              object \n",
      " 7   LSOA_name              object \n",
      " 8   Crime_type             object \n",
      " 9   Last_outcome_category  object \n",
      " 10  Crime_status           object \n",
      " 11  Borough_name           object \n",
      " 12  Crime_year             object \n",
      "dtypes: float64(2), object(11)\n",
      "memory usage: 257.6+ MB\n"
     ]
    }
   ],
   "source": [
    "street_df.info()"
   ]
  },
  {
   "cell_type": "code",
   "execution_count": 11,
   "metadata": {},
   "outputs": [],
   "source": [
    "# STAGING_PATH = \"C://SHU/ADMP/Assessment_02/github-repos/admp-csvs/staging/\"\n",
    "# STAGE_FILENAME = \"street-staging.csv\"\n",
    "# street_df.to_csv(STAGING_PATH+STAGE_FILENAME, sep=',', encoding='utf-8', index=None, header = True)"
   ]
  },
  {
   "cell_type": "markdown",
   "metadata": {},
   "source": [
    "## Integrate \"London Borough CSV\" with \"Street Crime CSV\"\n",
    "***"
   ]
  },
  {
   "cell_type": "markdown",
   "metadata": {},
   "source": [
    "### Check how many unique boroughs are present in total inside dataset"
   ]
  },
  {
   "cell_type": "code",
   "execution_count": 15,
   "metadata": {},
   "outputs": [
    {
     "data": {
      "text/plain": [
       "331"
      ]
     },
     "execution_count": 15,
     "metadata": {},
     "output_type": "execute_result"
    }
   ],
   "source": [
    "# Get unique london-boroghs numbers\n",
    "street_df.Borough_name.unique().size"
   ]
  },
  {
   "cell_type": "markdown",
   "metadata": {},
   "source": [
    "### Integration key used to merge between two datasets is 'Borough_name'"
   ]
  },
  {
   "cell_type": "code",
   "execution_count": 52,
   "metadata": {},
   "outputs": [],
   "source": [
    "# Merge london_borough with the street data to get relevant records only\n",
    "street_df = pd.merge(left=street_df, right=london_borough_df, left_on='Borough_name', right_on='Name')\n",
    "\n",
    "# Remove un-necessary columns after merging action\n",
    "street_df = street_df.drop(['Id', 'Name'], axis=1)"
   ]
  },
  {
   "cell_type": "markdown",
   "metadata": {},
   "source": [
    "### Check if 33 boroughs present or not in the dataset"
   ]
  },
  {
   "cell_type": "code",
   "execution_count": 17,
   "metadata": {},
   "outputs": [
    {
     "data": {
      "text/plain": [
       "33"
      ]
     },
     "execution_count": 17,
     "metadata": {},
     "output_type": "execute_result"
    }
   ],
   "source": [
    "# Get unique london-boroghs numbers\n",
    "street_df.Borough_name.unique().size"
   ]
  },
  {
   "cell_type": "markdown",
   "metadata": {},
   "source": [
    "### Check dataset state - post removal of non-relevant boroughs from the dataset"
   ]
  },
  {
   "cell_type": "code",
   "execution_count": 18,
   "metadata": {},
   "outputs": [
    {
     "name": "stdout",
     "output_type": "stream",
     "text": [
      "Total number of incidents confirmed as a crime (having duplicates): 2368939\n",
      "Total unique number of incidents confirmed as a crime: 2368939\n",
      "Total number of duplicate incidents removed from the dataset: 0\n"
     ]
    }
   ],
   "source": [
    "get_dataset_cnt_summary()"
   ]
  },
  {
   "cell_type": "markdown",
   "metadata": {},
   "source": [
    "## Start Pre-Processing for London Crime Outcome Dataset"
   ]
  },
  {
   "cell_type": "code",
   "execution_count": 19,
   "metadata": {},
   "outputs": [
    {
     "name": "stdout",
     "output_type": "stream",
     "text": [
      "<class 'pandas.core.frame.DataFrame'>\n",
      "RangeIndex: 977637 entries, 0 to 977636\n",
      "Data columns (total 3 columns):\n",
      " #   Column               Non-Null Count   Dtype \n",
      "---  ------               --------------   ----- \n",
      " 0   Crime_ID             977637 non-null  object\n",
      " 1   Outcome_month        977637 non-null  object\n",
      " 2   Latest_Outcome_type  977637 non-null  object\n",
      "dtypes: object(3)\n",
      "memory usage: 22.4+ MB\n"
     ]
    }
   ],
   "source": [
    "outcome_df.info()"
   ]
  },
  {
   "cell_type": "markdown",
   "metadata": {},
   "source": [
    "## Integrate \"London Borough CSV\" with \"Outcome CSV\"\n",
    "***\n",
    "### Integration key used to merge between two dataset is 'Crime_ID'"
   ]
  },
  {
   "cell_type": "markdown",
   "metadata": {},
   "source": [
    "#### get total record count of street dataset before merging it with outcome"
   ]
  },
  {
   "cell_type": "code",
   "execution_count": 194,
   "metadata": {},
   "outputs": [
    {
     "name": "stdout",
     "output_type": "stream",
     "text": [
      "Total dataset record count (before merging with outcome dataset): 2368947\n",
      "Total feature count (before merging with outcome dataset): 14\n"
     ]
    },
    {
     "data": {
      "text/plain": [
       "[Index(['Crime_ID', 'Month', 'Falls_within', 'Longitude', 'Latitude',\n",
       "        'Location', 'LSOA_code', 'LSOA_name', 'Crime_type',\n",
       "        'Last_outcome_category', 'Crime_status', 'Borough_name', 'Crime_year',\n",
       "        'Crime_month'],\n",
       "       dtype='object')]"
      ]
     },
     "execution_count": 194,
     "metadata": {},
     "output_type": "execute_result"
    }
   ],
   "source": [
    "# Get unique street numbers\n",
    "print('Total dataset record count (before merging with outcome dataset):',get_total_records_cnt())\n",
    "\n",
    "# Get the total number of features before merge\n",
    "print('Total feature count (before merging with outcome dataset):',street_df.shape[1])\n",
    "\n",
    "# Column list\n",
    "[street_df.columns]"
   ]
  },
  {
   "cell_type": "markdown",
   "metadata": {},
   "source": [
    "### Do the merging now"
   ]
  },
  {
   "cell_type": "code",
   "execution_count": 53,
   "metadata": {},
   "outputs": [],
   "source": [
    "# Do the left outer joining so that all street data will be retained along with the joined outcome data\n",
    "street_df = pd.merge(left=street_df, right=outcome_df, on='Crime_ID', how='left')"
   ]
  },
  {
   "cell_type": "markdown",
   "metadata": {},
   "source": [
    "### Get total record count of street dataset after merging it with outcome"
   ]
  },
  {
   "cell_type": "code",
   "execution_count": 21,
   "metadata": {},
   "outputs": [
    {
     "name": "stdout",
     "output_type": "stream",
     "text": [
      "Total dataset record count (before merging with outcome dataset): 2368939\n",
      "Total feature count (before merging with outcome dataset): 16\n"
     ]
    },
    {
     "data": {
      "text/plain": [
       "[Index(['Crime_ID', 'Crime_month', 'Falls_within', 'Longitude', 'Latitude',\n",
       "        'Location', 'LSOA_code', 'LSOA_name', 'Crime_type',\n",
       "        'Last_outcome_category', 'Context', 'Crime_status', 'Borough_name',\n",
       "        'Crime_year', 'Outcome_month', 'Latest_Outcome_type'],\n",
       "       dtype='object')]"
      ]
     },
     "execution_count": 21,
     "metadata": {},
     "output_type": "execute_result"
    }
   ],
   "source": [
    "# Get unique street numbers\n",
    "print('Total dataset record count (before merging with outcome dataset):',get_total_records_cnt())\n",
    "\n",
    "# Get the total number of features before merge\n",
    "print('Total feature count (before merging with outcome dataset):',street_df.shape[1])\n",
    "\n",
    "# Column list\n",
    "[street_df.columns]"
   ]
  },
  {
   "cell_type": "markdown",
   "metadata": {},
   "source": [
    "### Check last outcome type possible values for all records that do not considered as crime so far\n",
    "Means these records having a NULL Latest_Outcome_type. These are the records for which outcome dataset do not have the Crime_IDs. When apply left outer join, these are the left records."
   ]
  },
  {
   "cell_type": "code",
   "execution_count": 26,
   "metadata": {},
   "outputs": [
    {
     "data": {
      "text/plain": [
       "Status update unavailable                              1086671\n",
       "Under investigation                                     304526\n",
       "Investigation complete; no suspect identified               84\n",
       "Court result unavailable                                    21\n",
       "Unable to prosecute suspect                                  5\n",
       "Further investigation is not in the public interest          2\n",
       "Formal action is not in the public interest                  1\n",
       "Name: Last_outcome_category, dtype: int64"
      ]
     },
     "execution_count": 26,
     "metadata": {},
     "output_type": "execute_result"
    }
   ],
   "source": [
    "street_df['Last_outcome_category'][street_df.Latest_Outcome_type.isnull() == True].value_counts()"
   ]
  },
  {
   "cell_type": "code",
   "execution_count": 27,
   "metadata": {},
   "outputs": [
    {
     "data": {
      "text/plain": [
       "Status update unavailable                              1119062\n",
       "Investigation complete; no suspect identified           693686\n",
       "Under investigation                                     305643\n",
       "Local resolution                                         48660\n",
       "Court result unavailable                                 47148\n",
       "Offender given a caution                                 28855\n",
       "Awaiting court outcome                                   24295\n",
       "Offender given a drugs possession warning                18280\n",
       "Offender sent to prison                                  14141\n",
       "Offender given penalty notice                            12904\n",
       "Defendant found not guilty                               12526\n",
       "Offender given community sentence                        11899\n",
       "Offender fined                                            9844\n",
       "Offender given suspended prison sentence                  6152\n",
       "Court case unable to proceed                              6065\n",
       "Offender given conditional discharge                      4313\n",
       "Unable to prosecute suspect                               1685\n",
       "Offender otherwise dealt with                             1248\n",
       "Offender deprived of property                              832\n",
       "Offender ordered to pay compensation                       826\n",
       "Formal action is not in the public interest                217\n",
       "Further investigation is not in the public interest        168\n",
       "Suspect charged as part of another case                    155\n",
       "Defendant sent to Crown Court                              152\n",
       "Offender given absolute discharge                          127\n",
       "Action to be taken by another organisation                  64\n",
       "Name: Last_outcome_category, dtype: int64"
      ]
     },
     "execution_count": 27,
     "metadata": {},
     "output_type": "execute_result"
    }
   ],
   "source": [
    "# Check all the status possible \n",
    "street_df['Last_outcome_category'].value_counts()"
   ]
  },
  {
   "cell_type": "code",
   "execution_count": 28,
   "metadata": {},
   "outputs": [
    {
     "data": {
      "text/html": [
       "<div>\n",
       "<style scoped>\n",
       "    .dataframe tbody tr th:only-of-type {\n",
       "        vertical-align: middle;\n",
       "    }\n",
       "\n",
       "    .dataframe tbody tr th {\n",
       "        vertical-align: top;\n",
       "    }\n",
       "\n",
       "    .dataframe thead th {\n",
       "        text-align: right;\n",
       "    }\n",
       "</style>\n",
       "<table border=\"1\" class=\"dataframe\">\n",
       "  <thead>\n",
       "    <tr style=\"text-align: right;\">\n",
       "      <th></th>\n",
       "      <th>Crime_month</th>\n",
       "      <th>Outcome_month</th>\n",
       "      <th>Last_outcome_category</th>\n",
       "      <th>Latest_Outcome_type</th>\n",
       "    </tr>\n",
       "  </thead>\n",
       "  <tbody>\n",
       "    <tr>\n",
       "      <th>0</th>\n",
       "      <td>2019-12</td>\n",
       "      <td>NaN</td>\n",
       "      <td>Under investigation</td>\n",
       "      <td>NaN</td>\n",
       "    </tr>\n",
       "    <tr>\n",
       "      <th>1</th>\n",
       "      <td>2019-12</td>\n",
       "      <td>NaN</td>\n",
       "      <td>Under investigation</td>\n",
       "      <td>NaN</td>\n",
       "    </tr>\n",
       "    <tr>\n",
       "      <th>2</th>\n",
       "      <td>2019-12</td>\n",
       "      <td>NaN</td>\n",
       "      <td>Under investigation</td>\n",
       "      <td>NaN</td>\n",
       "    </tr>\n",
       "    <tr>\n",
       "      <th>3</th>\n",
       "      <td>2019-12</td>\n",
       "      <td>NaN</td>\n",
       "      <td>Under investigation</td>\n",
       "      <td>NaN</td>\n",
       "    </tr>\n",
       "    <tr>\n",
       "      <th>4</th>\n",
       "      <td>2019-12</td>\n",
       "      <td>NaN</td>\n",
       "      <td>Under investigation</td>\n",
       "      <td>NaN</td>\n",
       "    </tr>\n",
       "    <tr>\n",
       "      <th>...</th>\n",
       "      <td>...</td>\n",
       "      <td>...</td>\n",
       "      <td>...</td>\n",
       "      <td>...</td>\n",
       "    </tr>\n",
       "    <tr>\n",
       "      <th>2368937</th>\n",
       "      <td>2017-01</td>\n",
       "      <td>NaN</td>\n",
       "      <td>Status update unavailable</td>\n",
       "      <td>NaN</td>\n",
       "    </tr>\n",
       "    <tr>\n",
       "      <th>2368938</th>\n",
       "      <td>2017-01</td>\n",
       "      <td>NaN</td>\n",
       "      <td>Status update unavailable</td>\n",
       "      <td>NaN</td>\n",
       "    </tr>\n",
       "    <tr>\n",
       "      <th>2368939</th>\n",
       "      <td>2017-01</td>\n",
       "      <td>NaN</td>\n",
       "      <td>Status update unavailable</td>\n",
       "      <td>NaN</td>\n",
       "    </tr>\n",
       "    <tr>\n",
       "      <th>2368940</th>\n",
       "      <td>2017-01</td>\n",
       "      <td>NaN</td>\n",
       "      <td>Status update unavailable</td>\n",
       "      <td>NaN</td>\n",
       "    </tr>\n",
       "    <tr>\n",
       "      <th>2368941</th>\n",
       "      <td>2017-01</td>\n",
       "      <td>NaN</td>\n",
       "      <td>Status update unavailable</td>\n",
       "      <td>NaN</td>\n",
       "    </tr>\n",
       "  </tbody>\n",
       "</table>\n",
       "<p>1391310 rows × 4 columns</p>\n",
       "</div>"
      ],
      "text/plain": [
       "        Crime_month Outcome_month      Last_outcome_category  \\\n",
       "0           2019-12           NaN        Under investigation   \n",
       "1           2019-12           NaN        Under investigation   \n",
       "2           2019-12           NaN        Under investigation   \n",
       "3           2019-12           NaN        Under investigation   \n",
       "4           2019-12           NaN        Under investigation   \n",
       "...             ...           ...                        ...   \n",
       "2368937     2017-01           NaN  Status update unavailable   \n",
       "2368938     2017-01           NaN  Status update unavailable   \n",
       "2368939     2017-01           NaN  Status update unavailable   \n",
       "2368940     2017-01           NaN  Status update unavailable   \n",
       "2368941     2017-01           NaN  Status update unavailable   \n",
       "\n",
       "        Latest_Outcome_type  \n",
       "0                       NaN  \n",
       "1                       NaN  \n",
       "2                       NaN  \n",
       "3                       NaN  \n",
       "4                       NaN  \n",
       "...                     ...  \n",
       "2368937                 NaN  \n",
       "2368938                 NaN  \n",
       "2368939                 NaN  \n",
       "2368940                 NaN  \n",
       "2368941                 NaN  \n",
       "\n",
       "[1391310 rows x 4 columns]"
      ]
     },
     "execution_count": 28,
     "metadata": {},
     "output_type": "execute_result"
    }
   ],
   "source": [
    "# check all the records with empty Latest_Outcome_type\n",
    "street_df[['Crime_month','Outcome_month','Last_outcome_category', 'Latest_Outcome_type']][street_df.Latest_Outcome_type.isnull() == True]"
   ]
  },
  {
   "cell_type": "code",
   "execution_count": 54,
   "metadata": {},
   "outputs": [
    {
     "data": {
      "text/plain": [
       "Open     1391310\n",
       "Close     977637\n",
       "Name: Crime_status, dtype: int64"
      ]
     },
     "execution_count": 54,
     "metadata": {},
     "output_type": "execute_result"
    }
   ],
   "source": [
    "# check all the records with non-empty Latest_Outcome_type. Compare outcome types\n",
    "# street_df[['Crime_month','Outcome_month','Last_outcome_category', 'Latest_Outcome_type']][street_df.Latest_Outcome_type.isnull() == False]\n",
    "\n",
    "# Fill Crime status data based on the merged outcome data. Crime id which are present in the outcome dataset are the closed cases.\n",
    "street_df.loc[street_df.Latest_Outcome_type.isnull() == False, 'Crime_status'] = \"Close\"\n",
    "street_df.loc[street_df.Latest_Outcome_type.isnull() == True, 'Crime_status'] = \"Open\"\n",
    "street_df.Crime_status.value_counts()"
   ]
  },
  {
   "cell_type": "code",
   "execution_count": 104,
   "metadata": {},
   "outputs": [
    {
     "name": "stdout",
     "output_type": "stream",
     "text": [
      "<class 'pandas.core.frame.DataFrame'>\n",
      "Int64Index: 2368947 entries, 0 to 2368946\n",
      "Data columns (total 16 columns):\n",
      " #   Column                 Dtype  \n",
      "---  ------                 -----  \n",
      " 0   Crime_ID               object \n",
      " 1   Crime_month            object \n",
      " 2   Falls_within           object \n",
      " 3   Longitude              float64\n",
      " 4   Latitude               float64\n",
      " 5   Location               object \n",
      " 6   LSOA_code              object \n",
      " 7   LSOA_name              object \n",
      " 8   Crime_type             object \n",
      " 9   Last_outcome_category  object \n",
      " 10  Crime_status           object \n",
      " 11  Borough_name           object \n",
      " 12  Year                   object \n",
      " 13  Month                  object \n",
      " 14  Outcome_month          object \n",
      " 15  Latest_Outcome_type    object \n",
      "dtypes: float64(2), object(14)\n",
      "memory usage: 307.3+ MB\n"
     ]
    }
   ],
   "source": [
    "# Check dataset before changes\n",
    "street_df.info()"
   ]
  },
  {
   "cell_type": "code",
   "execution_count": 55,
   "metadata": {},
   "outputs": [],
   "source": [
    "# Replace all nulls inside Latest_Outcome_type with the Last_outcome_category\n",
    "street_df.Latest_Outcome_type.fillna(street_df['Last_outcome_category'], inplace=True)\n",
    "\n",
    "# Rename Latest_Outcome_type to Crime_outcome\n",
    "street_df.rename(columns = {'Latest_Outcome_type':'Crime_outcome'}, inplace = True)\n",
    "\n",
    "# Now remove Last_outcome_category feature as it is duplicate entry for crime outcome which gives inconsistent result\n",
    "street_df = street_df.drop(['Last_outcome_category'], axis=1)"
   ]
  },
  {
   "cell_type": "code",
   "execution_count": 25,
   "metadata": {},
   "outputs": [
    {
     "name": "stdout",
     "output_type": "stream",
     "text": [
      "<class 'pandas.core.frame.DataFrame'>\n",
      "Int64Index: 2368939 entries, 0 to 2368938\n",
      "Data columns (total 15 columns):\n",
      " #   Column         Dtype  \n",
      "---  ------         -----  \n",
      " 0   Crime_ID       object \n",
      " 1   Crime_month    object \n",
      " 2   Falls_within   object \n",
      " 3   Longitude      float64\n",
      " 4   Latitude       float64\n",
      " 5   Location       object \n",
      " 6   LSOA_code      object \n",
      " 7   LSOA_name      object \n",
      " 8   Crime_type     object \n",
      " 9   Context        float64\n",
      " 10  Crime_status   object \n",
      " 11  Borough_name   object \n",
      " 12  Crime_year     object \n",
      " 13  Outcome_month  object \n",
      " 14  Crime_outcome  object \n",
      "dtypes: float64(3), object(12)\n",
      "memory usage: 289.2+ MB\n"
     ]
    }
   ],
   "source": [
    "# Check dataset if changes happened or not\n",
    "street_df.info()"
   ]
  },
  {
   "cell_type": "markdown",
   "metadata": {},
   "source": [
    "## Create and update new column called Justice_duration"
   ]
  },
  {
   "cell_type": "code",
   "execution_count": 230,
   "metadata": {},
   "outputs": [
    {
     "data": {
      "text/plain": [
       "-1         1391310\n",
       "2018-10      60139\n",
       "2019-01      45500\n",
       "2017-07      41330\n",
       "2018-07      40504\n",
       "2017-08      38444\n",
       "2017-05      38439\n",
       "2018-08      38126\n",
       "2019-02      37729\n",
       "2017-06      37578\n",
       "2017-09      37337\n",
       "2017-10      37279\n",
       "2018-11      36466\n",
       "2018-01      35668\n",
       "2017-03      34216\n",
       "2017-04      33946\n",
       "2019-03      32610\n",
       "2017-11      31877\n",
       "2018-04      31091\n",
       "2017-12      29574\n",
       "2018-03      28724\n",
       "2018-12      28116\n",
       "2018-02      27972\n",
       "2018-09      25677\n",
       "2018-05      24944\n",
       "2017-02      22374\n",
       "2017-01      14983\n",
       "2018-06      14638\n",
       "2019-05       9763\n",
       "2019-04       8484\n",
       "2019-07       8284\n",
       "2019-06       7966\n",
       "2019-10       7907\n",
       "2019-08       7770\n",
       "2019-11       7679\n",
       "2019-09       7530\n",
       "2019-12       6973\n",
       "Name: Month_from_out, dtype: int64"
      ]
     },
     "execution_count": 230,
     "metadata": {},
     "output_type": "execute_result"
    }
   ],
   "source": [
    "# Rename Latest_Outcome_type to Crime_outcome\n",
    "street_df.rename(columns = {'Outcome_month':'Month_from_out'}, inplace = True)\n",
    "\n",
    "number_of_null_months = street_df.Month_from_out [street_df.Month_from_out.isnull() == True].size\n",
    "#  Split  Month column to Year and Month only if their is no null value present inside Month\n",
    "if(number_of_null_months == 0):   \n",
    "    # create Year column inside street dataframe and populate year data from the Month field\n",
    "    street_df['Outcome_year'] = street_df['Month_from_out'].str[: 4]\n",
    "    \n",
    "    # update Month column with just a Month number\n",
    "    street_df['Outcome_month'] = street_df['Month_from_out'].str[-2: ]\n",
    "    \n",
    "street_df.Month_from_out.value_counts()"
   ]
  },
  {
   "cell_type": "code",
   "execution_count": 232,
   "metadata": {},
   "outputs": [],
   "source": [
    "import numpy as np\n",
    "\n",
    "# Create new empty column named 'Outcome_duration' to store duration when crime gets the outcome\n",
    "street_df['Outcome_duration'] = street_df.apply(lambda _: '', axis=1)\n",
    "\n",
    "# Update 'Outcome_duration' with the appropriate values \n",
    "street_df['Month'] = street_df['Month'].str[: 4]+street_df['Month'].str[-2: ]\n",
    "street_df['Month_from_out'] = street_df['Month_from_out'].str[: 4]+street_df['Month_from_out'].str[-2: ]\n",
    "street_df['Month'] = pd.to_datetime(street_df['Month'], format = '%Y%m') - pd.offsets.MonthBegin()\n",
    "street_df['Month_from_out'] = pd.to_datetime(street_df['Month_from_out'], format='%Y%m')\n",
    "street_df.loc[street_df.Crime_status == \"Close\", 'Outcome_duration'] = round((street_df['Month_from_out'] - street_df['Month'])/np.timedelta64(1, 'M'), 0)\n",
    "street_df.loc[street_df.Crime_status == \"Open\", 'Outcome_duration'] = -1"
   ]
  },
  {
   "cell_type": "code",
   "execution_count": 207,
   "metadata": {},
   "outputs": [],
   "source": []
  },
  {
   "cell_type": "markdown",
   "metadata": {},
   "source": [
    "## Drop 'Outcome_month' and 'Crime_month' feature"
   ]
  },
  {
   "cell_type": "code",
   "execution_count": 56,
   "metadata": {},
   "outputs": [],
   "source": [
    "# Now remove 'Month'\n",
    "# street_df = street_df.drop(['Month_from_out'], axis=1)\n",
    "# street_df = street_df.drop(['Month'], axis=1)\n",
    "\n",
    "street_df = street_df.drop(['Outcome_month'], axis=1)\n",
    "\n"
   ]
  },
  {
   "cell_type": "code",
   "execution_count": 57,
   "metadata": {},
   "outputs": [
    {
     "name": "stdout",
     "output_type": "stream",
     "text": [
      "<class 'pandas.core.frame.DataFrame'>\n",
      "Int64Index: 2368947 entries, 0 to 2368946\n",
      "Data columns (total 13 columns):\n",
      " #   Column         Dtype  \n",
      "---  ------         -----  \n",
      " 0   Crime_ID       object \n",
      " 1   Crime_month    object \n",
      " 2   Falls_within   object \n",
      " 3   Longitude      float64\n",
      " 4   Latitude       float64\n",
      " 5   Location       object \n",
      " 6   LSOA_code      object \n",
      " 7   LSOA_name      object \n",
      " 8   Crime_type     object \n",
      " 9   Crime_status   object \n",
      " 10  Borough_name   object \n",
      " 11  Crime_year     object \n",
      " 12  Crime_outcome  object \n",
      "dtypes: float64(2), object(11)\n",
      "memory usage: 253.0+ MB\n"
     ]
    }
   ],
   "source": [
    "# street_df.Outcome_duration.value_counts()\n",
    "street_df.info()"
   ]
  },
  {
   "cell_type": "code",
   "execution_count": 58,
   "metadata": {},
   "outputs": [
    {
     "data": {
      "text/plain": [
       "Crime_ID         0\n",
       "Crime_month      0\n",
       "Falls_within     0\n",
       "Longitude        0\n",
       "Latitude         0\n",
       "Location         0\n",
       "LSOA_code        0\n",
       "LSOA_name        0\n",
       "Crime_type       0\n",
       "Crime_status     0\n",
       "Borough_name     0\n",
       "Crime_year       0\n",
       "Crime_outcome    0\n",
       "dtype: int64"
      ]
     },
     "execution_count": 58,
     "metadata": {},
     "output_type": "execute_result"
    }
   ],
   "source": [
    "# Test if there is no record is there with null value\n",
    "street_df.isna().sum()\n",
    "\n",
    "# street_df.Outcome_month.value_counts()"
   ]
  },
  {
   "cell_type": "code",
   "execution_count": 236,
   "metadata": {},
   "outputs": [],
   "source": [
    "# replace null values with -1 for 'Outcome_year' \n",
    "street_df.Outcome_year.fillna('-1', inplace=True)\n",
    "\n",
    "# replace null values with -1 for 'Outcome_month' \n",
    "street_df.Outcome_month.fillna('-1', inplace=True)  "
   ]
  },
  {
   "cell_type": "code",
   "execution_count": 237,
   "metadata": {},
   "outputs": [
    {
     "data": {
      "text/plain": [
       "Crime_ID            0\n",
       "Falls_within        0\n",
       "Longitude           0\n",
       "Latitude            0\n",
       "Location            0\n",
       "LSOA_code           0\n",
       "LSOA_name           0\n",
       "Crime_type          0\n",
       "Crime_status        0\n",
       "Borough_name        0\n",
       "Crime_year          0\n",
       "Crime_month         0\n",
       "Crime_outcome       0\n",
       "Outcome_year        0\n",
       "Outcome_month       0\n",
       "Outcome_duration    0\n",
       "dtype: int64"
      ]
     },
     "execution_count": 237,
     "metadata": {},
     "output_type": "execute_result"
    }
   ],
   "source": [
    "# Test if there is no record is there with null value\n",
    "street_df.isna().sum()"
   ]
  },
  {
   "cell_type": "code",
   "execution_count": 65,
   "metadata": {},
   "outputs": [
    {
     "data": {
      "text/plain": [
       "201903    73572\n",
       "201910    71541\n",
       "201905    70383\n",
       "201906    69735\n",
       "201811    69703\n",
       "201810    69388\n",
       "201807    69301\n",
       "201907    69256\n",
       "201911    68773\n",
       "201707    68641\n",
       "201710    68234\n",
       "201904    67977\n",
       "201901    67773\n",
       "201711    67536\n",
       "201812    66729\n",
       "201705    66427\n",
       "201703    66045\n",
       "201805    66002\n",
       "201912    65918\n",
       "201902    65877\n",
       "201708    65724\n",
       "201706    65423\n",
       "201806    65393\n",
       "201801    64679\n",
       "201808    64528\n",
       "201809    64271\n",
       "201908    63891\n",
       "201709    63812\n",
       "201909    63324\n",
       "201803    62816\n",
       "201804    62269\n",
       "201712    61936\n",
       "201704    58845\n",
       "201802    58613\n",
       "201701    58139\n",
       "201702    56473\n",
       "Name: Crime_month, dtype: int64"
      ]
     },
     "execution_count": 65,
     "metadata": {},
     "output_type": "execute_result"
    }
   ],
   "source": [
    "street_df.Crime_month.value_counts()"
   ]
  },
  {
   "cell_type": "markdown",
   "metadata": {},
   "source": [
    "## Save the clean file now to as a staging csv for street, outcome and boroughs"
   ]
  },
  {
   "cell_type": "code",
   "execution_count": 66,
   "metadata": {},
   "outputs": [
    {
     "name": "stdout",
     "output_type": "stream",
     "text": [
      "File street-london.csv saved now to location C://SHU/ADMP/Assessment_02/github-repos/admp-csvs/stage/ !\n"
     ]
    }
   ],
   "source": [
    "street_df.to_csv(OUTPUT_PATH+STREET_FILENAME, sep=',', encoding='utf-8', index=None, header = True)\n",
    "print('File', STREET_FILENAME, 'saved now to location',OUTPUT_PATH,'!')"
   ]
  },
  {
   "cell_type": "code",
   "execution_count": 156,
   "metadata": {},
   "outputs": [],
   "source": [
    "# import numpy as np\n",
    "# temp_df = pd.DataFrame()\n",
    "# temp_df['Crime_month'] = street_df['Crime_month'].str[: 4]+street_df['Crime_month'].str[-2: ]\n",
    "# temp_df['Outcome_month'] = street_df['Outcome_month'].str[: 4]+street_df['Outcome_month'].str[-2: ]\n",
    "# temp_df['Crime_month'] = pd.to_datetime(temp_df['Crime_month'], format = '%Y%m') - pd.offsets.MonthBegin()\n",
    "# temp_df['Outcome_month'] = pd.to_datetime(temp_df['Outcome_month'], format='%Y%m')\n",
    "# temp_df['Processed_time'] = round((temp_df['Outcome_month'] - temp_df['Crime_month'])/np.timedelta64(1, 'M'), 0)\n",
    "# # temp_df['Processed_time'] = street_df[street_df.Crime_status]\n",
    "# temp_df[['Processed_time']]"
   ]
  },
  {
   "cell_type": "code",
   "execution_count": 157,
   "metadata": {},
   "outputs": [],
   "source": [
    "# temp_df[['Processed_time']][temp_df.Processed_time.isnull() == False].sort_values(by='Processed_time', ascending=False)"
   ]
  },
  {
   "cell_type": "code",
   "execution_count": 72,
   "metadata": {},
   "outputs": [
    {
     "data": {
      "text/plain": [
       "1.0     287109\n",
       "2.0     239055\n",
       "3.0     130299\n",
       "4.0      62278\n",
       "1.9      58582\n",
       "         ...  \n",
       "34.0         3\n",
       "31.0         3\n",
       "30.9         3\n",
       "31.9         2\n",
       "36.0         1\n",
       "Name: Processed_time, Length: 64, dtype: int64"
      ]
     },
     "execution_count": 72,
     "metadata": {},
     "output_type": "execute_result"
    }
   ],
   "source": [
    "temp_df.Processed_time.value_counts()"
   ]
  },
  {
   "cell_type": "code",
   "execution_count": 34,
   "metadata": {},
   "outputs": [
    {
     "data": {
      "text/plain": [
       "0          201912\n",
       "1          201912\n",
       "2          201912\n",
       "3          201912\n",
       "4          201912\n",
       "            ...  \n",
       "2368942    201701\n",
       "2368943    201701\n",
       "2368944    201701\n",
       "2368945    201701\n",
       "2368946    201701\n",
       "Name: Crime_month, Length: 2368947, dtype: object"
      ]
     },
     "execution_count": 34,
     "metadata": {},
     "output_type": "execute_result"
    }
   ],
   "source": [
    "street_df['Crime_month'].str[: 4]+street_df['Crime_month'].str[-2: ]"
   ]
  },
  {
   "cell_type": "code",
   "execution_count": 160,
   "metadata": {},
   "outputs": [],
   "source": [
    "# temp_df.Crime_month.isna().sum() \n",
    "# temp_df.Outcome_month.isna().sum() "
   ]
  },
  {
   "cell_type": "code",
   "execution_count": 161,
   "metadata": {},
   "outputs": [],
   "source": []
  },
  {
   "cell_type": "code",
   "execution_count": null,
   "metadata": {},
   "outputs": [],
   "source": []
  },
  {
   "cell_type": "markdown",
   "metadata": {},
   "source": [
    "### Replace all empty/null 'Latest_outcome_type' with the 'Last_outcome_category' values"
   ]
  },
  {
   "cell_type": "code",
   "execution_count": 16,
   "metadata": {},
   "outputs": [],
   "source": [
    "# replace null values with 'Last_outcome_category' text\n",
    "street_df.Latest_Outcome_type.fillna(street_df['Last_outcome_category'], inplace=True)"
   ]
  },
  {
   "cell_type": "markdown",
   "metadata": {},
   "source": [
    "### Remove \"Last_outcome_category\" and retain the \"Latest outcome category\" only"
   ]
  },
  {
   "cell_type": "code",
   "execution_count": 17,
   "metadata": {},
   "outputs": [],
   "source": [
    "# Drop Last_outcome_category\n",
    "street_df = street_df.drop(['Last_outcome_category'], axis=1)"
   ]
  },
  {
   "cell_type": "markdown",
   "metadata": {},
   "source": [
    "### Rename the \"Crime_ID\" to \"Crime_hashcode\""
   ]
  },
  {
   "cell_type": "code",
   "execution_count": 10,
   "metadata": {},
   "outputs": [],
   "source": [
    "street_df.rename(columns = {'Crime_ID':'Crime_hashcode'}, inplace = True)"
   ]
  },
  {
   "cell_type": "markdown",
   "metadata": {},
   "source": [
    "## Save processed dataframe to csv file in the output path location"
   ]
  },
  {
   "cell_type": "code",
   "execution_count": 19,
   "metadata": {},
   "outputs": [],
   "source": [
    "street_df.to_csv(OUTPUT_PATH+\"street-staging-data.csv\", sep=',', encoding='utf-8', index=None, header = True)"
   ]
  },
  {
   "cell_type": "markdown",
   "metadata": {},
   "source": [
    "# TEST OPERATIONS\n",
    "***"
   ]
  },
  {
   "cell_type": "code",
   "execution_count": 53,
   "metadata": {},
   "outputs": [
    {
     "ename": "TypeError",
     "evalue": "'DataFrame' object is not callable",
     "output_type": "error",
     "traceback": [
      "\u001b[1;31m---------------------------------------------------------------------------\u001b[0m",
      "\u001b[1;31mTypeError\u001b[0m                                 Traceback (most recent call last)",
      "\u001b[1;32m<ipython-input-53-17ea5f823dbf>\u001b[0m in \u001b[0;36m<module>\u001b[1;34m\u001b[0m\n\u001b[0;32m      7\u001b[0m \u001b[0msub_df\u001b[0m \u001b[1;33m=\u001b[0m \u001b[0mpd\u001b[0m\u001b[1;33m.\u001b[0m\u001b[0mDataFrame\u001b[0m\u001b[1;33m(\u001b[0m\u001b[1;33m)\u001b[0m\u001b[1;33m\u001b[0m\u001b[1;33m\u001b[0m\u001b[0m\n\u001b[0;32m      8\u001b[0m \u001b[0msub_df\u001b[0m \u001b[1;33m=\u001b[0m \u001b[0mstreet_df\u001b[0m\u001b[1;33m.\u001b[0m\u001b[0msort_values\u001b[0m\u001b[1;33m(\u001b[0m\u001b[0mby\u001b[0m\u001b[1;33m=\u001b[0m\u001b[1;34m'Month'\u001b[0m\u001b[1;33m,\u001b[0m \u001b[0mascending\u001b[0m\u001b[1;33m=\u001b[0m\u001b[1;32mFalse\u001b[0m\u001b[1;33m)\u001b[0m\u001b[1;33m\u001b[0m\u001b[1;33m\u001b[0m\u001b[0m\n\u001b[1;32m----> 9\u001b[1;33m \u001b[0msub_df\u001b[0m\u001b[1;33m(\u001b[0m\u001b[0msub_df\u001b[0m\u001b[1;33m.\u001b[0m\u001b[0mCrime_ID\u001b[0m \u001b[1;33m==\u001b[0m \u001b[0mtest_crime_id1\u001b[0m\u001b[1;33m)\u001b[0m\u001b[1;33m\u001b[0m\u001b[1;33m\u001b[0m\u001b[0m\n\u001b[0m\u001b[0;32m     10\u001b[0m \u001b[1;31m# sub_df = street_df.drop_duplicates(subset='Crime_ID', keep='last')\u001b[0m\u001b[1;33m\u001b[0m\u001b[1;33m\u001b[0m\u001b[1;33m\u001b[0m\u001b[0m\n",
      "\u001b[1;31mTypeError\u001b[0m: 'DataFrame' object is not callable"
     ]
    }
   ],
   "source": [
    "test_crime_id1 = '077db29e732f8fbfe793724d63483d23bef1990d3059ed42ed17d8cadcdc8eed'\n",
    "test_crime_id2 = '459a973a05867f80e03e312219add2c2d68b13c962b6b0aff6a788114d046c9e'\n",
    "test_crime_id3 = '584697dec6313c3f687d97c2714f80a0ab2454119816ec95fbc5d92366985aa7'\n",
    "test_crime_id4 = 'e22dfff770cd32f54941621e0b4a1000168dfa2fbfbd6afc42ac1304a18535ce'\n",
    "test_crime_id5 = '7a99fcf8b97b8db7f7cee3661dc335bd2d1a41643adc5e91405e2b7233e06d85'\n",
    "\n",
    "sub_df = pd.DataFrame()\n",
    "sub_df = street_df.sort_values(by='Month', ascending=False)\n",
    "sub_df(sub_df.Crime_ID == test_crime_id1)\n",
    "# sub_df = street_df.drop_duplicates(subset='Crime_ID', keep='last')"
   ]
  },
  {
   "cell_type": "code",
   "execution_count": null,
   "metadata": {},
   "outputs": [],
   "source": []
  },
  {
   "cell_type": "code",
   "execution_count": null,
   "metadata": {},
   "outputs": [],
   "source": []
  },
  {
   "cell_type": "code",
   "execution_count": null,
   "metadata": {},
   "outputs": [],
   "source": []
  }
 ],
 "metadata": {
  "kernelspec": {
   "display_name": "Python 3",
   "language": "python",
   "name": "python3"
  },
  "language_info": {
   "codemirror_mode": {
    "name": "ipython",
    "version": 3
   },
   "file_extension": ".py",
   "mimetype": "text/x-python",
   "name": "python",
   "nbconvert_exporter": "python",
   "pygments_lexer": "ipython3",
   "version": "3.7.4"
  }
 },
 "nbformat": 4,
 "nbformat_minor": 4
}
